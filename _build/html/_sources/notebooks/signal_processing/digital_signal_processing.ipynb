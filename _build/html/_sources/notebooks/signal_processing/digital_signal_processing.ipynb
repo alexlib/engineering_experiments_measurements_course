{
 "cells": [
  {
   "cell_type": "markdown",
   "metadata": {},
   "source": [
    "# Digital signal processing"
   ]
  },
  {
   "cell_type": "markdown",
   "metadata": {},
   "source": [
    "1. [Fourier series](Fourier_coefficients_analytical_evaluation_periodic_ramp_function.ipynb)\n",
    "2. [Fourier transform of a sine](Fourier_transforms_pure_sine.ipynb)\n",
    "3. [Fourier analysis with windowing](Fourier_transform_with_windowing.ipynb)\n",
    "4. [Frequency content or spectrum analysis](Frequency_content_of_a_periodic_signal.ipynb)\n",
    "5. [More complex example with zero padding](fft_of_multi_frequency_signal_window.ipynb)"
   ]
  },
  {
   "cell_type": "code",
   "execution_count": null,
   "metadata": {},
   "outputs": [],
   "source": []
  }
 ],
 "metadata": {
  "jupytext": {
   "text_representation": {
    "extension": ".md",
    "format_name": "markdown",
    "format_version": "1.2",
    "jupytext_version": "1.4.2"
   }
  },
  "kernelspec": {
   "display_name": "Python 3 (ipykernel)",
   "language": "python",
   "name": "python3"
  },
  "language_info": {
   "codemirror_mode": {
    "name": "ipython",
    "version": 3
   },
   "file_extension": ".py",
   "mimetype": "text/x-python",
   "name": "python",
   "nbconvert_exporter": "python",
   "pygments_lexer": "ipython3",
   "version": "3.8.12"
  }
 },
 "nbformat": 4,
 "nbformat_minor": 4
}
