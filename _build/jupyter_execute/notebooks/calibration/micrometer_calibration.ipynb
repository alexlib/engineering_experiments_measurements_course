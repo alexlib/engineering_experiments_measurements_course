{
 "cells": [
  {
   "cell_type": "markdown",
   "metadata": {},
   "source": [
    "# Micrometer calibration using gage block"
   ]
  },
  {
   "cell_type": "markdown",
   "metadata": {},
   "source": [
    "1. A Federal Grade 2 accuracy gage block  is used to calibrate the measurements of a micrometer. A gage block is a calibration standard for thickness measurement, it is a block of material, steel in this case, machined to a very high accuracy of thickness. \n",
    "\n",
    "2. A Federal Grade 2 accuracy gage block is used, it meets certain tolerances for length, flatness and parallelism. Read more on https://www.nist.gov/system/files/documents/calibrations/mono180.pdf\n",
    "\n",
    "\n",
    "3. The calibrated accuracy of the micrometer can be no greater than the total error of this standard accuracy.\n",
    "\n",
    "4. The total error $e_{\\text{calibration}}$ from the calibration will be the root sum of the squares (RSS) of the bias and precision errors. "
   ]
  },
  {
   "cell_type": "code",
   "execution_count": 1,
   "metadata": {},
   "outputs": [],
   "source": [
    "from IPython.display import Image\n",
    "# Image('https://www.higherprecision.com/images/blog_images/higherprecision_gageblocks.jpg',width=500)"
   ]
  },
  {
   "cell_type": "code",
   "execution_count": 2,
   "metadata": {},
   "outputs": [
    {
     "data": {
      "image/jpeg": "[encoded data removed]",
      "text/plain": [
       "<IPython.core.display.Image object>"
      ]
     },
     "execution_count": 2,
     "metadata": {
      "filenames": {
       "image/jpeg": "/home/user/Documents/repos/engineering_experiments_measurements_course/book/_build/jupyter_execute/notebooks/calibration/micrometer_calibration_3_0.jpg"
      }
     },
     "output_type": "execute_result"
    }
   ],
   "source": [
    "Image('https://cdn.mscdirect.com/global/media/images/tech-essentials/outside-micrometer.jpg')"
   ]
  },
  {
   "cell_type": "code",
   "execution_count": 3,
   "metadata": {
    "collapsed": false,
    "jupyter": {
     "outputs_hidden": false
    }
   },
   "outputs": [],
   "source": [
    "import numpy as np"
   ]
  },
  {
   "cell_type": "markdown",
   "metadata": {},
   "source": [
    "### We performed multiple measurements and checked that the histogram is close to normal distribution"
   ]
  },
  {
   "cell_type": "code",
   "execution_count": 4,
   "metadata": {},
   "outputs": [
    {
     "data": {
      "image/gif": "[encoded data removed]",
      "text/plain": [
       "<IPython.core.display.Image object>"
      ]
     },
     "execution_count": 4,
     "metadata": {},
     "output_type": "execute_result"
    }
   ],
   "source": [
    "Image('https://www.mathsisfun.com/data/images/histogram.gif')"
   ]
  },
  {
   "cell_type": "code",
   "execution_count": 5,
   "metadata": {},
   "outputs": [],
   "source": [
    "N = 40 # 40 measurements\n",
    "mean_x = 0.12621 # inch\n",
    "s_x = 0.000146317 # inch\n",
    "t_39_95 = 2.02268893 # t-statistic for N-1 degrees of freedom\n",
    "true_x = 0.12620 # inch - true value for calibration"
   ]
  },
  {
   "cell_type": "markdown",
   "metadata": {},
   "source": [
    "$$ e_{\\text{bias}} = | \\overline{x} - x_{\\text{true}} | $$"
   ]
  },
  {
   "cell_type": "code",
   "execution_count": 6,
   "metadata": {},
   "outputs": [
    {
     "name": "stdout",
     "output_type": "stream",
     "text": [
      "Bias error = 1e-05 inch\n"
     ]
    }
   ],
   "source": [
    "# bias error\n",
    "e_bias  = np.abs(mean_x - true_x)\n",
    "print(f\"Bias error = {e_bias:g} inch\")"
   ]
  },
  {
   "cell_type": "markdown",
   "metadata": {},
   "source": [
    "$$ e_{\\text{precision}} = t_{39,95\\%} \\frac{S_x}{\\sqrt{N}} $$ "
   ]
  },
  {
   "cell_type": "code",
   "execution_count": 7,
   "metadata": {},
   "outputs": [
    {
     "name": "stdout",
     "output_type": "stream",
     "text": [
      "Precision error = 4.67944e-05 inch\n"
     ]
    }
   ],
   "source": [
    "# precision error\n",
    "e_precision = t_39_95*s_x/np.sqrt(N)\n",
    "print(f\"Precision error = {e_precision:g} inch\")"
   ]
  },
  {
   "cell_type": "markdown",
   "metadata": {},
   "source": [
    "$$ e_{\\text{resolution}} = \\frac{1}{2} \\text{resolution} $$"
   ]
  },
  {
   "cell_type": "code",
   "execution_count": 8,
   "metadata": {},
   "outputs": [
    {
     "name": "stdout",
     "output_type": "stream",
     "text": [
      "Resolution error = 2.5e-05 inch\n"
     ]
    }
   ],
   "source": [
    "# micrometer resolution\n",
    "resolution = 0.00005 # inch\n",
    "\n",
    "e_resolution = resolution/2\n",
    "print(f\"Resolution error = {e_resolution:g} inch\")"
   ]
  },
  {
   "cell_type": "markdown",
   "metadata": {},
   "source": [
    "## Standard gage blocks are not ideal, they have known tolerances and errors\n",
    "\n",
    "$$ e_{\\text{standard, total}} = \\sqrt{e_{\\text{standard},L}^2 + e_{\\text{standard},\\perp}^2 e_{\\text{standard},\\parallel}^2 } $$"
   ]
  },
  {
   "cell_type": "code",
   "execution_count": 9,
   "metadata": {},
   "outputs": [
    {
     "name": "stdout",
     "output_type": "stream",
     "text": [
      "standard gage grade 2 error = 6.9282e-06 inch\n"
     ]
    }
   ],
   "source": [
    "# Manufacturer supplied information about the gage \n",
    "# accuracy. We have chosen only grade 2 accuracy ( higher more expensive )\n",
    "e_standard_length = 4e-6 # inch\n",
    "e_standard_flattness = 4e-6 # inch\n",
    "e_standard_parallelism = 4e-6 # inch\n",
    "e_standard_total = np.sqrt(e_standard_length**2  + e_standard_flattness**2 + e_standard_parallelism**2)\n",
    "print(f\"standard gage grade 2 error = {e_standard_total:g} inch\")"
   ]
  },
  {
   "cell_type": "markdown",
   "metadata": {},
   "source": [
    "$$ \\large{e_{\\text{calibration, total}} = \\sqrt{e_{\\text{bias}}^2 + e_{\\text{precision}}^2 + e_{\\text{standard, total}}^2 + e_{\\text{resolution}}^2 } }$$"
   ]
  },
  {
   "cell_type": "code",
   "execution_count": 10,
   "metadata": {},
   "outputs": [],
   "source": [
    "# note that even if we'd use an ideal measurement system with e = 0\n",
    "# we will never get the true value as there uncertainty of the standard gage block itself\n",
    "\n",
    "# note that standard gage block uncertainty is smaller than other values\n",
    "# otherwise you need to choose a better grade of the gage block\n",
    "\n",
    "e_calibration_total = np.sqrt(e_bias**2 + e_precision**2 + e_standard_total**2 + e_resolution**2)"
   ]
  },
  {
   "cell_type": "code",
   "execution_count": 11,
   "metadata": {},
   "outputs": [
    {
     "name": "stdout",
     "output_type": "stream",
     "text": [
      "Calibration error = 5.44308e-05 inch\n"
     ]
    }
   ],
   "source": [
    "print(f\"Calibration error = {e_calibration_total:g} inch\")"
   ]
  },
  {
   "cell_type": "markdown",
   "metadata": {},
   "source": [
    "### Accuracy is mesured relative to the true value\n",
    "\n",
    "$$ \\text{accuracy} = 1 - \\frac{e_{\\text{calibration,total}}}{x_{\\text{true}} }   \\times 100\\% $$"
   ]
  },
  {
   "cell_type": "code",
   "execution_count": 12,
   "metadata": {},
   "outputs": [
    {
     "name": "stdout",
     "output_type": "stream",
     "text": [
      "Accuracy (relative) = 99.957 %\n"
     ]
    }
   ],
   "source": [
    "# our accuracy measure is \n",
    "accuracy = (1 - e_calibration_total/true_x)\n",
    "print(f\"Accuracy (relative) = {accuracy*100:.3f} %\")"
   ]
  },
  {
   "cell_type": "code",
   "execution_count": 13,
   "metadata": {},
   "outputs": [],
   "source": [
    "# from this moment and on we can use the micrometer, but we have to use its # calibration error as a bias error for all the measurements\n",
    "# remember that it already includes the resolution error, so don't repeat it. "
   ]
  },
  {
   "cell_type": "markdown",
   "metadata": {},
   "source": [
    "# Second half: use the calibrated micrometer to measure the diameter of a cylinder"
   ]
  },
  {
   "cell_type": "code",
   "execution_count": 14,
   "metadata": {},
   "outputs": [
    {
     "data": {
      "image/jpeg": "[encoded data removed]",
      "text/plain": [
       "<IPython.core.display.Image object>"
      ]
     },
     "execution_count": 14,
     "metadata": {
      "filenames": {
       "image/jpeg": "/home/user/Documents/repos/engineering_experiments_measurements_course/book/_build/jupyter_execute/notebooks/calibration/micrometer_calibration_23_0.jpg"
      }
     },
     "output_type": "execute_result"
    }
   ],
   "source": [
    "Image('https://static1.bigstockphoto.com/8/3/3/large2/338282026.jpg')"
   ]
  },
  {
   "cell_type": "code",
   "execution_count": 15,
   "metadata": {},
   "outputs": [
    {
     "name": "stdout",
     "output_type": "stream",
     "text": [
      "t value = 2.022690911734728\n"
     ]
    }
   ],
   "source": [
    "d_mean = 0.32512 # inch\n",
    "N = 40\n",
    "s_d = 0.0003 # inch\n",
    "\n",
    "from scipy.stats import t as student_t\n",
    "# for the 95 confidence level\n",
    "confidence_level = 0.95 # 95%\n",
    "alpha = 1 - confidence_level\n",
    "degrees_of_freedom = N - 1\n",
    "t_value = student_t.ppf(1-alpha/2.0, degrees_of_freedom)\n",
    "print(f\"t value = {t_value}\")"
   ]
  },
  {
   "cell_type": "markdown",
   "metadata": {},
   "source": [
    "\n",
    "### Confidence interval of the diameter measurement is:\n",
    "\n",
    "$$ e_{d,\\,\\text{cylinder}} = \\sqrt{e_{\\text{calibration, total}}^2 + \\left(t_{39,95\\%} \\frac{S_x}{\\sqrt{N}} \\right)^2 } $$"
   ]
  },
  {
   "cell_type": "code",
   "execution_count": 16,
   "metadata": {},
   "outputs": [
    {
     "name": "stdout",
     "output_type": "stream",
     "text": [
      "e_cylinder = 0.00979529 inch with 95% probability\n"
     ]
    }
   ],
   "source": [
    "e_cylinder = np.sqrt( e_calibration_total**2 + t_value*s_d/np.sqrt(N))\n",
    "print(f\"e_cylinder = {e_cylinder:g} inch with 95% probability\")"
   ]
  },
  {
   "cell_type": "code",
   "execution_count": 17,
   "metadata": {},
   "outputs": [
    {
     "data": {
      "text/plain": [
       "0.004897642723035386"
      ]
     },
     "execution_count": 17,
     "metadata": {},
     "output_type": "execute_result"
    }
   ],
   "source": [
    "e_cylinder/2"
   ]
  },
  {
   "cell_type": "markdown",
   "metadata": {},
   "source": [
    "## Cylinder diameter is \n",
    "\n",
    "$$ d_{\\text{cylinder}} = 0.325 \\pm 0.00489 \\;\\text{inch} $$"
   ]
  },
  {
   "cell_type": "code",
   "execution_count": null,
   "metadata": {},
   "outputs": [],
   "source": []
  }
 ],
 "metadata": {
  "jupytext": {
   "formats": "ipynb,py:percent,md"
  },
  "kernelspec": {
   "display_name": "Python 3 (ipykernel)",
   "language": "python",
   "name": "python3"
  },
  "language_info": {
   "codemirror_mode": {
    "name": "ipython",
    "version": 3
   },
   "file_extension": ".py",
   "mimetype": "text/x-python",
   "name": "python",
   "nbconvert_exporter": "python",
   "pygments_lexer": "ipython3",
   "version": "3.8.12"
  },
  "metadata": {
   "interpreter": {
    "hash": "4374d16277cd59720eda5e9a892d33ee7e53ac8b7c0031fbe42f60839aa8916a"
   }
  }
 },
 "nbformat": 4,
 "nbformat_minor": 4
}