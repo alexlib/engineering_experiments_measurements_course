{
 "cells": [
  {
   "cell_type": "code",
   "execution_count": 1,
   "metadata": {
    "collapsed": false,
    "jupyter": {
     "outputs_hidden": false
    }
   },
   "outputs": [],
   "source": [
    "%matplotlib inline\n",
    "import numpy as np\n",
    "import matplotlib\n",
    "import matplotlib.pyplot as plt\n",
    "import scipy.stats\n",
    "\n"
   ]
  },
  {
   "cell_type": "code",
   "execution_count": 2,
   "metadata": {
    "collapsed": false,
    "jupyter": {
     "outputs_hidden": false
    }
   },
   "outputs": [
    {
     "data": {
      "application/javascript": [
       "IPython.notebook.set_autosave_interval(30000)"
      ]
     },
     "metadata": {},
     "output_type": "display_data"
    },
    {
     "name": "stdout",
     "output_type": "stream",
     "text": [
      "Autosaving every 30 seconds\n"
     ]
    }
   ],
   "source": [
    "%autosave 30"
   ]
  },
  {
   "cell_type": "markdown",
   "metadata": {},
   "source": [
    "Statistical distribution\n",
    "========================\n",
    "\n",
    "Let's have a look how different statistical distributions look like, to have a better\n",
    "idea what to use as prior on our inference bayesian exploration.\n",
    "\n",
    "All the distributions available in scipy can be found on the docs here: http://docs.scipy.org/doc/scipy/reference/stats.html#module-scipy.stats\n",
    "\n",
    "Let's start with Discrete distributions\n",
    "\n",
    "Discrete Distributions\n",
    "----------------------\n",
    "\n",
    "\n",
    "* bernoulli:\tA Bernoulli discrete random variable.\n",
    "* binom:\tA binomial discrete random variable.\n",
    "* poisson:\tA Poisson discrete random variable.\n",
    "* ...\n",
    "\n"
   ]
  },
  {
   "cell_type": "code",
   "execution_count": 3,
   "metadata": {
    "collapsed": false,
    "jupyter": {
     "outputs_hidden": false
    }
   },
   "outputs": [],
   "source": [
    "from scipy.stats import bernoulli, poisson, binom"
   ]
  },
  {
   "cell_type": "markdown",
   "metadata": {},
   "source": [
    "Bernoulli distribution\n",
    "-----------------------\n",
    "\n",
    "Given a certain probability $p$, the Bernoulli distribution takes value $k=1$, meanwhile \n",
    "it takes $k=0$ in all the other cases $1-p$.\n",
    "\n",
    "In other words:\n",
    "\n",
    "$$\n",
    "f(k;p) = \\begin{cases}\n",
    "    p & \\text{if } k=1 \\\\\\\\ \n",
    "    1-p & \\text{if } k=0\n",
    "\\end{cases}\n",
    "$$"
   ]
  },
  {
   "cell_type": "code",
   "execution_count": 4,
   "metadata": {
    "collapsed": false,
    "jupyter": {
     "outputs_hidden": false
    }
   },
   "outputs": [
    {
     "data": {
      "text/plain": [
       "array([0, 0, 0, 0, 0, 1, 1, 1, 0, 1, 1, 1, 1, 1, 1, 0, 0, 1, 0, 1, 1, 1,\n",
       "       0, 0, 0, 0, 1, 1, 1, 1, 1, 1, 0, 1, 1, 0, 0, 1, 1, 0, 1, 1, 1, 1,\n",
       "       0, 1, 0, 1, 0, 1, 0, 0, 0, 1, 0, 1, 0, 1, 0, 0, 0, 1, 1, 0, 1, 1,\n",
       "       1, 1, 1, 0, 0, 1, 1, 0, 1, 1, 0, 1, 0, 0, 1, 1, 0, 1, 1, 1, 1, 1,\n",
       "       1, 1, 1, 0, 0, 1, 1, 1, 0, 0, 0, 1])"
      ]
     },
     "execution_count": 4,
     "metadata": {},
     "output_type": "execute_result"
    }
   ],
   "source": [
    "bernoulli.rvs(0.6, size=100)"
   ]
  },
  {
   "cell_type": "code",
   "execution_count": 5,
   "metadata": {
    "collapsed": false,
    "jupyter": {
     "outputs_hidden": false
    }
   },
   "outputs": [
    {
     "ename": "KeyError",
     "evalue": "'axes.color_cycle'",
     "output_type": "error",
     "traceback": [
      "\u001b[0;31m---------------------------------------------------------------------------\u001b[0m",
      "\u001b[0;31mKeyError\u001b[0m                                  Traceback (most recent call last)",
      "Cell \u001b[0;32mIn [5], line 3\u001b[0m\n\u001b[1;32m      1\u001b[0m a \u001b[38;5;241m=\u001b[39m np\u001b[38;5;241m.\u001b[39marange(\u001b[38;5;241m2\u001b[39m)\n\u001b[0;32m----> 3\u001b[0m colors \u001b[38;5;241m=\u001b[39m \u001b[43mmatplotlib\u001b[49m\u001b[38;5;241;43m.\u001b[39;49m\u001b[43mrcParams\u001b[49m\u001b[43m[\u001b[49m\u001b[38;5;124;43m'\u001b[39;49m\u001b[38;5;124;43maxes.color_cycle\u001b[39;49m\u001b[38;5;124;43m'\u001b[39;49m\u001b[43m]\u001b[49m\n\u001b[1;32m      4\u001b[0m plt\u001b[38;5;241m.\u001b[39mfigure(figsize\u001b[38;5;241m=\u001b[39m(\u001b[38;5;241m12\u001b[39m,\u001b[38;5;241m8\u001b[39m))\n\u001b[1;32m      5\u001b[0m \u001b[38;5;28;01mfor\u001b[39;00m i, p \u001b[38;5;129;01min\u001b[39;00m \u001b[38;5;28menumerate\u001b[39m([\u001b[38;5;241m0.1\u001b[39m, \u001b[38;5;241m0.2\u001b[39m, \u001b[38;5;241m0.6\u001b[39m, \u001b[38;5;241m0.7\u001b[39m]):\n",
      "File \u001b[0;32m~/.edm/envs/mdd/lib/python3.8/site-packages/matplotlib/__init__.py:679\u001b[0m, in \u001b[0;36mRcParams.__getitem__\u001b[0;34m(self, key)\u001b[0m\n\u001b[1;32m    676\u001b[0m         \u001b[38;5;28;01mfrom\u001b[39;00m \u001b[38;5;21;01mmatplotlib\u001b[39;00m \u001b[38;5;28;01mimport\u001b[39;00m pyplot \u001b[38;5;28;01mas\u001b[39;00m plt\n\u001b[1;32m    677\u001b[0m         plt\u001b[38;5;241m.\u001b[39mswitch_backend(rcsetup\u001b[38;5;241m.\u001b[39m_auto_backend_sentinel)\n\u001b[0;32m--> 679\u001b[0m \u001b[38;5;28;01mreturn\u001b[39;00m \u001b[38;5;28;43mdict\u001b[39;49m\u001b[38;5;241;43m.\u001b[39;49m\u001b[38;5;21;43m__getitem__\u001b[39;49m\u001b[43m(\u001b[49m\u001b[38;5;28;43mself\u001b[39;49m\u001b[43m,\u001b[49m\u001b[43m \u001b[49m\u001b[43mkey\u001b[49m\u001b[43m)\u001b[49m\n",
      "\u001b[0;31mKeyError\u001b[0m: 'axes.color_cycle'"
     ]
    }
   ],
   "source": [
    "a = np.arange(2)\n",
    "\n",
    "colors = matplotlib.rcParams['axes.color_cycle']\n",
    "plt.figure(figsize=(12,8))\n",
    "for i, p in enumerate([0.1, 0.2, 0.6, 0.7]):\n",
    "    ax = plt.subplot(1, 4, i+1)\n",
    "    plt.bar(a, bernoulli.pmf(a, p), label=p, color=colors[i], alpha=0.5)\n",
    "    ax.xaxis.set_ticks(a)\n",
    "\n",
    "    plt.legend(loc=0)\n",
    "    if i == 0:\n",
    "        plt.ylabel(\"PDF at $k$\")\n",
    "    \n",
    "\n",
    "plt.suptitle(\"Bernoulli probability\")"
   ]
  },
  {
   "cell_type": "markdown",
   "metadata": {},
   "source": [
    "Poisson Distribution\n",
    "--------------------\n",
    "\n",
    "Another discrete distribution, the *Poisson Distribution* is defined for all the integer positive number as\n",
    "\n",
    "$$P(Z=k)=\\frac{λ^ke^{−λ}}{k!}, k=0,1,2, \\ldots$$\n"
   ]
  },
  {
   "cell_type": "code",
   "execution_count": null,
   "metadata": {
    "collapsed": false,
    "jupyter": {
     "outputs_hidden": false
    }
   },
   "outputs": [],
   "source": [
    "k = np.arange(20)\n",
    "colors = matplotlib.rcParams['axes.color_cycle'] \n",
    "plt.figure(figsize=(12,8))\n",
    "for i, lambda_ in enumerate([1, 4, 6, 12]):\n",
    "    plt.bar(k, poisson.pmf(k, lambda_), label=lambda_, color=colors[i], alpha=0.4, edgecolor=colors[i], lw=3)\n",
    "    plt.legend()\n",
    "plt.title(\"Poisson distribution\")\n",
    "plt.xlabel(\"$k$\")\n",
    "plt.ylabel(\"PDF at k\")\n",
    "           \n"
   ]
  },
  {
   "cell_type": "code",
   "execution_count": null,
   "metadata": {
    "collapsed": false,
    "jupyter": {
     "outputs_hidden": false
    }
   },
   "outputs": [],
   "source": [
    "k = np.arange(15)\n",
    "plt.figure(figsize=(12,8))\n",
    "for i, lambda_ in enumerate([1, 2, 4, 6]):\n",
    "    plt.plot(k, poisson.pmf(k, lambda_), '-o', label=lambda_, color=colors[i])\n",
    "    plt.fill_between(k, poisson.pmf(k, lambda_), color=colors[i], alpha=0.5)\n",
    "    plt.legend()\n",
    "plt.title(\"Poisson distribution\")\n",
    "plt.ylabel(\"PDF at $k$\")\n",
    "plt.xlabel(\"$k$\")"
   ]
  },
  {
   "cell_type": "markdown",
   "metadata": {},
   "source": [
    "Binomial distribution\n",
    "---------------------\n",
    "\n",
    "Last but not least, the binomial distribution which is defined as:\n",
    "\n",
    "$$f(k;n,p) = Pr(X = k) = {n \\choose k} p^k (1-p)^{(n-k)}$$\n",
    "\n",
    "where \n",
    "\n",
    "$${n \\choose k} = \\frac{n!}{k!(n-k)!}$$\n",
    "\n",
    "with $k={1, 2, 3, \\ldots}$"
   ]
  },
  {
   "cell_type": "code",
   "execution_count": null,
   "metadata": {
    "collapsed": false,
    "jupyter": {
     "outputs_hidden": false
    }
   },
   "outputs": [],
   "source": [
    "plt.figure(figsize=(12,6))\n",
    "k = np.arange(0, 22)\n",
    "for p, color in zip([0.1, 0.3, 0.6, 0.8], colors):\n",
    "    rv = binom(20, p)\n",
    "    plt.plot(k, rv.pmf(k), lw=2, color=color, label=p)\n",
    "    plt.fill_between(k, rv.pmf(k), color=color, alpha=0.5)\n",
    "plt.legend()\n",
    "plt.title(\"Binomial distribution\")\n",
    "plt.tight_layout()\n",
    "plt.ylabel(\"PDF at $k$\")\n",
    "plt.xlabel(\"$k$\")"
   ]
  },
  {
   "cell_type": "markdown",
   "metadata": {},
   "source": [
    "Continous Probability Distribution\n",
    "----------------------------------\n",
    "\n",
    "They are defined for any value of a positive $x$. A lot of distribution are defined on `scipy.stats`, so I will explore only som:\n",
    "\n",
    "* alpha\tAn alpha continuous random variable.\n",
    "* beta\tA beta continuous random variable.\n",
    "* gamma\tA gamma continuous random variable.\n",
    "* expon\tAn exponential continuous random variable.\n",
    "* ..."
   ]
  },
  {
   "cell_type": "markdown",
   "metadata": {},
   "source": [
    "Alpha\n",
    "-----\n",
    "\n",
    "The Alpha distribution is defined as \n",
    "\n",
    "$$\n",
    "alpha.pdf(x,a) = \\frac{1}{x^2 \\Phi(a) \\sqrt{2*pi}} * exp(-\\frac{1}{2} (\\frac{a-1}{x})^2), \\,\\, with \\, x > 0, a > 0\n",
    "$$\n"
   ]
  },
  {
   "cell_type": "code",
   "execution_count": null,
   "metadata": {
    "collapsed": false,
    "jupyter": {
     "outputs_hidden": false
    }
   },
   "outputs": [],
   "source": [
    "x = np.linspace(0.1, 2, 100)\n",
    "alpha = scipy.stats.alpha\n",
    "alphas = [0.5, 1, 2, 4]\n",
    "plt.figure(figsize=(12,6))\n",
    "for a,c in zip(alphas,colors):\n",
    "    \n",
    "    label=r\"$\\alpha$ = {0:.1f}\".format(a)\n",
    "    plt.plot(x, alpha.pdf(x, a), lw=2, \n",
    "              color=c, label=label)\n",
    "    plt.fill_between(x, alpha.pdf(x, a), color=c, alpha = .33)\n",
    "    \n",
    "\n",
    "plt.ylabel(\"PDF at $x$\")\n",
    "plt.xlabel(\"$x$\")\n",
    "plt.title(\"Alpha distribution\")\n",
    "\n",
    "plt.legend()\n"
   ]
  },
  {
   "cell_type": "markdown",
   "metadata": {},
   "source": [
    "Beta distribution\n",
    "-----------------\n",
    "\n",
    "The Beta distribution is defined for a variabile rangin between 0 and 1. \n",
    "\n",
    "The pdf is defined as:\n",
    "\n",
    "$$\n",
    "beta.pdf(x, \\alpha, \\beta) = \\frac{1}{B(\\alpha, \\beta)}x^{\\alpha-1}(1 - x)^{\\beta-1}, \\; with \\;  0≤x≤1, \\alpha>0, \\beta>0\n",
    "$$"
   ]
  },
  {
   "cell_type": "code",
   "execution_count": null,
   "metadata": {
    "collapsed": false,
    "jupyter": {
     "outputs_hidden": false
    }
   },
   "outputs": [],
   "source": [
    "beta = scipy.stats.beta\n",
    "x = np.linspace(0,1, num=200)\n",
    "\n",
    "\n",
    "fig = plt.figure(figsize=(12,6))\n",
    "for a, b, c in zip([0.5, 0.5, 1, 2, 3], [0.5, 1, 3, 2, 5], colors):\n",
    "    plt.plot(x, beta.pdf(x, a, b), lw=2, \n",
    "             c=c, label = r\"$\\alpha = {0:.1f}, \\beta={1:.1f}$\".format(a, b))\n",
    "    plt.fill_between(x, beta.pdf(x, a, b), color=c, alpha = .1)\n",
    "    \n",
    "    \n",
    "plt.legend(loc=0)\n",
    "plt.ylabel(\"PDF at $x$\")\n",
    "plt.xlabel(\"$x$\")\n"
   ]
  },
  {
   "cell_type": "markdown",
   "metadata": {},
   "source": [
    "Gamma distribution\n",
    "------------------\n",
    "\n",
    "The gamma distribution uses the Gamma function (http://en.wikipedia.org/wiki/Gamma_function) and it has two shape parameters.\n",
    "\n",
    "$$\n",
    "gamma.pdf(x, \\alpha, scale) = \\lambda^\\alpha * x^{(\\alpha-1)} * \\frac{exp(-\\lambda * x)}{\\gamma(\\alpha)}, \\, with \\, x >= 0, \\alpha> 0, \\lambda > 0\n",
    "$$\n",
    "\n",
    "The scale parameter is equal = $1.0/\\lambda$"
   ]
  },
  {
   "cell_type": "code",
   "execution_count": null,
   "metadata": {
    "collapsed": false,
    "jupyter": {
     "outputs_hidden": false
    }
   },
   "outputs": [],
   "source": [
    "gamma = scipy.stats.gamma\n",
    "plt.figure(figsize=(12, 6))\n",
    "x = np.linspace(0, 10, num=200)\n",
    "\n",
    "for a, c in zip([0.5, 1, 2, 3, 10], colors):\n",
    "    plt.plot(x, gamma.pdf(x, a), lw=2, \n",
    "             c=c, label = r\"$\\alpha = {0:.1f}$\".format(a))\n",
    "    plt.fill_between(x, gamma.pdf(x, a), color=c, alpha = .1)\n",
    "    \n",
    "plt.legend(loc=0)\n",
    "plt.title(\"Gamma distribution with scale=1\")\n",
    "plt.ylabel(\"PDF at $x$\")\n",
    "plt.xlabel(\"$x$\")"
   ]
  },
  {
   "cell_type": "markdown",
   "metadata": {},
   "source": [
    "Exponential\n",
    "-----------\n",
    "\n",
    "The Exponantial probability function is\n",
    "\n",
    "$$ f_X(x|λ) = λ e^{−λx} , \\, x≥0$$\n",
    "\n",
    "Therefore, the random variable X has an exponential distribution with parameter λ, we say X is exponential and write\n",
    "\n",
    "$$ X∼Exp(λ) $$\n",
    "\n",
    "Given a specific λ, the expected value of an exponential random variable is equal to the inverse of λ, that is:\n",
    "\n",
    "$$ E[X|λ]= \\frac{1}{λ} $$"
   ]
  },
  {
   "cell_type": "code",
   "execution_count": null,
   "metadata": {
    "collapsed": false,
    "jupyter": {
     "outputs_hidden": false
    }
   },
   "outputs": [],
   "source": [
    "x = np.linspace(0,4, 100)\n",
    "expo = scipy.stats.expon\n",
    "lambda_ = [0.5, 1, 2, 4]\n",
    "plt.figure(figsize=(12,4))\n",
    "for l,c in zip(lambda_,colors):\n",
    "    plt.plot(x, expo.pdf(x, scale=1./l), lw=2, \n",
    "                color=c, label = \"$\\lambda = %.1f$\"%l)\n",
    "    plt.fill_between(x, expo.pdf(x, scale=1./l), color=c, alpha = .33)\n",
    "    \n",
    "plt.legend()\n",
    "plt.ylabel(\"PDF at $x$\")\n",
    "plt.xlabel(\"$x$\")\n",
    "plt.title(\"Probability density function of an Exponential random variable;\\\n",
    " differing $\\lambda$\");"
   ]
  },
  {
   "cell_type": "code",
   "execution_count": null,
   "metadata": {
    "collapsed": false,
    "jupyter": {
     "outputs_hidden": false
    }
   },
   "outputs": [],
   "source": []
  }
 ],
 "metadata": {
  "kernelspec": {
   "display_name": "Python 3 (ipykernel)",
   "language": "python",
   "name": "python3"
  },
  "language_info": {
   "codemirror_mode": {
    "name": "ipython",
    "version": 3
   },
   "file_extension": ".py",
   "mimetype": "text/x-python",
   "name": "python",
   "nbconvert_exporter": "python",
   "pygments_lexer": "ipython3",
   "version": "3.8.12"
  }
 },
 "nbformat": 4,
 "nbformat_minor": 4
}