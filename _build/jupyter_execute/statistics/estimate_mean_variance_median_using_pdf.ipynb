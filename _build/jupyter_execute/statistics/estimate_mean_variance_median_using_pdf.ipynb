{
 "cells": [
  {
   "cell_type": "markdown",
   "id": "06cd476b",
   "metadata": {},
   "source": [
    "# Statistical parameters using probability density function\n",
    "### Given probability density function, $p(x)$\n",
    "\n",
    "$ p = 2x/b^2$, $0 < x < b$\n",
    "\n",
    "### The mean value of $x$ is estimated analytically:\n",
    "$\\overline{x} = \\int\\limits_0^b x\\, p(x)\\, dx = \\int\\limits_0^b 2x^2/b^2 = \\left. 2x^3/3b^2\\right|_0^b =2b^3/3b^2 = 2b/3$\n",
    "\n",
    "\n",
    "### the median\n",
    "median: $ \\int\\limits_0^m p(x)\\,dx = 1/2 = \\int\\limits_0^m 2x/b^2\\,dx = \\left. x^2/b^2 \\right|_0^m = m^2/b^2 = 1/2$, $m = b/\\sqrt(2)$\n",
    "\n",
    "### the second moment\n",
    "second moment: $x^{(2)} = \\int\\limits_0^b x^2\\, p(x)\\, dx = \\int\\limits_0^b 2x^3/b^2 = \\left. x^4/2b^2\\right|_0^b =b^4/2b^2 = b^2/2$\n",
    "\n",
    "### the variance is the second moment less the squared mean value\n",
    "$var(x) = x^{(2)} - \\overline{x}^2 = b^2/2 - 4b^2/9 = b^2/18$\n",
    "\n"
   ]
  },
  {
   "cell_type": "code",
   "execution_count": 1,
   "id": "3de85537-c1b4-44b6-95b4-83a967fcf342",
   "metadata": {},
   "outputs": [],
   "source": [
    "from pylab import *\n",
    "import numpy as np"
   ]
  },
  {
   "cell_type": "code",
   "execution_count": 2,
   "id": "e8df1e7c",
   "metadata": {
    "collapsed": false,
    "jupyter": {
     "outputs_hidden": false
    }
   },
   "outputs": [],
   "source": [
    "def p(x,b):\n",
    "    return 2*x/(b**2)\n"
   ]
  },
  {
   "cell_type": "code",
   "execution_count": 3,
   "id": "12227245",
   "metadata": {
    "collapsed": false,
    "jupyter": {
     "outputs_hidden": false
    }
   },
   "outputs": [],
   "source": [
    "b = 2\n",
    "x = linspace(0,b,200)\n",
    "y = p(x,b) "
   ]
  },
  {
   "cell_type": "code",
   "execution_count": 4,
   "id": "fc0f33c5",
   "metadata": {
    "collapsed": false,
    "jupyter": {
     "outputs_hidden": false
    }
   },
   "outputs": [
    {
     "data": {
      "text/plain": [
       "Text(0, 0.5, '$p(x)$')"
      ]
     },
     "execution_count": 4,
     "metadata": {},
     "output_type": "execute_result"
    },
    {
     "data": {
      "image/png": "[encoded data removed]",
      "text/plain": [
       "<Figure size 640x480 with 1 Axes>"
      ]
     },
     "metadata": {
      "filenames": {
       "image/png": "/home/user/Documents/repos/engineering_experiments_measurements_course/book/_build/jupyter_execute/statistics/estimate_mean_variance_median_using_pdf_4_1.png"
      }
     },
     "output_type": "display_data"
    }
   ],
   "source": [
    "plot(x,y)\n",
    "xlabel('$x$')\n",
    "ylabel('$p(x)$')"
   ]
  },
  {
   "cell_type": "code",
   "execution_count": 5,
   "id": "ec37b4b9",
   "metadata": {
    "collapsed": false,
    "jupyter": {
     "outputs_hidden": false
    }
   },
   "outputs": [
    {
     "name": "stdout",
     "output_type": "stream",
     "text": [
      "1.3333501679250523\n",
      "1.3333333333333333\n"
     ]
    }
   ],
   "source": [
    "# approximate using the numerical integration\n",
    "print(trapz(y*x,x))\n",
    "print(2.*b/3)"
   ]
  },
  {
   "cell_type": "code",
   "execution_count": 6,
   "id": "556cbae1",
   "metadata": {
    "collapsed": false,
    "jupyter": {
     "outputs_hidden": false
    }
   },
   "outputs": [
    {
     "name": "stdout",
     "output_type": "stream",
     "text": [
      "2.000050503775157\n",
      "0.2222222222222222\n"
     ]
    }
   ],
   "source": [
    "print(trapz(y*x**2,x))\n",
    "print(b**2/18)"
   ]
  },
  {
   "cell_type": "code",
   "execution_count": 7,
   "id": "1263e6b9",
   "metadata": {
    "collapsed": false,
    "jupyter": {
     "outputs_hidden": false
    }
   },
   "outputs": [],
   "source": [
    "import sympy"
   ]
  },
  {
   "cell_type": "code",
   "execution_count": 8,
   "id": "de5ad5a1",
   "metadata": {
    "collapsed": false,
    "jupyter": {
     "outputs_hidden": false
    }
   },
   "outputs": [
    {
     "name": "stdout",
     "output_type": "stream",
     "text": [
      "2*x/b**2\n"
     ]
    }
   ],
   "source": [
    "sympy.var('x,b,p,m')\n",
    "p = 2*x/b**2\n",
    "print (p)"
   ]
  },
  {
   "cell_type": "code",
   "execution_count": 9,
   "id": "37745294",
   "metadata": {
    "collapsed": false,
    "jupyter": {
     "outputs_hidden": false
    }
   },
   "outputs": [
    {
     "data": {
      "text/latex": [
       "$\\displaystyle \\frac{2 b}{3}$"
      ],
      "text/plain": [
       "2*b/3"
      ]
     },
     "execution_count": 9,
     "metadata": {},
     "output_type": "execute_result"
    }
   ],
   "source": [
    "sympy.integrate(p*x,(x,0,b))"
   ]
  },
  {
   "cell_type": "code",
   "execution_count": 10,
   "id": "a7c23388",
   "metadata": {
    "collapsed": false,
    "jupyter": {
     "outputs_hidden": false
    }
   },
   "outputs": [
    {
     "data": {
      "text/latex": [
       "$\\displaystyle \\frac{b^{2}}{2}$"
      ],
      "text/plain": [
       "b**2/2"
      ]
     },
     "execution_count": 10,
     "metadata": {},
     "output_type": "execute_result"
    }
   ],
   "source": [
    "sympy.integrate(p*x**2,(x,0,b))"
   ]
  },
  {
   "cell_type": "code",
   "execution_count": 11,
   "id": "32557ab0",
   "metadata": {
    "collapsed": false,
    "jupyter": {
     "outputs_hidden": false
    }
   },
   "outputs": [
    {
     "data": {
      "text/latex": [
       "$\\displaystyle \\frac{m^{2}}{b^{2}}$"
      ],
      "text/plain": [
       "m**2/b**2"
      ]
     },
     "execution_count": 11,
     "metadata": {},
     "output_type": "execute_result"
    }
   ],
   "source": [
    "sympy.integrate(p,(x,0,m))"
   ]
  },
  {
   "cell_type": "code",
   "execution_count": 12,
   "id": "c1a11ff0",
   "metadata": {
    "collapsed": false,
    "jupyter": {
     "outputs_hidden": false
    }
   },
   "outputs": [
    {
     "data": {
      "text/plain": [
       "[-0.707106781186548*b, 0.707106781186548*b]"
      ]
     },
     "execution_count": 12,
     "metadata": {},
     "output_type": "execute_result"
    }
   ],
   "source": [
    "sympy.solve(m**2/b**2 - 0.5,m)"
   ]
  },
  {
   "cell_type": "code",
   "execution_count": null,
   "id": "8487fe04",
   "metadata": {
    "collapsed": false,
    "jupyter": {
     "outputs_hidden": false
    }
   },
   "outputs": [],
   "source": []
  }
 ],
 "metadata": {
  "kernelspec": {
   "display_name": "Python 3 (ipykernel)",
   "language": "python",
   "name": "python3"
  },
  "language_info": {
   "codemirror_mode": {
    "name": "ipython",
    "version": 3
   },
   "file_extension": ".py",
   "mimetype": "text/x-python",
   "name": "python",
   "nbconvert_exporter": "python",
   "pygments_lexer": "ipython3",
   "version": "3.8.12"
  }
 },
 "nbformat": 4,
 "nbformat_minor": 5
}