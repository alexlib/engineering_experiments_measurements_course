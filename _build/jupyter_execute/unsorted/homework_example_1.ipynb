{
 "cells": [
  {
   "cell_type": "markdown",
   "id": "35e9e775",
   "metadata": {},
   "source": [
    "## Homework no. 1 example\n",
    "\n",
    "Use of static calibration curve and estimate of uncertainty.\n",
    "\n",
    "1. Measure several (at least 3) calibration points and fit a regression line to the calibration curve. \n",
    "2. Linear calibration curves are desirable because they result in the best accuracy and precision. If the data is non-linear, try logarithmic approach \n",
    "3. A plot of the calibration data and the fitted line should always be examined to check for outliers and to verify linear behavior.\n",
    "\n",
    "In this example we use the residuals to calculate standard errors of the point estimates. The assumption is that the noise is uniform and random and it's not always a valid one.\n",
    "\n",
    "### Example 1\n",
    "\n",
    "Given: The following data was obtained in the analysis of concentration of a solute using spectroscopy.\n",
    "\n",
    "Required: Following calibration, a sample of concentration was analyzed and the measured transmittance was 35.6%. Report the concentration of analyte in the form of a confidence interval.\n",
    "\n",
    "\n"
   ]
  },
  {
   "cell_type": "code",
   "execution_count": 1,
   "id": "2ec0124b",
   "metadata": {
    "collapsed": false,
    "jupyter": {
     "outputs_hidden": false
    }
   },
   "outputs": [],
   "source": [
    "import numpy as np\n",
    "import pylab as pl\n"
   ]
  },
  {
   "cell_type": "code",
   "execution_count": 2,
   "id": "09a0c78a",
   "metadata": {
    "collapsed": false,
    "jupyter": {
     "outputs_hidden": false
    }
   },
   "outputs": [],
   "source": [
    "# x = np.sort(np.random.rand(5,1)*55)\n",
    "# y = "
   ]
  },
  {
   "cell_type": "code",
   "execution_count": 3,
   "id": "454c14dc",
   "metadata": {
    "collapsed": false,
    "jupyter": {
     "outputs_hidden": false
    }
   },
   "outputs": [],
   "source": [
    "# c = np.array([5.1, 17.0, 25.5, 34.0, 42.5, 51.0 ]) # concentration [ppm]\n",
    "# T = np.array([78.1, 43.2, 31.4, 18.8, 14.5, 8.7]) # transmittance, [%]\n",
    "c = np.sort(np.random.rand(6,1)*55,axis=1)\n",
    "krand = np.random.rand(1)*0.05\n",
    "T = 100*10**(-(c*krand + krand/10))+np.random.rand(6,1)*10\n",
    "\n"
   ]
  },
  {
   "cell_type": "code",
   "execution_count": 4,
   "id": "e6a02e4d",
   "metadata": {
    "collapsed": false,
    "jupyter": {
     "outputs_hidden": false
    }
   },
   "outputs": [
    {
     "data": {
      "text/plain": [
       "Text(0, 0.5, '$T$ [%]')"
      ]
     },
     "execution_count": 4,
     "metadata": {},
     "output_type": "execute_result"
    },
    {
     "data": {
      "image/png": "[encoded data removed]",
      "text/plain": [
       "<Figure size 640x480 with 1 Axes>"
      ]
     },
     "metadata": {
      "filenames": {
       "image/png": "/home/user/Documents/repos/engineering_experiments_measurements_course/book/_build/jupyter_execute/unsorted/homework_example_1_4_1.png"
      }
     },
     "output_type": "display_data"
    }
   ],
   "source": [
    "pl.plot(c,T,'o')\n",
    "pl.xlabel('$c$ [ppm]')\n",
    "pl.ylabel('$T$ [%]')\n"
   ]
  },
  {
   "cell_type": "markdown",
   "id": "8cb192e3",
   "metadata": {},
   "source": [
    "First we need to convert the transmittance into absorbance. Absorbance is known to be proportional to concentration.\n",
    "The translation is according to $a = -log(T/100)$"
   ]
  },
  {
   "cell_type": "code",
   "execution_count": 5,
   "id": "198e2243",
   "metadata": {
    "collapsed": false,
    "jupyter": {
     "outputs_hidden": false
    }
   },
   "outputs": [
    {
     "data": {
      "text/plain": [
       "Text(0, 0.5, '$a$ [a.u.]')"
      ]
     },
     "execution_count": 5,
     "metadata": {},
     "output_type": "execute_result"
    },
    {
     "data": {
      "image/png": "[encoded data removed]",
      "text/plain": [
       "<Figure size 640x480 with 1 Axes>"
      ]
     },
     "metadata": {
      "filenames": {
       "image/png": "/home/user/Documents/repos/engineering_experiments_measurements_course/book/_build/jupyter_execute/unsorted/homework_example_1_6_1.png"
      }
     },
     "output_type": "display_data"
    }
   ],
   "source": [
    "a = -np.log10(T/100)\n",
    "pl.plot(c,a,'o')\n",
    "pl.xlabel('$c$ [ppm]')\n",
    "pl.ylabel('$a$ [a.u.]')"
   ]
  },
  {
   "cell_type": "markdown",
   "id": "4b72636b",
   "metadata": {},
   "source": [
    "## Regression analysis\n",
    "Following the recipe of http://www.answermysearches.com/how-to-do-a-simple-linear-regression-in-python/124/"
   ]
  },
  {
   "cell_type": "code",
   "execution_count": 6,
   "id": "18e2a5d3",
   "metadata": {
    "collapsed": false,
    "jupyter": {
     "outputs_hidden": false
    }
   },
   "outputs": [],
   "source": [
    "from math import sqrt\n",
    "# define the new function\n",
    "def linreg(X, Y):\n",
    "    \"\"\"\n",
    "    Summary\n",
    "        Linear regression of y = ax + b\n",
    "    Usage\n",
    "        real, real, real = linreg(list, list)\n",
    "    Returns coefficients to the regression line \"y=ax+b\" from x[] and y[], and R^2 Value\n",
    "    \"\"\"\n",
    "    if len(X) != len(Y):  raise ValueError('unequal length')\n",
    "    N = len(X)\n",
    "    Sx = Sy = Sxx = Syy = Sxy = 0.0\n",
    "    for x, y in zip(X, Y):\n",
    "        Sx = Sx + x\n",
    "        Sy = Sy + y\n",
    "        Sxx = Sxx + x*x\n",
    "        Syy = Syy + y*y\n",
    "        Sxy = Sxy + x*y\n",
    "    det = Sxx * N - Sx * Sx\n",
    "    a, b = (Sxy * N - Sy * Sx)/det, (Sxx * Sy - Sx * Sxy)/det\n",
    "    meanerror = residual = 0.0\n",
    "    for x, y in zip(X, Y):\n",
    "        meanerror = meanerror + (y - Sy/N)**2\n",
    "        residual = residual + (y - a * x - b)**2\n",
    "    RR = 1 - residual/meanerror\n",
    "    ss = residual / (N-2)\n",
    "    Var_a, Var_b = ss * N / det, ss * Sxx / det\n",
    "    #print \"y=ax+b\"\n",
    "    #print \"N= %d\" % N\n",
    "    #print \"a= %g \\\\pm t_{%d;\\\\alpha/2} %g\" % (a, N-2, sqrt(Var_a))\n",
    "    #print \"b= %g \\\\pm t_{%d;\\\\alpha/2} %g\" % (b, N-2, sqrt(Var_b))\n",
    "    #print \"R^2= %g\" % RR\n",
    "    #print \"s^2= %g\" % ss\n",
    "    return a, b, RR"
   ]
  },
  {
   "cell_type": "code",
   "execution_count": 7,
   "id": "86ffd78a",
   "metadata": {
    "collapsed": false,
    "jupyter": {
     "outputs_hidden": false
    }
   },
   "outputs": [
    {
     "name": "stdout",
     "output_type": "stream",
     "text": [
      "[0.02135673] [0.20305572] [0.9164776]\n"
     ]
    }
   ],
   "source": [
    "K,b,RR = linreg(c,a)\n",
    "print (K,b,RR)"
   ]
  },
  {
   "cell_type": "code",
   "execution_count": 8,
   "id": "a0a8e1b3",
   "metadata": {
    "collapsed": false,
    "jupyter": {
     "outputs_hidden": false
    }
   },
   "outputs": [
    {
     "data": {
      "text/plain": [
       "<matplotlib.legend.Legend at 0x7f6406ec9b20>"
      ]
     },
     "execution_count": 8,
     "metadata": {},
     "output_type": "execute_result"
    },
    {
     "data": {
      "image/png": "[encoded data removed]",
      "text/plain": [
       "<Figure size 640x480 with 1 Axes>"
      ]
     },
     "metadata": {
      "filenames": {
       "image/png": "/home/user/Documents/repos/engineering_experiments_measurements_course/book/_build/jupyter_execute/unsorted/homework_example_1_10_1.png"
      }
     },
     "output_type": "display_data"
    }
   ],
   "source": [
    "a_est = c*K+b\n",
    "pl.plot(c,a,'o',c,a_est)\n",
    "pl.xlabel('$c$ [ppm]')\n",
    "pl.ylabel('$a$ [a.u.]')\n",
    "pl.title('best fit')\n",
    "pl.legend(('$a$','$c^{0.047}$'),loc='best')"
   ]
  },
  {
   "cell_type": "code",
   "execution_count": 9,
   "id": "cfd89286",
   "metadata": {
    "collapsed": false,
    "jupyter": {
     "outputs_hidden": false
    }
   },
   "outputs": [
    {
     "data": {
      "text/plain": [
       "Text(0.5, 1.0, 'Deviation plot')"
      ]
     },
     "execution_count": 9,
     "metadata": {},
     "output_type": "execute_result"
    },
    {
     "data": {
      "image/png": "[encoded data removed]",
      "text/plain": [
       "<Figure size 640x480 with 1 Axes>"
      ]
     },
     "metadata": {
      "filenames": {
       "image/png": "/home/user/Documents/repos/engineering_experiments_measurements_course/book/_build/jupyter_execute/unsorted/homework_example_1_11_1.png"
      }
     },
     "output_type": "display_data"
    }
   ],
   "source": [
    "pl.plot(c,a-a_est,'o')\n",
    "pl.grid(True)\n",
    "pl.xlabel('$c$ [ppm]')\n",
    "pl.ylabel('$a - a_{est}$ []')\n",
    "pl.title('Deviation plot')\n"
   ]
  },
  {
   "cell_type": "markdown",
   "id": "10a669df",
   "metadata": {},
   "source": [
    "Now we estimate the value from the measurement, using calibration curve\n"
   ]
  },
  {
   "cell_type": "code",
   "execution_count": 10,
   "id": "95f4ebed",
   "metadata": {
    "collapsed": false,
    "jupyter": {
     "outputs_hidden": false
    }
   },
   "outputs": [
    {
     "name": "stdout",
     "output_type": "stream",
     "text": [
      "[11.49493783]\n"
     ]
    }
   ],
   "source": [
    "T1 = 35.6# percent transmittance\n",
    "a1 = -np.log10(T1/100)\n",
    "# a = c*0.047+0.0115\n",
    "c1 = (a1 - b)/K\n",
    "print (c1)"
   ]
  },
  {
   "cell_type": "markdown",
   "id": "c2113ce3",
   "metadata": {},
   "source": [
    "Now we can assuming random white noise estimate the confidence level:"
   ]
  },
  {
   "cell_type": "code",
   "execution_count": 11,
   "id": "6eab3f06",
   "metadata": {
    "collapsed": false,
    "jupyter": {
     "outputs_hidden": false
    }
   },
   "outputs": [
    {
     "name": "stdout",
     "output_type": "stream",
     "text": [
      "[[ 0.13457935]\n",
      " [-0.05605132]\n",
      " [-0.07968797]\n",
      " [-0.11397461]\n",
      " [ 0.14987373]\n",
      " [-0.03473918]]\n",
      "We can estimate the concentration of the sample as: 11.4949 with uncertainty 0.1035\n"
     ]
    }
   ],
   "source": [
    "dev = a-a_est\n",
    "print (dev)\n",
    "stdev = np.mean(dev**2)**0.5\n",
    "\n",
    "print( \"We can estimate the concentration of the sample as: %6.4f with uncertainty %6.4f\" % (c1, stdev))"
   ]
  },
  {
   "cell_type": "markdown",
   "id": "a1b34d8e",
   "metadata": {},
   "source": [
    "More accurate assessment of uncertainty is using the t-distribution and updated standard deviation for small samples, we learn it later.\n"
   ]
  },
  {
   "cell_type": "code",
   "execution_count": 12,
   "id": "cf02781c",
   "metadata": {
    "collapsed": false,
    "jupyter": {
     "outputs_hidden": false
    }
   },
   "outputs": [
    {
     "name": "stdout",
     "output_type": "stream",
     "text": [
      "We can estimate the concentration of the sample as: 11.4949 with uncertainty 14.7745\n"
     ]
    }
   ],
   "source": [
    "Sxx = 5*np.var(c)\n",
    "cmean = np.mean(c)\n",
    "stdev1 = stdev/K*np.sqrt(1+ 1.0/6.0 + ((c1-cmean)**2)/(5*Sxx) )\n",
    "t = 2.7764 # for 97.5% confidence interval and 5 samples (n-1)\n",
    "print (\"We can estimate the concentration of the sample as: %6.4f with uncertainty %6.4f\" % (c1, stdev1*t))"
   ]
  },
  {
   "cell_type": "code",
   "execution_count": null,
   "id": "fba4e5a2",
   "metadata": {
    "collapsed": false,
    "jupyter": {
     "outputs_hidden": false
    }
   },
   "outputs": [],
   "source": []
  },
  {
   "cell_type": "code",
   "execution_count": null,
   "id": "f3958d85",
   "metadata": {
    "collapsed": false,
    "jupyter": {
     "outputs_hidden": false
    }
   },
   "outputs": [],
   "source": []
  },
  {
   "cell_type": "code",
   "execution_count": null,
   "id": "df08464a-5d0c-4caf-827b-03a0fd35feda",
   "metadata": {},
   "outputs": [],
   "source": []
  }
 ],
 "metadata": {
  "kernelspec": {
   "display_name": "Python 3 (ipykernel)",
   "language": "python",
   "name": "python3"
  },
  "language_info": {
   "codemirror_mode": {
    "name": "ipython",
    "version": 3
   },
   "file_extension": ".py",
   "mimetype": "text/x-python",
   "name": "python",
   "nbconvert_exporter": "python",
   "pygments_lexer": "ipython3",
   "version": "3.8.12"
  },
  "vscode": {
   "interpreter": {
    "hash": "03e34814937a156905f166f184e2fc1bbb91f2c043c514292aed6abea91ed019"
   }
  }
 },
 "nbformat": 4,
 "nbformat_minor": 5
}