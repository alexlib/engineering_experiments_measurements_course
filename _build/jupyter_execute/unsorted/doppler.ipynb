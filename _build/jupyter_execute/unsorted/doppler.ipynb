{
 "cells": [
  {
   "cell_type": "code",
   "execution_count": 1,
   "id": "32acf2dd",
   "metadata": {
    "collapsed": false,
    "jupyter": {
     "outputs_hidden": false
    }
   },
   "outputs": [],
   "source": [
    "# %loadpy /Users/alex/Documents/MyPython/doppler.py"
   ]
  },
  {
   "cell_type": "code",
   "execution_count": 2,
   "id": "1fd5d0b6",
   "metadata": {
    "collapsed": false,
    "jupyter": {
     "outputs_hidden": false
    }
   },
   "outputs": [],
   "source": [
    "import math\n",
    "import numpy\n",
    "import pylab\n",
    "\n",
    "\n",
    "# the wavefront class will hold the location and time that a wavefront\n",
    "# was emitted\n",
    "class wavefront:\n",
    "\n",
    "    def __init__ (self, x_emit, y_emit, w, t_emit):\n",
    "        self.x_emit = x_emit\n",
    "        self.y_emit = y_emit\n",
    "        self.w      = w           # wave propagation speed\n",
    "        self.t_emit = t_emit\n",
    "\n",
    "\n",
    "\n",
    "def doppler():\n",
    "\n",
    "    # emitter velocity (in x-direction)\n",
    "    vel = 1.0\n",
    "\n",
    "    # emitter initial coords\n",
    "    x_init = 0.0\n",
    "    y_init = 0.0\n",
    "\n",
    "    # wave velocity\n",
    "    w = 2.0\n",
    "\n",
    "    # wave frequency (# of peaks per second)\n",
    "    f = 3.0\n",
    "\n",
    "    # maximum time\n",
    "    tmax = 10.0\n",
    "    dt = 0.01\n",
    "\n",
    "    # create a list of wavefront objects that we can refer to when we\n",
    "    # want to plot things.  There are f wavefronts emitted per second,\n",
    "    # so the total number of wavefronts is tmax*f\n",
    "    t = 0\n",
    "\n",
    "    wavefronts = []\n",
    "    while (t <= tmax):\n",
    "        \n",
    "        x_emit = x_init + vel*t\n",
    "        y_emit = y_init\n",
    "\n",
    "        wavefronts.append(wavefront(x_emit, y_emit, w, t))\n",
    "        \n",
    "        t += 1/f\n",
    "\n",
    "        \n",
    "\n",
    "    # debug -- try printing out the wave propagation info\n",
    "    n = 0\n",
    "    while (n < len(wavefronts)):\n",
    "        print (n, wavefronts[n].x_emit, wavefronts[n].y_emit, wavefronts[n].t_emit)\n",
    "        n += 1\n",
    "\n",
    "\n",
    "    xmax = x_init + vel*tmax\n",
    "\n",
    "    # we will be drawing circles, so make an array with the polar angle\n",
    "    npts = 360\n",
    "    theta = numpy.arange(npts)*2*math.pi/(npts-1)\n",
    "\n",
    "\n",
    "    # step forward in time (by dt) and draw any wavefronts that have been emitted\n",
    "    iframe = 0\n",
    "    t = 0\n",
    "    while (t <= tmax):\n",
    "\n",
    "        pylab.clf()\n",
    "\n",
    "        x_source = x_init + vel*t\n",
    "        y_source = y_init\n",
    "\n",
    "        # plot the sources's path\n",
    "        pylab.plot([-1.2*xmax,1.2*xmax],[y_init,y_init],color='k')\n",
    "\n",
    "        # draw the source\n",
    "        pylab.scatter([x_source],[y_source], color='b')\n",
    "\n",
    "        # loop over the wavefronts, and draw any that have been\n",
    "        # emitted so far\n",
    "        n = 0\n",
    "        while (n < len(wavefronts)):\n",
    "\n",
    "            if (wavefronts[n].t_emit > t):\n",
    "                break\n",
    "\n",
    "            r_front = wavefronts[n].w*(t - wavefronts[n].t_emit)\n",
    "\n",
    "            # wavefronts are circles centered on their emitted coordinates\n",
    "            x_front = wavefronts[n].x_emit + r_front*numpy.cos(theta)\n",
    "            y_front = wavefronts[n].y_emit + r_front*numpy.sin(theta)\n",
    "            \n",
    "            pylab.plot(x_front, y_front, color='r')\n",
    "            \n",
    "            n += 1\n",
    "            \n",
    "        \n",
    "        pylab.subplots_adjust(left=0,right=1.0,bottom=0,top=1.0)\n",
    "\n",
    "        pylab.axis([-1.2*xmax,1.2*xmax,-1.2*xmax,1.2*xmax])\n",
    "        pylab.axis(\"off\")\n",
    "\n",
    "        f = pylab.gcf()\n",
    "        f.set_size_inches(5.0,5.0)\n",
    "\n",
    "        # outfile = \"doppler_%04d.png\" % iframe\n",
    "        # pylab.savefig(outfile)\n",
    "\n",
    "\n",
    "\n",
    "        t += dt\n",
    "        iframe += 1\n",
    "    \n",
    "\n",
    "\n"
   ]
  },
  {
   "cell_type": "code",
   "execution_count": 3,
   "id": "50b0790d",
   "metadata": {
    "collapsed": false,
    "jupyter": {
     "outputs_hidden": false
    }
   },
   "outputs": [
    {
     "name": "stdout",
     "output_type": "stream",
     "text": [
      "0 0.0 0.0 0\n",
      "1 0.3333333333333333 0.0 0.3333333333333333\n",
      "2 0.6666666666666666 0.0 0.6666666666666666\n",
      "3 1.0 0.0 1.0\n",
      "4 1.3333333333333333 0.0 1.3333333333333333\n",
      "5 1.6666666666666665 0.0 1.6666666666666665\n",
      "6 1.9999999999999998 0.0 1.9999999999999998\n",
      "7 2.333333333333333 0.0 2.333333333333333\n",
      "8 2.6666666666666665 0.0 2.6666666666666665\n",
      "9 3.0 0.0 3.0\n",
      "10 3.3333333333333335 0.0 3.3333333333333335\n",
      "11 3.666666666666667 0.0 3.666666666666667\n",
      "12 4.0 0.0 4.0\n",
      "13 4.333333333333333 0.0 4.333333333333333\n",
      "14 4.666666666666666 0.0 4.666666666666666\n",
      "15 4.999999999999999 0.0 4.999999999999999\n",
      "16 5.333333333333332 0.0 5.333333333333332\n",
      "17 5.666666666666665 0.0 5.666666666666665\n",
      "18 5.999999999999998 0.0 5.999999999999998\n",
      "19 6.333333333333331 0.0 6.333333333333331\n",
      "20 6.666666666666664 0.0 6.666666666666664\n",
      "21 6.999999999999997 0.0 6.999999999999997\n",
      "22 7.33333333333333 0.0 7.33333333333333\n",
      "23 7.666666666666663 0.0 7.666666666666663\n",
      "24 7.9999999999999964 0.0 7.9999999999999964\n",
      "25 8.33333333333333 0.0 8.33333333333333\n",
      "26 8.666666666666664 0.0 8.666666666666664\n",
      "27 8.999999999999998 0.0 8.999999999999998\n",
      "28 9.333333333333332 0.0 9.333333333333332\n",
      "29 9.666666666666666 0.0 9.666666666666666\n",
      "30 10.0 0.0 10.0\n"
     ]
    }
   ],
   "source": [
    "doppler()"
   ]
  },
  {
   "cell_type": "code",
   "execution_count": null,
   "id": "6c77dfa0",
   "metadata": {
    "collapsed": false,
    "jupyter": {
     "outputs_hidden": false
    }
   },
   "outputs": [],
   "source": []
  }
 ],
 "metadata": {
  "kernelspec": {
   "display_name": "Python 3 (ipykernel)",
   "language": "python",
   "name": "python3"
  },
  "language_info": {
   "codemirror_mode": {
    "name": "ipython",
    "version": 3
   },
   "file_extension": ".py",
   "mimetype": "text/x-python",
   "name": "python",
   "nbconvert_exporter": "python",
   "pygments_lexer": "ipython3",
   "version": "3.8.12"
  }
 },
 "nbformat": 4,
 "nbformat_minor": 5
}