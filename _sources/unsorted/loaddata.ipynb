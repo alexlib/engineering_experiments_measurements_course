{
 "cells": [
  {
   "cell_type": "markdown",
   "id": "febb70a6",
   "metadata": {},
   "source": [
    "This notebook will be executed from the [analysis](analysis.ipynb) notebook"
   ]
  },
  {
   "cell_type": "code",
   "execution_count": 1,
   "id": "564105a3",
   "metadata": {
    "collapsed": false,
    "jupyter": {
     "outputs_hidden": false
    }
   },
   "outputs": [],
   "source": [
    "import numpy as np"
   ]
  },
  {
   "cell_type": "markdown",
   "id": "eec8aa37",
   "metadata": {},
   "source": [
    "Create some dumb data"
   ]
  },
  {
   "cell_type": "code",
   "execution_count": 2,
   "id": "f04d4191",
   "metadata": {
    "collapsed": false,
    "jupyter": {
     "outputs_hidden": false
    }
   },
   "outputs": [],
   "source": [
    "x = np.linspace(0,2*np.pi)"
   ]
  },
  {
   "cell_type": "markdown",
   "id": "3171deda",
   "metadata": {},
   "source": [
    "And some 'derivative' data"
   ]
  },
  {
   "cell_type": "code",
   "execution_count": 3,
   "id": "5f8702cf",
   "metadata": {
    "collapsed": false,
    "jupyter": {
     "outputs_hidden": false
    }
   },
   "outputs": [],
   "source": [
    "s = np.sin(x)\n",
    "c = np.cos(x)"
   ]
  }
 ],
 "metadata": {
  "kernelspec": {
   "display_name": "Python 3 (ipykernel)",
   "language": "python",
   "name": "python3"
  },
  "language_info": {
   "codemirror_mode": {
    "name": "ipython",
    "version": 3
   },
   "file_extension": ".py",
   "mimetype": "text/x-python",
   "name": "python",
   "nbconvert_exporter": "python",
   "pygments_lexer": "ipython3",
   "version": "3.8.12"
  }
 },
 "nbformat": 4,
 "nbformat_minor": 5
}
