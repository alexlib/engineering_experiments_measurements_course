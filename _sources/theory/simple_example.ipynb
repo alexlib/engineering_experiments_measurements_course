{
 "cells": [
  {
   "cell_type": "markdown",
   "metadata": {},
   "source": [
    "# Simple example of mechanical measurement with uncertainty analysis"
   ]
  },
  {
   "cell_type": "markdown",
   "metadata": {},
   "source": [
    "## Source: \n",
    "\n",
    "https://www.npl.co.uk/resources/gpgs no 131\n",
    "\n"
   ]
  },
  {
   "cell_type": "markdown",
   "metadata": {},
   "source": [
    "## 1. Decide what you measure and what you need to find out from measurements"
   ]
  },
  {
   "cell_type": "markdown",
   "metadata": {},
   "source": [
    "In this example we want to measure **length of a string** and we decide to use **tape measure**. we want to know the length and we want to estimate how good we measure it. \n",
    "\n",
    "First step: think. what are the possible errors? \n",
    "\n",
    "1. errors due to the measurement device:\n",
    "- does the tape need calibration? is it calibrated already? what is the uncertainty of the calibration (it's an imported uncertainty). how much could calibration change since it was performed last time? \n",
    "- is the tape needs stretching? alignment? attachment? \n",
    "- could it bend? is bending causing shortening? \n",
    "- what is the resolution? what is the smallest change we can notice using this tape? how small are divisions on the tape? \n",
    "  \n",
    "\n",
    "2. measurement errors due to the item being measured:\n",
    "   - can this string be streteched and straight? \n",
    "   - can it be under-stretched? curly? \n",
    "   - does the temperature/humidity of the environment affect measured length? \n",
    "   - can we easily define the ends of the string? can we attack it to the tape measure? \n",
    "\n",
    "3. errors due to the measurement process and the person making measurements:\n",
    "   - how well can you line up the beginning and the end of the string? do you see it well? can you align it? \n",
    "   - how repeatable is your reading of the point between divisions? \n",
    "   - can you think of additional error sources? \n"
   ]
  },
  {
   "cell_type": "markdown",
   "metadata": {},
   "source": [
    "## 2. Measure\n",
    "\n",
    "measure and record your results clearly. state the date, the time, the serial number of the tape measure you use, an id of the string you measure. write down how the measurements are performed, how participated, environmental conditions (temperature, humidity, etc.), all other relevant remarks if you use code, Excel, etc. \n",
    "\n",
    "to be extra careful, repeat your measurement several times, attach the string every time. \n",
    "\n",
    "record all the measurements and take an average and standard deviation. e.g. 5.017 m and 0.0021 m, respectively "
   ]
  },
  {
   "cell_type": "markdown",
   "metadata": {},
   "source": [
    "## 3. Estimate uncertainty, source by source, standartize each\n",
    "\n",
    "\n",
    "- calibration: the tape measure has to be calibrated. let's assume we got a calibrated one and it says: 0.1% of reading, in calibration a normal distribution was used (it's written usually, $k$ - cover factor is 2, i.e. normal distribution). So we can take our measurement best estimate, the average, $5.017 \\times 0.0001 / 2 \\approx 2.5$ mm, $u_{\\mathrm{cal}} = 2.5 $ mm. \n",
    "\n",
    "\n",
    "- divisions of the tape are millimeters, i.e. resolution is 1 mm, reading to the nearest one leaves the ``resolution error`` which is $\\pm 0.5$ mm. let's assume that all values whithin this range are equally probable, i.e. we assume rectangular or uniform distribution, to find standard uncertainy from the resolution error we divide by the cover coefficient of uniform distribution, $\\sqrt{3}$, $u_{\\mathrm{res}} = 0.5 / \\sqrt{3} \\approx 0.3$ mm\n",
    "\n",
    "- although we can stretch the string, and the tape, probably it would have some bends along the way, so we could assume that we underestimate the actual, true length. let's assume we give it 0.2% of the measurement. so we get 10 mm. we can assume it is also uniformly distributed, so we take $u = 10/\\sqrt{3} = 5.8$ mm (rounded to the nearest 0.1 mm)\n",
    "  \n",
    "All these above are **Type B** sources, the following is **Type A**:\n",
    "\n",
    "- we need to get standard uncertainty of our repeated measurements with average and standard derviation. we calculate the standard uncertainty of the mean of the 10 readings: $$ s/\\sqrt{n} = 2.1/\\sqrt{10} = 0.7 $mm (to one decimal place)\n",
    "\n"
   ]
  },
  {
   "cell_type": "markdown",
   "metadata": {},
   "source": [
    "## 4. Decide whether the different error sources are independent of each other\n",
    "\n",
    "let's assume and write down these are independent\n"
   ]
  },
  {
   "cell_type": "markdown",
   "metadata": {},
   "source": [
    "## 5. Calculate the result of your measurement\n",
    "\n",
    "In this simple case it is to write down the average and take into account the corrections you assumed: e.g. that the tape and string are straight and parallel. \n",
    "\n",
    "$$ 5.017 \\mathrm{m} +  0.010 \\mathrm{mm} = 5.0127 \\mathrm{m} $$"
   ]
  },
  {
   "cell_type": "markdown",
   "metadata": {},
   "source": [
    "## 6. Find the combined uncertainty from all the sources\n",
    "\n",
    "$$ u = \\sqrt{(2.5^2 + 0.3^2 + 0.7^2 + 5.8^2)}  =  6.4 \\mathrm{mm} $$"
   ]
  },
  {
   "cell_type": "markdown",
   "metadata": {},
   "source": [
    "## 7. Express your result using the standard uncertainty and cover factor, write the confidence level for the cover factor\n",
    "\n",
    "For a coverage of $k=2$, we multiply the $u$ by 2 and get $u = 2 \\times 6.4 = 12.8$ mm with the confidence level of 95% (coverage factor, see the lecture about Gaussian distribution)"
   ]
  },
  {
   "cell_type": "markdown",
   "metadata": {},
   "source": [
    "![image.png](../img/npl_gpg_131.png)"
   ]
  },
  {
   "cell_type": "markdown",
   "metadata": {},
   "source": []
  }
 ],
 "metadata": {
  "language_info": {
   "name": "python"
  }
 },
 "nbformat": 4,
 "nbformat_minor": 2
}
