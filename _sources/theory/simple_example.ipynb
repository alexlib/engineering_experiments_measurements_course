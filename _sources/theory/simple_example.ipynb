{
 "cells": [
  {
   "cell_type": "markdown",
   "metadata": {},
   "source": [
    "# Simple example of mechanical measurement with uncertainty analysis"
   ]
  },
  {
   "cell_type": "markdown",
   "metadata": {},
   "source": [
    "## Source: \n",
    "\n",
    "https://www.npl.co.uk/resources/gpgs no 131\n",
    "\n"
   ]
  },
  {
   "cell_type": "markdown",
   "metadata": {},
   "source": [
    "## 1. Decide what you measure and what you need to find out from measurements"
   ]
  },
  {
   "cell_type": "markdown",
   "metadata": {},
   "source": [
    "In this example we want to measure **length of a string** and we decide to use **tape measure**. we want to know the length and we want to estimate how good we measure it. \n",
    "\n",
    "First step: think. what are the possible errors? \n",
    "\n",
    "1. errors due to the measurement device:\n",
    "- does the tape need calibration? is it calibrated already? what is the uncertainty of the calibration (it's an imported uncertainty). how much could calibration change since it was performed last time? \n",
    "- is the tape needs stretching? alignment? attachment? \n",
    "- could it bend? is bending causing shortening? \n",
    "- what is the resolution? what is the smallest change we can notice using this tape? how small are divisions on the tape? \n",
    "  \n",
    "\n",
    "2. measurement errors due to the item being measured:\n",
    "   - can this string be streteched and straight? \n",
    "   - can it be under-stretched? curly? \n",
    "   - does the temperature/humidity of the environment affect measured length? \n",
    "   - can we easily define the ends of the string? can we attack it to the tape measure? \n",
    "\n",
    "3. errors due to the measurement process and the person making measurements:\n",
    "   - how well can you line up the beginning and the end of the string? do you see it well? can you align it? \n",
    "   - how repeatable is your reading of the point between divisions? \n",
    "   - can you think of additional error sources? \n"
   ]
  },
  {
   "cell_type": "markdown",
   "metadata": {},
   "source": [
    "## 2. Measure\n",
    "\n",
    "measure and record your results clearly. state the date, the time, the serial number of the tape measure you use, an id of the string you measure. write down how the measurements are performed, how participated, environmental conditions (temperature, humidity, etc.), all other relevant remarks if you use code, Excel, etc. \n",
    "\n",
    "to be extra careful, repeat your measurement several times, attach the string every time. \n",
    "\n",
    "record all the measurements and take an average and standard deviation. e.g. 5.017 m and 0.0021 m, respectively "
   ]
  },
  {
   "cell_type": "markdown",
   "metadata": {},
   "source": [
    "## 3. Estimate uncertainty, source by source, standartize each\n",
    "\n",
    "\n",
    "- calibration: the tape measure has to be calibrated. let's assume we got a calibrated one and it says: 0.1% of reading, in calibration a normal distribution was used (it's written usually, $k$ - cover factor is 2, i.e. normal distribution). So we can take our measurement best estimate, the average, $5.017 \\times 0.0001 / 2 \\approx 2.5$ mm, $u_{\\mathrm{cal}} = 2.5 $ mm. \n",
    "\n",
    "\n",
    "- divisions of the tape are millimeters, i.e. resolution is 1 mm, reading to the nearest one leaves the ``resolution error`` which is $\\pm 0.5$ mm. let's assume that all values whithin this range are equally probable, i.e. we assume rectangular or uniform distribution, \n"
   ]
  },
  {
   "cell_type": "code",
   "execution_count": null,
   "metadata": {
    "vscode": {
     "languageId": "plaintext"
    }
   },
   "outputs": [],
   "source": []
  }
 ],
 "metadata": {
  "language_info": {
   "name": "python"
  }
 },
 "nbformat": 4,
 "nbformat_minor": 2
}
