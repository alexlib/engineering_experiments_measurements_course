{
 "cells": [
  {
   "cell_type": "markdown",
   "metadata": {},
   "source": [
    "# Uncertainty Analysis\n",
    "\n",
    "Uncertainty is calculated to support decisions based on measurements. \n",
    "\n",
    "Therefore, uncertainty estimates should realistically reflect the measurement process. In this regard, the person tasked with conducting an uncertainty analysis must be knowledgeable about the measurement process under investigation.\n",
    "\n",
    "To facilitate this endeavor, the measurement process should be described in writing. \n",
    "\n",
    "Such documentation should clearly specify the measurement equipment used, the environmental conditions during measurement, and the procedure used to obtain the measurement. \n",
    "\n",
    "## Steps\n",
    "The general uncertainty analysis procedure consists of the following steps:\n",
    "1. Define the Measurement Process\n",
    "2. Identify the Error Sources and Distributions\n",
    "3. Estimate Uncertainties\n",
    "4. Combine Uncertainties\n",
    "5. Report the Analysis Results\n",
    "\n",
    "## Details:\n",
    "\n",
    "The first step in any uncertainty analysis is to **identify the physical quantity whose value is estimated via measurement**. This quantity, sometimes referred to as the “measurand,” may be a directly measured value or indirectly determined through the measurement of other variables. It is also important to describe the test setup, environmental conditions, technical information about the instruments, reference standards, or other equipment used and the procedure for obtaining the measurement(s). This measurement process information is used to identify potential sources of\n",
    "error. Measurement process errors are the basic elements of uncertainty analysis. Once these fundamental error sources have been identified, then the appropriate distributions are selected to characterize the statistical nature of the measurement errors. \n",
    "\n",
    "With a basic understanding of error distributions and their statistics, we can estimate uncertainties. The spread in an error distribution is quantified by the distribution’s standard deviation, which is the square root of the distribution variance. Measurement uncertainty is equal to the standard deviation of the error distribution. There are two approaches to estimating measurement uncertainty. Type A estimates involve data sampling and analysis. Type B estimates use technical knowledge or recollected experience of measurement processes. Because uncertainty is equal to the square root of the distribution variance, uncertainties from different error sources can be combined by applying the “variance addition rule.” Variance\n",
    "addition provides a method for correctly combining uncertainties that accounts for correlations between error sources. When uncertainties are combined, it is also important to estimate the degrees of freedom for the combined uncertainty. Generally speaking, degrees of freedom signify the amount of information or knowledge that went into an uncertainty estimate. \n",
    "\n",
    "## Reporting Uncertainty\n",
    "\n",
    "When reporting the results of an uncertainty analysis, the following information should be included:\n",
    "1. The estimated value of the quantity of interest and its combined uncertainty and\n",
    "degrees of freedom.\n",
    "2. The mathematical relationship between the quantity of interest and the measured\n",
    "components (applies to multivariate measurements).\n",
    "3. The value of each measurement component and its combined uncertainty and\n",
    "degrees of freedom.\n",
    "4. A list of the measurement process uncertainties and associated degrees of freedom\n",
    "for each component, along with a description of how they were estimated.\n",
    "5. A list of applicable correlation coefficients, including any cross-correlations\n",
    "between component uncertainties.\n",
    "\n",
    "It is also a good practice to provide a brief description of the measurement process, including the procedures and instrumentation used, and additional data, tables and plots that help clarify the analysis results."
   ]
  }
 ],
 "metadata": {
  "language_info": {
   "name": "python"
  }
 },
 "nbformat": 4,
 "nbformat_minor": 2
}
