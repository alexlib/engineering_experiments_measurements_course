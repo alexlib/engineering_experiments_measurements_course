{
 "cells": [
  {
   "cell_type": "markdown",
   "metadata": {},
   "source": [
    "# Laboratory Notebook"
   ]
  },
  {
   "cell_type": "markdown",
   "metadata": {},
   "source": [
    "It is strongly recommended to keep a good laboratory notebook for the course. Please consult a couple of sources on the meaning, importance, requirements, tips and tricks of keeping a notebook."
   ]
  },
  {
   "cell_type": "markdown",
   "metadata": {},
   "source": [
    "1. [MIT](https://web.mit.edu/me-ugoffice/communication/labnotebooks.pdf)\n",
    "2. [Science buddies](https://www.sciencebuddies.org/science-fair-projects/science-fair/laboratory-notebooks-stem)\n",
    "3. [University of British Columbia](https://phas.ubc.ca/~phys259/2012-13Term1/pickyTA_ENPH259example.htm)\n",
    "4. [Wikipedia](https://phas.ubc.ca/~phys259/2012-13Term1/pickyTA_ENPH259example.htm)\n",
    "5. [Marie Sklodowska Curie notebook](https://twitter.com/NobelPrize/status/1589638816310050816/photo/1)\n"
   ]
  },
  {
   "cell_type": "markdown",
   "metadata": {},
   "source": []
  }
 ],
 "metadata": {
  "language_info": {
   "name": "python"
  },
  "orig_nbformat": 4
 },
 "nbformat": 4,
 "nbformat_minor": 2
}
