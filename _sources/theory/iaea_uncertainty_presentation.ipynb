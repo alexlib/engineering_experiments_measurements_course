{
 "cells": [
  {
   "cell_type": "markdown",
   "metadata": {},
   "source": [
    "# Uncertainty in simple terms from IAEA\n",
    "\n",
    "see https://www.iaea.org/sites/default/files/21/12/9_measurement_and_uncertainty.pdf"
   ]
  },
  {
   "cell_type": "markdown",
   "metadata": {},
   "source": [
    "## Measurement of physical properties is a random process\n",
    "\n",
    "- pressure, velocity, temperature are some examples of physical properties of complex physical processes, these are random - the real value is always varying\n",
    "- measurement process itself is a random process \n",
    "\n",
    "**Every measurement value is a random value and all contain some unavoidable sources of uncertainty**"
   ]
  },
  {
   "cell_type": "markdown",
   "metadata": {},
   "source": [
    "## What is measurement and what is not? \n",
    "\n",
    "- a measurement tells us about a property of something, e.g. how heavy is an object, how hot, how long, etc. **A measurement means giving a number to the property**\n",
    "- some experiments or tests are **not measurements**, e.g. counting, comparing two objects, etc. "
   ]
  },
  {
   "cell_type": "markdown",
   "metadata": {},
   "source": [
    "## Uncertainty of measureement\n",
    "- it tells something about quality of measurement\n",
    "- **Uncertainty of measurement is the doubt that exists about the result of any measurement**\n",
    "- In order to express uncertainty we need to provide **TWO** numbers: \n",
    "  - the width of the margin of doubt, the **interval**\n",
    "  - the **confidence level** (since everything is just random, we cannot be sure for 100%), how sure we are that the *true value* is within the interval "
   ]
  },
  {
   "cell_type": "markdown",
   "metadata": {},
   "source": [
    "## Error vs uncertainty\n",
    "- error is the difference between the measured value and the *true value*\n",
    "- uncertainty is a quantification of the doubt about the measurement result\n",
    "- some errors we can correct, e.g. using calibration corrections, but any error whose value we do not know is a source of uncertainty"
   ]
  },
  {
   "cell_type": "markdown",
   "metadata": {},
   "source": [
    "## Spread of results ... standard deviation ($\\sigma$)\n",
    "- the standard deviation is a measure of the dispersion of randomly occuring events around a mean\n",
    "- standard deviation is a most typical way to quantify spread. it only gives the most typical measure of how random individual readings are spread from the average of the set. \n",
    "- typically, a *rule of thumb*  2/3 of all readings is expected to fall within $\\pm 1\\sigma$ and about 95\\% within $2\\sigma$. "
   ]
  },
  {
   "cell_type": "markdown",
   "metadata": {},
   "source": [
    "## Types of errors\n",
    "1. Systematic errors \n",
    "   - uncertainties in the bias of the data, such as an unknown constant offset, instrument mis-calibration\n",
    "   - all measurements are shifted the same (though unknown) amount from the true value\n",
    "   - we consider measurements with low systematic errors more *accurate*\n",
    "\n",
    "2. Random errors\n",
    "   - arise from inherent instrument limitations, such as electronic noise, mechanical friction, and from inherent complexity of the phenomena, (e.g. thermodynamics)\n",
    "   - each measurement value fluctuates independently of previous measurements. \n",
    "   - we consider measurements with low random error as more *precise*\n",
    "\n",
    "![Accuracy vs precision, random vs systematic error](../img/accuracy_vs_precision.png)"
   ]
  },
  {
   "cell_type": "markdown",
   "metadata": {},
   "source": []
  },
  {
   "cell_type": "markdown",
   "metadata": {},
   "source": [
    "## Learn statistics\n",
    "\n",
    "measurement result we get is drawn from some statistical distribution. We need to know how to quantify it. "
   ]
  },
  {
   "cell_type": "markdown",
   "metadata": {},
   "source": [
    "## Some technical details about how to express uncertainty\n",
    "- uncertainty in a scale measuring device (ruler, caliper) is equal to the smallest increment divided by 2\n",
    "- uncertainty in a digital measuring device is equal to the smallest increment\n",
    "- whatever uncertainty is expressed, add explanation and state things explicitly so no questions about uncertainty should remain unanswered. in any case, somebody will imply that there is an uncertainty and would have to take the most strict approach. \n",
    "\n",
    "Express it always as: \n",
    "\n",
    "$$ x_\\mathrm{best} \\pm u_x$$  \n",
    "\n",
    "where $x_\\mathrm{best}$ is the best estimate (typically an average) of the result of several measurement attempts \n",
    "\n",
    "$u_x$ - uncertainty in the measurement of $x_\\mathrm{best}$\n",
    "\n",
    "\n",
    "### Rules for stating uncertainties\n",
    "\n",
    "1. experimental uncertainties should be stated to 1-significant figure:\n",
    "\n",
    "\n",
    "   $x = 31.25 \\pm 0.034953$ m/s - **wrong**\n",
    "   \n",
    "   $ x = 3.25 \\pm 0.03$ m/s \n",
    "\n",
    "** the uncertainty is just an estimate and it cannot be more precise (i.e. more significant figures) than the best estimate of the measured value**\n",
    "\n",
    "1. the last significant figure in any answer should be in the same place as the uncertainty \n",
    "\n",
    "$ a = 1261.29 \\pm 200$ cm/s$^2$ - **wrong**\n",
    "\n",
    "$ a= 1300 \\pm 200$ cm/s$^2$ \n",
    "\n",
    "\n",
    "### Significant figure is a reliably known digit\n",
    "- because zeros are just counters for the decimal point, zeros on the left do not count\n",
    "- only non-zero numbers are significant (or zeros between numbers)\n",
    "- zeros after another digit are significant: 4.00 means that we could get 4.10, 4.01 or 3.99, 4.0 means that we could only know 3.9 or 4.1 and so on. \n",
    "\n",
    "\n",
    "\n",
    "\n"
   ]
  },
  {
   "cell_type": "markdown",
   "metadata": {},
   "source": []
  }
 ],
 "metadata": {
  "language_info": {
   "name": "python"
  }
 },
 "nbformat": 4,
 "nbformat_minor": 2
}
