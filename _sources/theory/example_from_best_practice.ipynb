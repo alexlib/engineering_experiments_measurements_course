{
 "cells": [
  {
   "cell_type": "markdown",
   "metadata": {},
   "source": [
    "# Using AI tools to learn uncertainty\n",
    "1. Get a free PDF of one of the recommended sources, e.g. https://www.esscolab.com/uploads/files/measurement-guide.pdf \n",
    "2. Upload this PDF to one of the AI tools, and ask questions, e.g.\n",
    "   \n",
    "https://askyourpdf.com/conversations/d/2d36eb11-2d38-46e5-bbf0-e62027ed9112"
   ]
  },
  {
   "cell_type": "markdown",
   "metadata": {},
   "source": []
  },
  {
   "cell_type": "markdown",
   "metadata": {},
   "source": [
    "\n",
    "*Question*: can you show me a real calculation example?\n",
    "\n",
    "*Answer*: Sure! Here is a real calculation example to demonstrate the estimation and calculation of overall uncertainty in measurements:\n",
    "\n",
    "____    \n",
    "\n",
    "\n",
    "Let us say we want to measure the length of a piece of string using \n",
    "a tape measure. We take 10 repeated readings and calculate the mean \n",
    "and standard deviation of these readings.\n",
    "\n",
    "    Type A Evaluation:\n",
    "        Mean of the 10 readings: x = 5.017 m\n",
    "        Estimated standard deviation of the mean: s/n = 0.007 m\n",
    "\n",
    "    Type B Evaluation:\n",
    "        Uncertainty due to the tape measure: ±0.25 mm\n",
    "        Uncertainty due to the string not lying straight: ±0.03 m\n",
    "        Uncertainty due to the temperature effect: ±0.58 mm\n",
    "\n",
    "    Combining Uncertainties:\n",
    "        Summation in quadrature for Type A and Type B uncertainties:\n",
    "            0.007 m (Type A) squared = 0.000049 m^2\n",
    "            0.25 mm (Type B) squared = 0.000625 m^2\n",
    "            0.03 m (Type B) squared = 0.0009 m^2\n",
    "            0.58 mm (Type B) squared = 0.0003364 m^2\n",
    "        Combined standard uncertainty = square root of the sum of the squared uncertainties = 0.0253 m\n",
    "\n",
    "    Expressing the Uncertainty:\n",
    "        Using a coverage factor of k = 2 (for a 95% confidence level):\n",
    "            Expanded uncertainty = combined standard uncertainty * k = 0.0253 m * 2 = 0.0506 m\n",
    "\n",
    "Therefore, the overall uncertainty in the measurement of the length of the string is 0.0506 meters.\n",
    "\n",
    "SOURCES:\n",
    "\n",
    "    Page 20: Measurement Good Practice Guide No. 11 (Issue 2)\n",
    "    Page 27: Measurement Good Practice Guide No. 11 (Issue 2)\n"
   ]
  },
  {
   "cell_type": "markdown",
   "metadata": {},
   "source": []
  },
  {
   "cell_type": "markdown",
   "metadata": {},
   "source": [
    "### what are 8 steps to estimate and express uncertainty? "
   ]
  },
  {
   "cell_type": "markdown",
   "metadata": {},
   "source": [
    "The eight steps to estimate and express uncertainty in measurements are as follows:\n",
    "\n",
    "    Determine the objective of the measurement and identify the necessary measurements and calculations to obtain the final result.\n",
    "\n",
    "    Perform the required measurements.\n",
    "\n",
    "    Estimate the uncertainty of each input quantity that contributes to the final result and express them in similar terms.\n",
    "\n",
    "    Determine if the errors of the input quantities are independent of each other. If not, additional calculations or information may be needed.\n",
    "\n",
    "    Calculate the measurement result, including any known corrections such as calibration factors.\n",
    "\n",
    "    Combine the individual uncertainties to find the combined standard uncertainty using appropriate methods (e.g., summation in quadrature).\n",
    "\n",
    "    Express the uncertainty using a coverage factor, along with the size of the uncertainty interval, and state the level of confidence.\n",
    "\n",
    "    Document the measurement result, uncertainty, and the methodology used to obtain them.\n",
    "\n",
    "SOURCES:\n",
    "\n",
    "    Page 19: Measurement Good Practice Guide No. 11 (Issue 2)\n",
    "    Page 27: Measurement Good Practice Guide No. 11 (Issue 2)\n"
   ]
  },
  {
   "cell_type": "markdown",
   "metadata": {},
   "source": []
  }
 ],
 "metadata": {
  "language_info": {
   "name": "python"
  }
 },
 "nbformat": 4,
 "nbformat_minor": 2
}
