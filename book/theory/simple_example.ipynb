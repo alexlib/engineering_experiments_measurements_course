{
 "cells": [
  {
   "cell_type": "markdown",
   "metadata": {},
   "source": [
    "# Simple example of mechanical measurement with uncertainty analysis"
   ]
  },
  {
   "cell_type": "markdown",
   "metadata": {},
   "source": [
    "## Source: \n",
    "\n",
    "https://www.npl.co.uk/resources/gpgs no 131\n",
    "\n"
   ]
  },
  {
   "cell_type": "markdown",
   "metadata": {},
   "source": [
    "## 1. Decide what you measure and what you need to find out from measurements"
   ]
  },
  {
   "cell_type": "markdown",
   "metadata": {},
   "source": [
    "In this example we want to measure length and we decide to use tape measure. we want to know the length and we want to estimate how good we measure it. \n",
    "\n",
    "First step: think. what are the possible errors? \n",
    "- does the tape need calibration? is it calibrated already? what is the uncertainty of the calibration (it's an imported uncertainty). how much could calibration change since it was performed last time? \n",
    "- is the tape needs stretching? alignment? attachment? \n",
    "- could it bend? is bending causing shortening? \n",
    "- what is the resolution? what is the smallest change we can notice using this tape? how small are divisions on the tape? \n",
    "- "
   ]
  },
  {
   "cell_type": "markdown",
   "metadata": {},
   "source": []
  }
 ],
 "metadata": {
  "language_info": {
   "name": "python"
  }
 },
 "nbformat": 4,
 "nbformat_minor": 2
}
