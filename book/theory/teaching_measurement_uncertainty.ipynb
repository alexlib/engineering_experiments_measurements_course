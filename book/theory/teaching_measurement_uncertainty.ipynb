{
 "cells": [
  {
   "cell_type": "markdown",
   "metadata": {},
   "source": [
    "# Teaching uncertainty in mechanical measurements\n",
    "\n",
    "Following this paper by Bluestein: ![link](https://www.google.com/url?sa=t&rct=j&q=&esrc=s&source=web&cd=&cad=rja&uact=8&ved=2ahUKEwig-unH74-DAxXf3QIHHdtXAAkQFnoECBEQAQ&url=https%3A%2F%2Fpeer.asee.org%2Fteaching-measurement-uncertainty-in-a-mechanical-engineering-technology-laboratory.pdf&usg=AOvVaw1qkqg_h-in_gNoZDEDFrmP&opi=89978449)"
   ]
  },
  {
   "cell_type": "markdown",
   "metadata": {},
   "source": [
    "## Definitions and assumptions:\n",
    "   - many students hired for roles that involve measurements and tests\n",
    "   - modern methods of data collection utilize measurement uncertainty analysis\n",
    "   - our laboratory A is designed to introduce the concepts of measurements, instrumentation, and measurement uncertainty analysis\n",
    "   - we use standard mechanical measurement tools \n",
    "   - students obtain small and large sample sizes, use the idea of ``propagation of uncertainty'' using length and diameter measurements and estimate volume with its uncertainty\n",
    "   - comparing different groups results help to understand the variation involved in measurements and the concept of uncertainty, helping to work effectively in large engineering groups"
   ]
  },
  {
   "cell_type": "markdown",
   "metadata": {},
   "source": [
    "## Introduction\n",
    "\n",
    "- engineers make measurements to understand the state or performance of a system, device, process\n",
    "- all measurements are subject to error - so we need to quantify the uncertainty that complements every measurement\n",
    "- **measurement uncertainty quantifies how good the data collected**. since the true value is not known we prefer to call it **uncertainty** and uncertainty value is associated with some **level of confidence** (statistical property)\n",
    "- "
   ]
  },
  {
   "cell_type": "markdown",
   "metadata": {},
   "source": [
    "## Types of uncertainty sources or error sources\n",
    "\n",
    "- type A or *probability* sometimes called $P$ or $u_P$ \n",
    "- type B or *bias* or *systematic error uncertainty* and marked here as $B$ or $u_B$\n",
    "- combined or total uncertainty is \n",
    "\n",
    "$$ u = \\sqrt{B^2 + P^2} = \\sqrt{u_B^2 + u_P^2} $$\n",
    "\n"
   ]
  },
  {
   "cell_type": "markdown",
   "metadata": {},
   "source": [
    "## Indirect measurements, use of functions\n",
    "\n",
    "Many times the measured property can be obtained indirectly. In our example volume of a cylinder is obtained using diameter and length measurements and calculation using the function $V = \\pi D^2 L /4$. In such cases, we need to estimate how much uncertainty of diameter affects the uncertainty of volume measurement (and calculation) or in other words how *uncertainty propagates* from length to volume or from diameter to volume uncertainty. \n",
    "\n",
    "\n",
    "The theory says that if we want to measure $F = F(x_1, x_2, \\ldots x_n)$ then the uncertainty of $F$, called $u_F$ depends on the uncertainties of $x_1$ multiplied by the sensitivity factor $\\partial F/\\partial x_1$. We get: \n",
    "\n",
    "$$ u_F = \\sqrt{ (u_{x_1} \\partial F/\\partial x_1 )^2 + \\ldots (u_{x_n} \\partial F/\\partial x_n)^2} $$\n",
    "\n",
    "This estimate is valid only when we assume that all $u_{x_i}$ are *standard* i.e. have the same confidence level for all uncertainties. \n"
   ]
  },
  {
   "cell_type": "markdown",
   "metadata": {},
   "source": [
    "## Estimate best approximation of the true value and its standard uncertainty\n",
    "\n",
    "$$ \\bar{y} = \\sum y_j / m $$\n",
    "\n",
    "$$ s_y = \\left( \\sum (y_j - \\bar{y})^2 / (m-1) \\right)^{0.5} $$\n",
    "\n",
    "where $j = 1 ... m$ are the $m$ repeated measurements of the same property $y$ (e.g. length or diameter)\n",
    "\n",
    "standard uncertainty of using the mean value as the best estimate is the question what is the width of the region in which we believe that with $C%$ confidence the true value will fall in? From statistics theory we know that the true value is somewhere $\\pm s_y/\\sqrt{m} $ in 68% or $\\pm 1.96 s_y/\\sqrt{m}$ in 95% of cases if we measure indefinitely (or more than 30 times). $s_y$ is called standard deviation and its formula is known from statistics. $u_y = s_y/\\sqrt{m}$ is called standard uncertainty. $1.96 s_y/\\sqrt{m}$ is the expanded uncertainty, when it's expanded from 68% to 95% confidence level. \n",
    "\n",
    "We can write the expanded uncertainty as: \n",
    "\n",
    "$$ u_y = (z_{c/2}/\\sqrt{m}) \\left[ \\sum (y_j - \\bar{y})^2/(m-1) \\right]^{0.5} $$\n",
    "\n",
    "where $z_{c/2}$ is the so-called $z$-variable describing normal distribution, i.e. at 95% confidence level (or 0.95) we use $z_{0.95/2} = 1.96$. There is a separate lecture on statistics and use of normal and other distributions - look in the table of contents\n",
    "\n",
    "\n"
   ]
  },
  {
   "cell_type": "markdown",
   "metadata": {},
   "source": [
    "## What if $m < 30$ ? \n",
    "\n",
    "The word *standard* reflects the use of normal distribution. If we measure insufficiently small number of samples, we cannot use the factors coming from normal distribution. We have to use another type of distribution, that leaves more space to uncertainty. Such distribution is called Student *t*-distribution (see another notebook): \n",
    "\n",
    "$$ u_y = (t_{1-c, \\nu = m-1}/\\sqrt{m}) \\left[ \\sum (y_j - \\bar{y})^2/(m-1) \\right]^{0.5} $$\n"
   ]
  },
  {
   "cell_type": "markdown",
   "metadata": {},
   "source": [
    "## Measurements, an example\n",
    "\n",
    "- let's measure the volume of a cylinder rod. \n",
    "- we can measure its length using a caliper and its diameter using a micrometer (learn about those in lab A)\n",
    "- estimate the mean and standard deviation ($\\bar{y}$, $s_y$) for the length and for the diameter\n",
    "- calculate propagation sensitivity coefficients, $\\partial V/\\partial D$ and $\\partial V/\\partial L$ using the volume formula and estimate the uncertainty of rod's volume: \n",
    "\n",
    "$$ u_V = \\pi D \\left[(\\bar{L} u_D)^2 + (\\bar{D} u_L/2)^2  \\right]^{0.5}/2 $$ \n",
    "\n",
    "where $\\bar{L}$ and $\\bar{D}$ are best estimates of each, with all the associated uncertainties (calibration error of the caliper or micrometer, human error, resolution error, etc. )"
   ]
  },
  {
   "cell_type": "markdown",
   "metadata": {},
   "source": [
    "## Note - there are Type B uncertainties embedded in $u_L$, $u_D$\n",
    "\n",
    "we did not show explicitly where type B uncertainty was estimated, this is shown in other examples. Here we talk only about the combination of standard uncertainties using the root-of-sum-squared values (RSS)"
   ]
  },
  {
   "cell_type": "markdown",
   "metadata": {},
   "source": []
  }
 ],
 "metadata": {
  "kernelspec": {
   "display_name": "mdd",
   "language": "python",
   "name": "python3"
  },
  "language_info": {
   "codemirror_mode": {
    "name": "ipython",
    "version": 3
   },
   "file_extension": ".py",
   "mimetype": "text/x-python",
   "name": "python",
   "nbconvert_exporter": "python",
   "pygments_lexer": "ipython3",
   "version": "3.10.13"
  }
 },
 "nbformat": 4,
 "nbformat_minor": 2
}
