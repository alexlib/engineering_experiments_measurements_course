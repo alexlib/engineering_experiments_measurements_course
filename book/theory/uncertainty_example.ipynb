{
 "cells": [
  {
   "cell_type": "code",
   "execution_count": 3,
   "metadata": {},
   "outputs": [
    {
     "ename": "ValueError",
     "evalue": "operands could not be broadcast together with shapes (6,) (10,) ",
     "output_type": "error",
     "traceback": [
      "\u001b[0;31m---------------------------------------------------------------------------\u001b[0m",
      "\u001b[0;31mValueError\u001b[0m                                Traceback (most recent call last)",
      "Cell \u001b[0;32mIn[3], line 33\u001b[0m\n\u001b[1;32m     31\u001b[0m D \u001b[38;5;241m=\u001b[39m m\u001b[38;5;241m.\u001b[39mmean() \u001b[38;5;241m/\u001b[39m V\u001b[38;5;241m.\u001b[39mmean() \u001b[38;5;241m*\u001b[39m \u001b[38;5;241m1000\u001b[39m \u001b[38;5;66;03m# g/cm^3\u001b[39;00m\n\u001b[1;32m     32\u001b[0m \u001b[38;5;66;03m# Calculate uncertainty in density\u001b[39;00m\n\u001b[0;32m---> 33\u001b[0m dD \u001b[38;5;241m=\u001b[39m D \u001b[38;5;241m*\u001b[39m np\u001b[38;5;241m.\u001b[39msqrt(\u001b[43m(\u001b[49m\u001b[43mdM\u001b[49m\u001b[43m \u001b[49m\u001b[38;5;241;43m/\u001b[39;49m\u001b[43m \u001b[49m\u001b[43mM\u001b[49m\u001b[43m)\u001b[49m\u001b[38;5;241;43m*\u001b[39;49m\u001b[38;5;241;43m*\u001b[39;49m\u001b[38;5;241;43m2\u001b[39;49m\u001b[43m \u001b[49m\u001b[38;5;241;43m+\u001b[39;49m\u001b[43m \u001b[49m\u001b[43m(\u001b[49m\u001b[43mdV\u001b[49m\u001b[43m \u001b[49m\u001b[38;5;241;43m/\u001b[39;49m\u001b[43m \u001b[49m\u001b[43mV\u001b[49m\u001b[43m)\u001b[49m\u001b[38;5;241;43m*\u001b[39;49m\u001b[38;5;241;43m*\u001b[39;49m\u001b[38;5;241;43m2\u001b[39;49m) \u001b[38;5;66;03m# g/cm^3\u001b[39;00m\n\u001b[1;32m     34\u001b[0m \u001b[38;5;66;03m# Calculate uncertainty in volume\u001b[39;00m\n\u001b[1;32m     35\u001b[0m dV \u001b[38;5;241m=\u001b[39m np\u001b[38;5;241m.\u001b[39msqrt((dV \u001b[38;5;241m/\u001b[39m V)\u001b[38;5;241m*\u001b[39m\u001b[38;5;241m*\u001b[39m\u001b[38;5;241m2\u001b[39m \u001b[38;5;241m+\u001b[39m (\u001b[38;5;241m2\u001b[39m \u001b[38;5;241m*\u001b[39m dV)\u001b[38;5;241m*\u001b[39m\u001b[38;5;241m*\u001b[39m\u001b[38;5;241m2\u001b[39m) \u001b[38;5;66;03m# mm^3\u001b[39;00m\n",
      "\u001b[0;31mValueError\u001b[0m: operands could not be broadcast together with shapes (6,) (10,) "
     ]
    }
   ],
   "source": [
    "# Uncertainty budget for the measurement of volume of a cylinder\n",
    "# using a Vernier caliper and a micrometer screw gauge\n",
    "\n",
    "import numpy as np\n",
    "import matplotlib.pyplot as plt\n",
    "from scipy.stats import norm\n",
    "\n",
    "# Define constants\n",
    "# Vernier caliper\n",
    "dV = 0.01 # mm\n",
    "# Micrometer screw gauge\n",
    "dM = 0.001 # mm\n",
    "# Volume\n",
    "dV = 0.01 # mm\n",
    "# Density\n",
    "dD = 0.001 # g/cm^3\n",
    "# Gravitational acceleration\n",
    "g = 9.81 # m/s^2\n",
    "\n",
    "# Define measurements\n",
    "# Vernier caliper\n",
    "V = np.array([14.5, 14.4, 14.6, 14.5, 14.4, 14.5, 14.5, 14.5, 14.5, 14.5]) # mm\n",
    "# Micrometer screw gauge\n",
    "M = np.array([0.5, 0.5, 0.5, 0.5, 0.5, 0.6]) # mm\n",
    "# Mass\n",
    "m = np.array([1.0, 1.0, 1.0, 1.0, 1.0, 1.1]) # g\n",
    "\n",
    "# Calculate volume\n",
    "V = np.pi * V**2 / 4 # mm^3\n",
    "# Calculate density\n",
    "D = m.mean() / V.mean() * 1000 # g/cm^3\n",
    "# Calculate uncertainty in density\n",
    "dD = D * np.sqrt((dM / M)**2 + (dV / V)**2) # g/cm^3\n",
    "# Calculate uncertainty in volume\n",
    "dV = np.sqrt((dV / V)**2 + (2 * dV)**2) # mm^3\n",
    "# Calculate uncertainty in mass\n",
    "dm = np.ones(len(m)) * 0.1 # g\n",
    "# Calculate uncertainty in gravitational acceleration\n",
    "dg = np.ones(len(m)) * 0.01 # m/s^2\n",
    "\n",
    "# Plot histogram of density\n",
    "\n",
    "# Calculate mean and standard deviation\n",
    "D_mean = np.mean(D)\n",
    "D_std = np.std(D)\n",
    "\n",
    "# Plot histogram\n",
    "plt.hist(D, bins=10, density=True, label='Density')\n",
    "# Plot normal distribution\n",
    "x = np.linspace(D_mean - 3 * D_std, D_mean + 3 * D_std, 100)\n",
    "plt.plot(x, norm.pdf(x, D_mean, D_std), label='Normal distribution')\n",
    "# Plot mean\n",
    "plt.axvline(D_mean, color='k', linestyle='dashed', linewidth=1)\n",
    "# Plot standard deviation\n",
    "plt.axvline(D_mean + D_std, color='k', linestyle='dashed', linewidth=1)\n",
    "plt.axvline(D_mean - D_std, color='k', linestyle='dashed', linewidth=1)\n",
    "# Plot legend\n",
    "plt.legend()\n",
    "# Plot labels\n",
    "plt.xlabel('Density (g/cm^3)')\n",
    "plt.ylabel('Probability density')\n",
    "# Show plot\n",
    "plt.show()\n",
    "\n"
   ]
  }
 ],
 "metadata": {
  "kernelspec": {
   "display_name": "mdd",
   "language": "python",
   "name": "python3"
  },
  "language_info": {
   "codemirror_mode": {
    "name": "ipython",
    "version": 3
   },
   "file_extension": ".py",
   "mimetype": "text/x-python",
   "name": "python",
   "nbconvert_exporter": "python",
   "pygments_lexer": "ipython3",
   "version": "3.10.13"
  }
 },
 "nbformat": 4,
 "nbformat_minor": 2
}
