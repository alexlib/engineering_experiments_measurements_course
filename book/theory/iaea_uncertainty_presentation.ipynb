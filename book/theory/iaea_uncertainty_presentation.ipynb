{
 "cells": [
  {
   "cell_type": "markdown",
   "metadata": {},
   "source": [
    "# Uncertainty in simple terms from IAEA\n",
    "\n",
    "see https://www.iaea.org/sites/default/files/21/12/9_measurement_and_uncertainty.pdf"
   ]
  },
  {
   "cell_type": "markdown",
   "metadata": {},
   "source": [
    "## Measurement of physical properties is a random process\n",
    "\n",
    "- pressure, velocity, temperature are some examples of physical properties of complex physical processes, these are random - the real value is always varying\n",
    "- measurement process itself is a random process \n",
    "\n",
    "**Every measurement value is a random value and all contain some unavoidable sources of uncertainty**"
   ]
  },
  {
   "cell_type": "markdown",
   "metadata": {},
   "source": [
    "## What is measurement and what is not? \n",
    "\n",
    "- a measurement tells us about a property of something, e.g. how heavy is an object, how hot, how long, etc. **A measurement means giving a number to the property**\n",
    "- some experiments or tests are **not measurements**, e.g. counting, comparing two objects, etc. "
   ]
  },
  {
   "cell_type": "markdown",
   "metadata": {},
   "source": [
    "## Uncertainty of measureement\n",
    "- it tells something about quality of measurement\n",
    "- **Uncertainty of measurement is the doubt that exists about the result of any measurement**\n",
    "- In order to express uncertainty we need to provide **TWO** numbers: \n",
    "  - the width of the margin of doubt, the **interval**\n",
    "  - the **confidence level** (since everything is just random, we cannot be sure for 100%), how sure we are that the *true value* is within the interval "
   ]
  },
  {
   "cell_type": "markdown",
   "metadata": {},
   "source": [
    "## Error vs uncertainty\n",
    "- error is the difference between the measured value and the *true value*\n",
    "- uncertainty is a quantification of the doubt about the measurement result\n",
    "- some errors we can correct, e.g. using calibration corrections, but any error whose value we do not know is a source of uncertainty"
   ]
  },
  {
   "cell_type": "markdown",
   "metadata": {},
   "source": [
    "## Spread of results ... standard deviation ($\\sigma$)\n",
    "- the standard deviation is a measure of the dispersion of randomly occuring events around a mean\n",
    "- standard deviation is a most typical way to quantify spread. it only gives the most typical measure of how random individual readings are spread from the average of the set. \n",
    "- typically, a *rule of thumb*  2/3 of all readings is expected to fall within $\\pm 1\\sigma$ and about 95\\% within $2\\sigma$. "
   ]
  },
  {
   "cell_type": "markdown",
   "metadata": {},
   "source": [
    "## Types of errors\n",
    "1. Systematic errors \n",
    "   - uncertainties in the bias of the data, such as an unknown constant offset, instrument mis-calibration\n",
    "   - all measurements are shifted the same (though unknown) amount from the true value\n",
    "   - we consider measurements with low systematic errors more *accurate*\n",
    "\n",
    "2. Random errors\n",
    "   - arise from inherent instrument limitations, such as electronic noise, mechanical friction, and from inherent complexity of the phenomena, (e.g. thermodynamics)\n",
    "   - each measurement value fluctuates independently of previous measurements. \n",
    "   - we consider measurements with low random error as more *precise*"
   ]
  },
  {
   "cell_type": "markdown",
   "metadata": {},
   "source": [
    "## Learn statistics\n",
    "\n",
    "measurement result we get is drawn from some statistical distribution. We need to know how to quantify it. "
   ]
  },
  {
   "cell_type": "markdown",
   "metadata": {},
   "source": []
  }
 ],
 "metadata": {
  "language_info": {
   "name": "python"
  }
 },
 "nbformat": 4,
 "nbformat_minor": 2
}
