{
 "cells": [
  {
   "cell_type": "markdown",
   "metadata": {},
   "source": [
    "# Standardization"
   ]
  },
  {
   "cell_type": "markdown",
   "metadata": {},
   "source": [
    "Experiments and measurements are useless if not compared to standards and ethalons. Every measurement in the world should be possible to trace back to the finest possible world known standard. \n",
    "\n",
    "These are the essential standardization organizations:"
   ]
  },
  {
   "cell_type": "markdown",
   "metadata": {},
   "source": [
    "1. [BIPM - Bureau International des Poids et Measures](https://www.bipm.org/en/home) -  ensures collaboration on metrology and the maintenance of an efficient worldwide measurement system, guarantees the equivalence of national standards. \n",
    "2. [ILAC - International Laboratory Accreditation Conference](https://ilac.org/): \n",
    "3. [ISO  - International Organization for Standardization](https://www.iso.org/home.html)\n",
    "4. [NMI - National Metrology Institute, UK](https://www.npl.co.uk/about-us/national-metrology-institute)\n",
    "5. [NIST - National Institute of Standards and Technology](https://www.nist.gov/)\n",
    "5. [The Standards Institute of Israel](https://www.sii.org.il/en/)\n",
    "\n",
    "... "
   ]
  }
 ],
 "metadata": {
  "language_info": {
   "name": "python"
  },
  "orig_nbformat": 4
 },
 "nbformat": 4,
 "nbformat_minor": 2
}
