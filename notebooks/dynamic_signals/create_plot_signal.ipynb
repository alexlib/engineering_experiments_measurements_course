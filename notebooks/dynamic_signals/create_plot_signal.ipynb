{
 "cells": [
  {
   "cell_type": "markdown",
   "metadata": {},
   "source": [
    "# Signal construction and helper functions for the frequency content class \n"
   ]
  },
  {
   "cell_type": "code",
   "execution_count": 2,
   "metadata": {
    "collapsed": false
   },
   "outputs": [],
   "source": [
    "import numpy as np\n",
    "from scipy import fft\n",
    "from __future__ import division\n",
    "import matplotlib.pyplot as plt"
   ]
  },
  {
   "cell_type": "code",
   "execution_count": 3,
   "metadata": {
    "collapsed": false
   },
   "outputs": [],
   "source": [
    "def create_signal(fs,N):\n",
    "    \"\"\" create a secret periodic signal with a Gaussian noise\"\"\"\n",
    "    dt = 1./fs\n",
    "    t = np.linspace(0,N*dt,N)\n",
    "    y = 3.0+3.0*np.sin(2*np.pi*10*t)+1.2*np.sin(2*np.pi*24*t) # this is a secret function \n",
    "    noise = np.random.normal(0,1,N)\n",
    "    y += noise\n",
    "    return t, y"
   ]
  },
  {
   "cell_type": "code",
   "execution_count": 4,
   "metadata": {
    "collapsed": true
   },
   "outputs": [],
   "source": [
    "def spectrum(y,Fs):\n",
    "    \"\"\"\n",
    "    Plots a Single-Sided Amplitude Spectrum of a sampled\n",
    "    signal y(t), sampling frequency Fs (lenght of a signal \n",
    "    provides the number of samples recorded)\n",
    "    \n",
    "    Following: http://goo.gl/wRoUn\n",
    "    \"\"\"\n",
    "    n = len(y) # length of the signal\n",
    "    k = np.arange(n)\n",
    "    T = n/Fs\n",
    "    frq = k/T # two sides frequency range\n",
    "    frq = frq[range(np.int(n/2))] # one side frequency range\n",
    "    Y = 2*fft(y)/n # fft computing and normalization\n",
    "    Y = Y[range(np.int(n/2))]\n",
    "    return (frq, Y)"
   ]
  },
  {
   "cell_type": "code",
   "execution_count": 5,
   "metadata": {
    "collapsed": false
   },
   "outputs": [],
   "source": [
    "def plotSignal(t,y,fs):\n",
    "    \"\"\" plots the time signal Y(t) and the \n",
    "    frequency spectrum Y(fs), after removing\n",
    "    the DC component, Y.mean() \n",
    "    Inputs:\n",
    "        t - time signal, [sec]\n",
    "        Y - values, [Volt]\n",
    "        fs - sampling frequency, [Hz]\n",
    "    Outputs:\n",
    "        plot with two subplots: y(t) and the spectrum Y(f) \n",
    "    Usage:\n",
    "        fs = 30, N = 256\n",
    "        t,y = create_signal(fs,N)\n",
    "        plotSignal(t,y,fs,N)\n",
    "    \"\"\"\n",
    "    # t,y = create_signal(fs,N)\n",
    "    y = y - y.mean()\n",
    "    frq,Y = spectrum(y,fs) \n",
    "    \n",
    "    # Plot\n",
    "    plt.figure()\n",
    "    plt.subplot(2,1,1)\n",
    "    plt.plot(t,y,'b-')\n",
    "    plt.xlabel('$t$ [s]')\n",
    "    plt.ylabel('$Y$ [V]')\n",
    "    # axes().set_aspect(0.2)\n",
    "    # title('sampled signal')\n",
    "    plt.subplot(2,1,2)\n",
    "    plt.plot(frq,abs(Y),'r') # plotting the spectrum\n",
    "    plt.xlabel('$f$ (Hz)')\n",
    "    plt.ylabel('$|Y(f)|$')    "
   ]
  },
  {
   "cell_type": "code",
   "execution_count": 6,
   "metadata": {
    "collapsed": false
   },
   "outputs": [],
   "source": [
    "def sampling(t,y,fs):\n",
    "    \"\"\" sampling of a signal y(t) at frequency fs [Hz]\n",
    "    inputs:\n",
    "        t  - time signal [s], array of floats, dense sampled\n",
    "        y  - signal [Volt], array of floats\n",
    "        fs  - sampling frequency [Hz], float\n",
    "    \"\"\"\n",
    "    dt = 1./fs\n",
    "    ts = np.arange(t[0],t[-1],dt)\n",
    "    # ts = np.linspace(t[0],t[-1],(t[-1]-t[0])/dt)\n",
    "    ys = np.interp(ts,t,y,left=0.0,right=0.0)\n",
    "\n",
    "    return ts,ys"
   ]
  },
  {
   "cell_type": "code",
   "execution_count": 7,
   "metadata": {
    "collapsed": true
   },
   "outputs": [],
   "source": [
    "def quantization(ys,N):\n",
    "    \"\"\"quantization of a signal\n",
    "    inputs:\n",
    "        ts - time signal [s], array\n",
    "        ys - signal [Volt], array\n",
    "        N  - number of bits, scalar (2,4,8,12,...)\n",
    "    outputs:\n",
    "        yq - digitized signal at N bits\n",
    "    \"\"\"\n",
    "        #quantization\n",
    "    # N = 4 # number of bits\n",
    "    max_value = 2**(N-1) - 1\n",
    "    yq = (ys*(max_value)).astype(np.int32)/(max_value)\n",
    "    return yq"
   ]
  },
  {
   "cell_type": "code",
   "execution_count": 8,
   "metadata": {
    "collapsed": true
   },
   "outputs": [],
   "source": [
    "def clipping(y,miny=-5,maxy=5):\n",
    "    \"\"\" clipping of signal \n",
    "    inputs: \n",
    "        y - signal [V] array of floats\n",
    "        miny, maxy - lowest, highest values [V], scalar floats, default -5 ..+5 [Volt]\n",
    "    outputs:\n",
    "        y - clipped signal [V]\n",
    "    better use: numpy.clip \n",
    "    \"\"\"\n",
    "    y[y < miny] = miny\n",
    "    y[y > maxy] = maxy\n",
    "    return y"
   ]
  },
  {
   "cell_type": "code",
   "execution_count": 9,
   "metadata": {
    "collapsed": true
   },
   "outputs": [],
   "source": [
    "def find_nearest(array, values):\n",
    "    index = np.abs(np.subtract.outer(array, values)).argmin(0)\n",
    "    return array[index]"
   ]
  },
  {
   "cell_type": "code",
   "execution_count": 10,
   "metadata": {
    "collapsed": false
   },
   "outputs": [],
   "source": [
    "# sample and hold\n",
    "from scipy.interpolate import interp1d\n",
    "\n",
    "def adc(t,y,fs=1.,N=4,miny=-5.,maxy=5.,method=None):\n",
    "    \"\"\" A/D conversion\n",
    "    Inputs:\n",
    "        t - time [s] array of floats,\n",
    "        y - signal [V] array of floats,\n",
    "        fs - sampling frequency [Hz], scalar float,\n",
    "        N - number of bits of the A/D converter, (2,4,8,12,14,...)\n",
    "        miny, maxy - lowest, highest values [V], scalar floats, default -5 ..+5 [Volt]\n",
    "        method - the reconstruction method: 'zoh' = zero-and-hold, 'soh' - sample and hold or None\n",
    "    outputs:\n",
    "        ts - sampled times [s]\n",
    "        yq - sampled and digitized signal [V]\n",
    "        yr - reconstructed, sample-and-hold signal [V]\n",
    "    Usage:\n",
    "        t = np.linspace(0,10, 10000)\n",
    "        y = 5+np.sin(2*np.pi*1*t)\n",
    "        ts,yq,yr = adc(t,y,fs=4,N=14,miny=0,maxy=10) # monopolar\n",
    "        plt.figure()\n",
    "        plt.plot(t,y,'k--',lw=0.1)\n",
    "        plt.plot(ts,yq,'ro')\n",
    "        plt.plot(t, yr,'b-')\n",
    "    \"\"\"\n",
    "    # first sample\n",
    "    ts,ys = sampling(t,y,fs)\n",
    "    # clipping\n",
    "    ys = clipping(ys,miny,maxy)\n",
    "    # digitize\n",
    "    yq = quantization(ys,N)\n",
    "    # sample and hold reconstruction\n",
    "    if method is 'soh':\n",
    "        tr = t\n",
    "        soh = interp1d(ts, yq, kind='zero', bounds_error=False,fill_value=yq[-1])\n",
    "        yr = soh(tr)\n",
    "    elif method is 'zoh':\n",
    "        tr = t\n",
    "        yr = np.zeros_like(tr)\n",
    "        index = np.abs(np.subtract.outer(tr, ts)).argmin(0)\n",
    "        yr[index] = yq\n",
    "    elif method is None:\n",
    "        tr = ts\n",
    "        yr = yq\n",
    "    else:\n",
    "        raise(ValueError)\n",
    "        \n",
    "    return ts,yq,tr,yr"
   ]
  },
  {
   "cell_type": "raw",
   "metadata": {},
   "source": [
    "# example\n",
    "t = np.linspace(0,1.,500)\n",
    "y = 3+3*np.sin(2*np.pi*10*t-np.pi/2.)\n",
    "\n",
    "ts,yq,tr,yr = adc(t,y,fs=15,N=12,miny=0,maxy=10,method='soh') # monopolar\n",
    "plt.figure()\n",
    "plt.plot(t,y,'k--',lw=0.1)\n",
    "plt.plot(ts,yq,'ro')\n",
    "plt.plot(tr, yr,'b-')"
   ]
  },
  {
   "cell_type": "code",
   "execution_count": null,
   "metadata": {
    "collapsed": true
   },
   "outputs": [],
   "source": []
  }
 ],
 "metadata": {
  "kernelspec": {
   "display_name": "Python 2",
   "language": "python",
   "name": "python2"
  },
  "language_info": {
   "codemirror_mode": {
    "name": "ipython",
    "version": 2
   },
   "file_extension": ".py",
   "mimetype": "text/x-python",
   "name": "python",
   "nbconvert_exporter": "python",
   "pygments_lexer": "ipython2",
   "version": "2.7.11"
  }
 },
 "nbformat": 4,
 "nbformat_minor": 0
}
