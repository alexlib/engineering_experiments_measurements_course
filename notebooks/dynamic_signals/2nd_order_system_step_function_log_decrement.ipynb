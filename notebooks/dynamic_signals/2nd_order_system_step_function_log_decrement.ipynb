{
 "cells": [
  {
   "cell_type": "markdown",
   "metadata": {
    "slideshow": {
     "slide_type": "slide"
    }
   },
   "source": [
    "# Log decrement method\n",
    "based on lectures of Prof. Cimbala, ME341"
   ]
  },
  {
   "cell_type": "markdown",
   "metadata": {
    "slideshow": {
     "slide_type": "slide"
    }
   },
   "source": [
    "##  The log-decrement method \n",
    "The log-decrement is based on the following analysis: \n",
    "    $$ \\frac{q_o}{Kq_{is}} = 1-e^{-\\zeta \\omega_n t} \\left[ \\frac{1}{\\sqrt{1-\\zeta^2}}\\sin\\left(\\omega_n t \\sqrt{1-\\zeta^2} + \\sin^{-1} \\left(\\sqrt{1-\\zeta^2} \\right) \\right) \\right]$$\n",
    "\n",
    "and the damped natural frequency: \n",
    "$$\\omega_d = \\omega_n \\sqrt{1-\\zeta^2}$$\n",
    "\n",
    "\n",
    "Using the output of the system in time (step function response) we need to solve for $\\omega_n$ and $\\zeta$ simultaneously. The practical solution is the *log-decrement method*.\n",
    "\n",
    "When $\\zeta \\sim 0.1\\div 0.3$, then the sine function is approximately $\\pm 1$ and the magnitude only (peaks of the oscillating function) behave approximately as: \n",
    "\n",
    "$$ \\left| \\frac{q_o}{Kq_{is}} - 1 \\right| \\approx \\left| -e^{-\\zeta \\omega_n t} \\frac{1}{\\sqrt{1-\\zeta^2}} \\right| $$\n",
    "\n",
    "Therefore we plot the normalized step founction output minus 1, obtain a function that oscillates around zero, and try to extract the peaks. We can use only positive peaks and mark them as $y^*_i, \\quad i=1\\dots n$ and their time instants, $t^*$. From these values we can obtain: \n",
    "\n",
    "1. The period of oscillations if we measure the time $t$ of $n$ cycles (e.g. $n=3$ in our example), $$ T = t/n $$\n",
    "\n",
    "2. If we define the $\\log$ of the reduction of amplitude between each peak as $\\delta$: $$ \\ln \\left(\\frac{y^*_i}{y^*_{i+n}}\\right) = n\\delta$$, then the damping factor is recovered as: $$ \\zeta = \\frac{\\delta}{\\sqrt{(2\\pi)^2+\\delta^2}}$$ and the rest is straightforward: $$ \\omega_d = \\frac{2\\pi}{T} = 2\\pi f_d$$ and $$ \\omega_n = 2\\pi f_n = \\frac{\\omega_d}{\\sqrt{1-\\zeta^2}} $$ \n",
    "\n",
    "\n",
    "    "
   ]
  },
  {
   "cell_type": "code",
   "execution_count": null,
   "metadata": {
    "collapsed": false,
    "jupyter": {
     "outputs_hidden": false
    },
    "slideshow": {
     "slide_type": "slide"
    }
   },
   "outputs": [],
   "source": [
    "from IPython.core.display import Image \n",
    "Image(filename='../../img/log-decrement.png',width=600)\n"
   ]
  },
  {
   "cell_type": "code",
   "execution_count": 2,
   "metadata": {
    "collapsed": false,
    "jupyter": {
     "outputs_hidden": false
    },
    "slideshow": {
     "slide_type": "skip"
    }
   },
   "outputs": [
    {
     "name": "stdout",
     "output_type": "stream",
     "text": [
      "Populating the interactive namespace from numpy and matplotlib\n"
     ]
    }
   ],
   "source": [
    "%pylab inline"
   ]
  },
  {
   "cell_type": "code",
   "execution_count": 3,
   "metadata": {
    "collapsed": false,
    "jupyter": {
     "outputs_hidden": false
    },
    "slideshow": {
     "slide_type": "slide"
    }
   },
   "outputs": [
    {
     "data": {
      "text/plain": [
       "Text(0, 0.5, 'E [V]')"
      ]
     },
     "execution_count": 3,
     "metadata": {},
     "output_type": "execute_result"
    },
    {
     "data": {
      "image/png": "[encoded data removed]",
      "text/plain": [
       "<Figure size 432x288 with 1 Axes>"
      ]
     },
     "metadata": {
      "needs_background": "light"
     },
     "output_type": "display_data"
    }
   ],
   "source": [
    "from scipy import signal\n",
    "\n",
    "# Define transfer function\n",
    "k = 1 \t\t# sensitivity\n",
    "wn = 546.72 # rad/s\n",
    "z=0.2     # damping\n",
    "\n",
    "sys = signal.lti(k*wn**2,[1,2*z*wn, wn**2])\n",
    "\n",
    "# step function output\n",
    "t,y = sys.step(N=1000)\n",
    "\n",
    "plot(t,y)\n",
    "title('Step response')\n",
    "xlabel('$t$ [sec]')\n",
    "ylabel('E [V]')\n"
   ]
  },
  {
   "cell_type": "code",
   "execution_count": 4,
   "metadata": {
    "collapsed": false,
    "jupyter": {
     "outputs_hidden": false
    },
    "slideshow": {
     "slide_type": "skip"
    }
   },
   "outputs": [],
   "source": [
    "# note that sampling is sufficient, if not we need to apply the D/A reconstruction\n",
    "# or interpolations, which will add more noise and uncertainty to the system identification"
   ]
  },
  {
   "cell_type": "code",
   "execution_count": 5,
   "metadata": {
    "collapsed": false,
    "jupyter": {
     "outputs_hidden": false
    },
    "slideshow": {
     "slide_type": "slide"
    }
   },
   "outputs": [
    {
     "data": {
      "text/plain": [
       "Text(0, 0.5, 'E [V]')"
      ]
     },
     "execution_count": 5,
     "metadata": {},
     "output_type": "execute_result"
    },
    {
     "data": {
      "image/png": "[encoded data removed]",
      "text/plain": [
       "<Figure size 432x288 with 1 Axes>"
      ]
     },
     "metadata": {
      "needs_background": "light"
     },
     "output_type": "display_data"
    }
   ],
   "source": [
    "# plot the data as a decrement\n",
    "\n",
    "ts = t[::15]\n",
    "ys = y[::15]\n",
    "\n",
    "plot(ts,ys-1,'o')\n",
    "title('Step response')\n",
    "xlabel('$t$ [sec]')\n",
    "ylabel('E [V]')"
   ]
  },
  {
   "cell_type": "code",
   "execution_count": 6,
   "metadata": {
    "slideshow": {
     "slide_type": "slide"
    }
   },
   "outputs": [],
   "source": [
    "# we will use the open source peakdetect function from \n",
    "\n",
    "def peakdet(v, delta, x = None):\n",
    "    \"\"\"\n",
    "    Converted from MATLAB script at http://billauer.co.il/peakdet.html\n",
    "    \n",
    "    Returns two arrays\n",
    "    \n",
    "    function [maxtab, mintab]=peakdet(v, delta, x)\n",
    "    %PEAKDET Detect peaks in a vector\n",
    "    %        [MAXTAB, MINTAB] = PEAKDET(V, DELTA) finds the local\n",
    "    %        maxima and minima (\"peaks\") in the vector V.\n",
    "    %        MAXTAB and MINTAB consists of two columns. Column 1\n",
    "    %        contains indices in V, and column 2 the found values.\n",
    "    %      \n",
    "    %        With [MAXTAB, MINTAB] = PEAKDET(V, DELTA, X) the indices\n",
    "    %        in MAXTAB and MINTAB are replaced with the corresponding\n",
    "    %        X-values.\n",
    "    %\n",
    "    %        A point is considered a maximum peak if it has the maximal\n",
    "    %        value, and was preceded (to the left) by a value lower by\n",
    "    %        DELTA.\n",
    "    \n",
    "    % Eli Billauer, 3.4.05 (Explicitly not copyrighted).\n",
    "    % This function is released to the public domain; Any use is allowed.\n",
    "    \n",
    "    \"\"\"\n",
    "    maxtab = []\n",
    "    mintab = []\n",
    "       \n",
    "    if x is None:\n",
    "        x = arange(len(v))\n",
    "    \n",
    "    v = asarray(v)\n",
    "    \n",
    "    if len(v) != len(x):\n",
    "        sys.exit('Input vectors v and x must have same length')\n",
    "    \n",
    "    if not isscalar(delta):\n",
    "        sys.exit('Input argument delta must be a scalar')\n",
    "    \n",
    "    if delta <= 0:\n",
    "        sys.exit('Input argument delta must be positive')\n",
    "    \n",
    "    mn, mx = Inf, -Inf\n",
    "    mnpos, mxpos = NaN, NaN\n",
    "    \n",
    "    lookformax = True\n",
    "    \n",
    "    for i in arange(len(v)):\n",
    "        this = v[i]\n",
    "        if this > mx:\n",
    "            mx = this\n",
    "            mxpos = x[i]\n",
    "        if this < mn:\n",
    "            mn = this\n",
    "            mnpos = x[i]\n",
    "        \n",
    "        if lookformax:\n",
    "            if this < mx-delta:\n",
    "                maxtab.append((mxpos, mx))\n",
    "                mn = this\n",
    "                mnpos = x[i]\n",
    "                lookformax = False\n",
    "        else:\n",
    "            if this > mn+delta:\n",
    "                mintab.append((mnpos, mn))\n",
    "                mx = this\n",
    "                mxpos = x[i]\n",
    "                lookformax = True\n",
    "\n",
    "    return array(maxtab), array(mintab)\n",
    "\n",
    "# if __name__==\"__main__\":\n",
    "#     from matplotlib.pyplot import plot, scatter, show\n",
    "#     series = [0,0,0,2,0,0,0,-2,0,0,0,2,0,0,0,-2,0]\n",
    "#     maxtab, mintab = peakdet(series,.3)\n",
    "#     plot(series)\n",
    "#     scatter(array(maxtab)[:,0], array(maxtab)[:,1], color='blue')\n",
    "#     scatter(array(mintab)[:,0], array(mintab)[:,1], color='red')\n",
    "#     show()"
   ]
  },
  {
   "cell_type": "code",
   "execution_count": 7,
   "metadata": {
    "collapsed": false,
    "jupyter": {
     "outputs_hidden": false
    },
    "slideshow": {
     "slide_type": "slide"
    }
   },
   "outputs": [],
   "source": [
    "maxtab, mintab = peakdet(ys-1,.01,ts)"
   ]
  },
  {
   "cell_type": "code",
   "execution_count": 8,
   "metadata": {
    "collapsed": false,
    "jupyter": {
     "outputs_hidden": false
    },
    "slideshow": {
     "slide_type": "slide"
    }
   },
   "outputs": [
    {
     "data": {
      "text/plain": [
       "array([[0.0057674 , 0.52586962],\n",
       "       [0.0173022 , 0.14414951],\n",
       "       [0.02979824, 0.03919356],\n",
       "       [0.04133304, 0.01110418]])"
      ]
     },
     "execution_count": 8,
     "metadata": {},
     "output_type": "execute_result"
    }
   ],
   "source": [
    "# we need only positive peaks, maxima:\n",
    "maxtab"
   ]
  },
  {
   "cell_type": "code",
   "execution_count": 9,
   "metadata": {
    "collapsed": false,
    "jupyter": {
     "outputs_hidden": false
    },
    "slideshow": {
     "slide_type": "slide"
    }
   },
   "outputs": [
    {
     "data": {
      "text/plain": [
       "Text(0, 0.5, 'E [V]')"
      ]
     },
     "execution_count": 9,
     "metadata": {},
     "output_type": "execute_result"
    },
    {
     "data": {
      "image/png": "[encoded data removed]",
      "text/plain": [
       "<Figure size 432x288 with 1 Axes>"
      ]
     },
     "metadata": {
      "needs_background": "light"
     },
     "output_type": "display_data"
    }
   ],
   "source": [
    "# We see 4 peaks and therefore n = 4\n",
    "tstar = maxtab[:,0]\n",
    "ystar = maxtab[:,1]\n",
    "\n",
    "# plot the data with the peaks\n",
    "\n",
    "plot(ts,ys-1,'x',tstar,ystar,'ro',markersize=8)\n",
    "title('Step response')\n",
    "xlabel('$t$ [sec]')\n",
    "ylabel('E [V]')"
   ]
  },
  {
   "cell_type": "code",
   "execution_count": 10,
   "metadata": {
    "collapsed": false,
    "jupyter": {
     "outputs_hidden": false
    },
    "slideshow": {
     "slide_type": "slide"
    }
   },
   "outputs": [
    {
     "name": "stdout",
     "output_type": "stream",
     "text": [
      "cycles = 3\n"
     ]
    }
   ],
   "source": [
    "n = len(tstar)-1\n",
    "print(\"cycles = %d\" % n)"
   ]
  },
  {
   "cell_type": "code",
   "execution_count": 11,
   "metadata": {
    "collapsed": false,
    "jupyter": {
     "outputs_hidden": false
    },
    "slideshow": {
     "slide_type": "slide"
    }
   },
   "outputs": [
    {
     "name": "stdout",
     "output_type": "stream",
     "text": [
      "period T= 0.012 sec\n"
     ]
    }
   ],
   "source": [
    "T = (tstar[-1] - tstar[0])/(n)\n",
    "print (\"period T= %4.3f sec\" % T)"
   ]
  },
  {
   "cell_type": "code",
   "execution_count": 12,
   "metadata": {
    "collapsed": false,
    "jupyter": {
     "outputs_hidden": false
    },
    "slideshow": {
     "slide_type": "slide"
    }
   },
   "outputs": [
    {
     "name": "stdout",
     "output_type": "stream",
     "text": [
      "delta = 1.286 \n"
     ]
    }
   ],
   "source": [
    "# delta \n",
    "d = log(ystar[0]/ystar[-1])/(n)\n",
    "print (\"delta = %4.3f \" % d)"
   ]
  },
  {
   "cell_type": "code",
   "execution_count": 13,
   "metadata": {
    "collapsed": false,
    "jupyter": {
     "outputs_hidden": false
    },
    "slideshow": {
     "slide_type": "slide"
    }
   },
   "outputs": [
    {
     "name": "stdout",
     "output_type": "stream",
     "text": [
      "natural frequency = 540.979\n",
      "damping factor = 0.201\n",
      "compare to the original: 546.72, 0.2\n"
     ]
    }
   ],
   "source": [
    "# recover the damping and the frequency:\n",
    "zeta= d/(sqrt((2*pi)**2 + d**2))\n",
    "omegad = 2*pi/T\n",
    "omegan = omegad/(sqrt(1-zeta**2))\n",
    "# output\n",
    "print (\"natural frequency = %4.3f\" % omegan)\n",
    "print (\"damping factor = %4.3f\" % zeta)\n",
    "print (\"compare to the original: 546.72, 0.2\")"
   ]
  }
 ],
 "metadata": {
  "kernelspec": {
   "display_name": "Python [conda env:mdd] *",
   "language": "python",
   "name": "conda-env-mdd-py"
  },
  "language_info": {
   "codemirror_mode": {
    "name": "ipython",
    "version": 3
   },
   "file_extension": ".py",
   "mimetype": "text/x-python",
   "name": "python",
   "nbconvert_exporter": "python",
   "pygments_lexer": "ipython3",
   "version": "3.7.6"
  }
 },
 "nbformat": 4,
 "nbformat_minor": 4
}
