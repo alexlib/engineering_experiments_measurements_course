{
 "cells": [
  {
   "cell_type": "code",
   "execution_count": 1,
   "metadata": {
    "collapsed": false,
    "jupyter": {
     "outputs_hidden": false
    }
   },
   "outputs": [],
   "source": [
    "from sympy import *\n",
    "init_printing(pretty_print=True,use_latex=True)\n",
    "%matplotlib inline\n",
    "import matplotlib.pyplot as plt"
   ]
  },
  {
   "cell_type": "code",
   "execution_count": 2,
   "metadata": {
    "collapsed": false,
    "jupyter": {
     "outputs_hidden": false
    }
   },
   "outputs": [],
   "source": [
    "f,t,T,G = symbols('f t T G')"
   ]
  },
  {
   "cell_type": "code",
   "execution_count": 3,
   "metadata": {
    "collapsed": false,
    "jupyter": {
     "outputs_hidden": false
    }
   },
   "outputs": [
    {
     "name": "stdout",
     "output_type": "stream",
     "text": [
      "f =  G*t\n"
     ]
    }
   ],
   "source": [
    "f = G*t\n",
    "print('f = ', f)"
   ]
  },
  {
   "cell_type": "code",
   "execution_count": 4,
   "metadata": {
    "collapsed": false,
    "jupyter": {
     "outputs_hidden": false
    }
   },
   "outputs": [
    {
     "name": "stderr",
     "output_type": "stream",
     "text": [
      "C:\\Users\\alex\\Miniconda3\\envs\\mdd\\lib\\site-packages\\sympy\\plotting\\plot.py:1065: MatplotlibDeprecationWarning: \n",
      "The set_smart_bounds function was deprecated in Matplotlib 3.2 and will be removed two minor releases later.\n",
      "  self.ax[i].spines['left'].set_smart_bounds(True)\n",
      "C:\\Users\\alex\\Miniconda3\\envs\\mdd\\lib\\site-packages\\sympy\\plotting\\plot.py:1066: MatplotlibDeprecationWarning: \n",
      "The set_smart_bounds function was deprecated in Matplotlib 3.2 and will be removed two minor releases later.\n",
      "  self.ax[i].spines['bottom'].set_smart_bounds(False)\n"
     ]
    },
    {
     "data": {
      "image/png": "[encoded data removed]",
      "text/plain": [
       "<Figure size 432x288 with 1 Axes>"
      ]
     },
     "metadata": {
      "needs_background": "light"
     },
     "output_type": "display_data"
    },
    {
     "data": {
      "text/plain": [
       "<sympy.plotting.plot.Plot at 0x23967741a08>"
      ]
     },
     "execution_count": 4,
     "metadata": {},
     "output_type": "execute_result"
    }
   ],
   "source": [
    "plot((f.subs(G,25),(t,0,1)),((f-25).subs(G,25),(t,1,2)),((f-50).subs(G,25),(t,2,3)), ylabel='f = 25 t [V]',xlabel='t [sec]',xlim = (0,3))"
   ]
  },
  {
   "cell_type": "code",
   "execution_count": 5,
   "metadata": {
    "collapsed": false,
    "jupyter": {
     "outputs_hidden": false
    }
   },
   "outputs": [
    {
     "name": "stdout",
     "output_type": "stream",
     "text": [
      "G*T/2\n",
      "25/2\n"
     ]
    }
   ],
   "source": [
    "c0 = integrate(f,(t,0,T))*(1/T)\n",
    "print(c0) \n",
    "print(c0.subs([(G,25),(T,1)]))"
   ]
  },
  {
   "cell_type": "code",
   "execution_count": 6,
   "metadata": {
    "collapsed": false,
    "jupyter": {
     "outputs_hidden": false
    }
   },
   "outputs": [],
   "source": [
    "a1 = (2/T)*integrate(f*sin(2*pi*t),(t,0,T))"
   ]
  },
  {
   "cell_type": "code",
   "execution_count": 7,
   "metadata": {
    "collapsed": false,
    "jupyter": {
     "outputs_hidden": false
    }
   },
   "outputs": [
    {
     "name": "stdout",
     "output_type": "stream",
     "text": [
      "2*G*(-T*cos(2*pi*T)/(2*pi) + sin(2*pi*T)/(4*pi**2))/T\n",
      "-7.96178343949045\n"
     ]
    }
   ],
   "source": [
    "print(a1)\n",
    "print(a1.subs([(T,1),(pi, 3.14),(G,25)]))"
   ]
  },
  {
   "cell_type": "code",
   "execution_count": 8,
   "metadata": {
    "collapsed": false,
    "jupyter": {
     "outputs_hidden": false
    }
   },
   "outputs": [],
   "source": [
    "a,b = [],[]\n",
    "for n in range(10):\n",
    "    a.append((2/T)*integrate(f*sin(n*pi*t),(t,0,T)))\n",
    "    b.append((2/T)*integrate(f*cos(n*pi*t),(t,0,T)))"
   ]
  },
  {
   "cell_type": "code",
   "execution_count": 9,
   "metadata": {
    "collapsed": false,
    "jupyter": {
     "outputs_hidden": false
    }
   },
   "outputs": [
    {
     "data": {
      "image/png": "[encoded data removed]",
      "text/latex": [
       "$\\displaystyle \\left( \\frac{2 G \\left(- \\frac{T \\cos{\\left(9 \\pi T \\right)}}{9 \\pi} + \\frac{\\sin{\\left(9 \\pi T \\right)}}{81 \\pi^{2}}\\right)}{T}, \\  \\frac{2 \\left(G \\left(\\frac{T \\sin{\\left(9 \\pi T \\right)}}{9 \\pi} + \\frac{\\cos{\\left(9 \\pi T \\right)}}{81 \\pi^{2}}\\right) - \\frac{G}{81 \\pi^{2}}\\right)}{T}\\right)$"
      ],
      "text/plain": [
       "⎛    ⎛  T⋅cos(9⋅π⋅T)   sin(9⋅π⋅T)⎞    ⎛  ⎛T⋅sin(9⋅π⋅T)   cos(9⋅π⋅T)⎞     G  ⎞⎞\n",
       "⎜2⋅G⋅⎜- ──────────── + ──────────⎟  2⋅⎜G⋅⎜──────────── + ──────────⎟ - ─────⎟⎟\n",
       "⎜    ⎜      9⋅π              2   ⎟    ⎜  ⎜    9⋅π              2   ⎟       2⎟⎟\n",
       "⎜    ⎝                   81⋅π    ⎠    ⎝  ⎝                 81⋅π    ⎠   81⋅π ⎠⎟\n",
       "⎜─────────────────────────────────, ─────────────────────────────────────────⎟\n",
       "⎝                T                                      T                    ⎠"
      ]
     },
     "execution_count": 9,
     "metadata": {},
     "output_type": "execute_result"
    }
   ],
   "source": [
    "a[9], b[9]"
   ]
  },
  {
   "cell_type": "code",
   "execution_count": 10,
   "metadata": {
    "collapsed": false,
    "jupyter": {
     "outputs_hidden": false
    }
   },
   "outputs": [
    {
     "name": "stdout",
     "output_type": "stream",
     "text": [
      "2*G*(-T*cos(pi*T)/pi + sin(pi*T)/pi**2)/T\n",
      "2*G*(-T*cos(2*pi*T)/(2*pi) + sin(2*pi*T)/(4*pi**2))/T\n",
      "2*G*(-T*cos(3*pi*T)/(3*pi) + sin(3*pi*T)/(9*pi**2))/T\n",
      "2*G*(-T*cos(4*pi*T)/(4*pi) + sin(4*pi*T)/(16*pi**2))/T\n",
      "2*G*(-T*cos(5*pi*T)/(5*pi) + sin(5*pi*T)/(25*pi**2))/T\n",
      "2*G*(-T*cos(6*pi*T)/(6*pi) + sin(6*pi*T)/(36*pi**2))/T\n",
      "2*G*(-T*cos(7*pi*T)/(7*pi) + sin(7*pi*T)/(49*pi**2))/T\n",
      "2*G*(-T*cos(8*pi*T)/(8*pi) + sin(8*pi*T)/(64*pi**2))/T\n",
      "2*G*(-T*cos(9*pi*T)/(9*pi) + sin(9*pi*T)/(81*pi**2))/T\n"
     ]
    }
   ],
   "source": [
    "\n",
    "c = []\n",
    "for n in range(1,10):\n",
    "    print(a[n])\n",
    "    expr = (a[n]**2 + b[n]**2)\n",
    "    expr = expr.subs([(T,1),(pi, 3.14),(G,25)])\n",
    "    # print expr\n",
    "    # val = lambdify(t,expr,'numpy')\n",
    "    c.append(expr)"
   ]
  },
  {
   "cell_type": "code",
   "execution_count": 11,
   "metadata": {
    "collapsed": false,
    "jupyter": {
     "outputs_hidden": false
    }
   },
   "outputs": [
    {
     "data": {
      "text/plain": [
       "Text(0, 0.5, 'Fourier coefficients $a_n^2 + b_n^2$')"
      ]
     },
     "execution_count": 11,
     "metadata": {},
     "output_type": "execute_result"
    },
    {
     "data": {
      "image/png": "[encoded data removed]",
      "text/plain": [
       "<Figure size 432x288 with 1 Axes>"
      ]
     },
     "metadata": {
      "needs_background": "light"
     },
     "output_type": "display_data"
    }
   ],
   "source": [
    "plt.figure()\n",
    "plt.bar(range(1,10),c)\n",
    "plt.xlabel('n')\n",
    "plt.ylabel('Fourier coefficients $a_n^2 + b_n^2$')"
   ]
  },
  {
   "cell_type": "code",
   "execution_count": null,
   "metadata": {
    "collapsed": false,
    "jupyter": {
     "outputs_hidden": false
    }
   },
   "outputs": [],
   "source": []
  }
 ],
 "metadata": {
  "kernelspec": {
   "display_name": "Python [conda env:mdd] *",
   "language": "python",
   "name": "conda-env-mdd-py"
  },
  "language_info": {
   "codemirror_mode": {
    "name": "ipython",
    "version": 3
   },
   "file_extension": ".py",
   "mimetype": "text/x-python",
   "name": "python",
   "nbconvert_exporter": "python",
   "pygments_lexer": "ipython3",
   "version": "3.7.6"
  }
 },
 "nbformat": 4,
 "nbformat_minor": 4
}
