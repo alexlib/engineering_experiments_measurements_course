{
 "cells": [
  {
   "cell_type": "markdown",
   "metadata": {},
   "source": [
    "## Homework no. 1 example\n",
    "\n",
    "Use of static calibration curve and estimate of uncertainty.\n",
    "\n",
    "1. Measure several (at least 3) calibration points and fit a regression line to the calibration curve. \n",
    "2. Linear calibration curves are desirable because they result in the best accuracy and precision. If the data is non-linear, try logarithmic approach \n",
    "3. A plot of the calibration data and the fitted line should always be examined to check for outliers and to verify linear behavior.\n",
    "\n",
    "In this example we use the residuals to calculate standard errors of the point estimates. The assumption is that the noise is uniform and random and it's not always a valid one.\n",
    "\n",
    "### Example 1\n",
    "\n",
    "Given: The following data was obtained in the analysis of concentration of a solute using spectroscopy.\n",
    "\n",
    "Required: Following calibration, a sample of concentration was analyzed and the measured transmittance was 35.6%. Report the concentration of analyte in the form of a confidence interval.\n",
    "\n",
    "\n"
   ]
  },
  {
   "cell_type": "code",
   "execution_count": 1,
   "metadata": {
    "collapsed": false
   },
   "outputs": [],
   "source": [
    "import numpy as np\n",
    "import pylab as pl\n"
   ]
  },
  {
   "cell_type": "code",
   "execution_count": 2,
   "metadata": {
    "collapsed": false
   },
   "outputs": [],
   "source": [
    "# x = np.sort(np.random.rand(5,1)*55)\n",
    "# y = "
   ]
  },
  {
   "cell_type": "code",
   "execution_count": 3,
   "metadata": {
    "collapsed": false
   },
   "outputs": [],
   "source": [
    "c = np.array([5.1, 17.0, 25.5, 34.0, 42.5, 51.0 ]) # concentration [ppm]\n",
    "T = np.array([78.1, 43.2, 31.4, 18.8, 14.5, 8.7]) # transmittance, [%]"
   ]
  },
  {
   "cell_type": "code",
   "execution_count": 4,
   "metadata": {
    "collapsed": false
   },
   "outputs": [
    {
     "data": {
      "text/plain": [
       "<matplotlib.text.Text at 0x115e5cc10>"
      ]
     },
     "execution_count": 4,
     "metadata": {},
     "output_type": "execute_result"
    }
   ],
   "source": [
    "pl.plot(c,T,'o')\n",
    "pl.xlabel('$c$ [ppm]')\n",
    "pl.ylabel('$T$ [%]')\n"
   ]
  },
  {
   "cell_type": "markdown",
   "metadata": {},
   "source": [
    "First we need to convert the transmittance into absorbance. Absorbance is known to be proportional to concentration.\n",
    "The translation is according to $a = -log(T/100)$"
   ]
  },
  {
   "cell_type": "code",
   "execution_count": 5,
   "metadata": {
    "collapsed": false
   },
   "outputs": [
    {
     "data": {
      "text/plain": [
       "<matplotlib.text.Text at 0x115e5cc10>"
      ]
     },
     "execution_count": 5,
     "metadata": {},
     "output_type": "execute_result"
    }
   ],
   "source": [
    "a = -np.log10(T/100)\n",
    "pl.plot(c,a,'o')\n",
    "pl.xlabel('$c$ [ppm]')\n",
    "pl.ylabel('$a$ [a.u.]')"
   ]
  },
  {
   "cell_type": "code",
   "execution_count": 6,
   "metadata": {
    "collapsed": false
   },
   "outputs": [
    {
     "name": "stdout",
     "output_type": "stream",
     "text": [
      "[ 0.0216107   0.01630048  0.02620845  0.01326939  0.02609985]\n"
     ]
    }
   ],
   "source": [
    "K = np.diff(a)/np.diff(c)\n",
    "print K"
   ]
  },
  {
   "cell_type": "code",
   "execution_count": 7,
   "metadata": {
    "collapsed": false
   },
   "outputs": [],
   "source": [
    "pl.plot(c[1:],K,'o')\n",
    "pl.grid(True)"
   ]
  },
  {
   "cell_type": "markdown",
   "metadata": {},
   "source": [
    "## Regression analysis\n",
    "Following the recipe of http://www.answermysearches.com/how-to-do-a-simple-linear-regression-in-python/124/"
   ]
  },
  {
   "cell_type": "code",
   "execution_count": 8,
   "metadata": {
    "collapsed": false
   },
   "outputs": [],
   "source": [
    "from math import sqrt\n",
    "# define the new function\n",
    "def linreg(X, Y):\n",
    "    \"\"\"\n",
    "    Summary\n",
    "        Linear regression of y = ax + b\n",
    "    Usage\n",
    "        real, real, real = linreg(list, list)\n",
    "    Returns coefficients to the regression line \"y=ax+b\" from x[] and y[], and R^2 Value\n",
    "    \"\"\"\n",
    "    if len(X) != len(Y):  raise ValueError, 'unequal length'\n",
    "    N = len(X)\n",
    "    Sx = Sy = Sxx = Syy = Sxy = 0.0\n",
    "    for x, y in map(None, X, Y):\n",
    "        Sx = Sx + x\n",
    "        Sy = Sy + y\n",
    "        Sxx = Sxx + x*x\n",
    "        Syy = Syy + y*y\n",
    "        Sxy = Sxy + x*y\n",
    "    det = Sxx * N - Sx * Sx\n",
    "    a, b = (Sxy * N - Sy * Sx)/det, (Sxx * Sy - Sx * Sxy)/det\n",
    "    meanerror = residual = 0.0\n",
    "    for x, y in map(None, X, Y):\n",
    "        meanerror = meanerror + (y - Sy/N)**2\n",
    "        residual = residual + (y - a * x - b)**2\n",
    "    RR = 1 - residual/meanerror\n",
    "    ss = residual / (N-2)\n",
    "    Var_a, Var_b = ss * N / det, ss * Sxx / det\n",
    "    #print \"y=ax+b\"\n",
    "    #print \"N= %d\" % N\n",
    "    #print \"a= %g \\\\pm t_{%d;\\\\alpha/2} %g\" % (a, N-2, sqrt(Var_a))\n",
    "    #print \"b= %g \\\\pm t_{%d;\\\\alpha/2} %g\" % (b, N-2, sqrt(Var_b))\n",
    "    #print \"R^2= %g\" % RR\n",
    "    #print \"s^2= %g\" % ss\n",
    "    return a, b, RR"
   ]
  },
  {
   "cell_type": "code",
   "execution_count": 9,
   "metadata": {
    "collapsed": false
   },
   "outputs": [
    {
     "name": "stdout",
     "output_type": "stream",
     "text": [
      "(0.020388147892420563, 0.0049876285257436119, 0.99538080981626009)\n"
     ]
    }
   ],
   "source": [
    "K,b,RR = linreg(c,a)\n",
    "print (K,b,RR)"
   ]
  },
  {
   "cell_type": "code",
   "execution_count": 10,
   "metadata": {
    "collapsed": false
   },
   "outputs": [
    {
     "data": {
      "text/plain": [
       "<matplotlib.legend.Legend at 0x115ee7a90>"
      ]
     },
     "execution_count": 10,
     "metadata": {},
     "output_type": "execute_result"
    }
   ],
   "source": [
    "a_est = c*K+b\n",
    "pl.plot(c,a,'o',c,a_est)\n",
    "pl.xlabel('$c$ [ppm]')\n",
    "pl.ylabel('$a$ [a.u.]')\n",
    "pl.title('best fit')\n",
    "pl.legend(('$a$','$c^{0.047}$'),loc='best')"
   ]
  },
  {
   "cell_type": "code",
   "execution_count": 11,
   "metadata": {
    "collapsed": false
   },
   "outputs": [
    {
     "data": {
      "text/plain": [
       "<matplotlib.text.Text at 0x115e9aa50>"
      ]
     },
     "execution_count": 11,
     "metadata": {},
     "output_type": "execute_result"
    }
   ],
   "source": [
    "pl.plot(c,a-a_est,'o')\n",
    "pl.grid(True)\n",
    "pl.xlabel('$c$ [ppm]')\n",
    "pl.ylabel('$a - a_{est}$ []')\n",
    "pl.title('Deviation plot')\n"
   ]
  },
  {
   "cell_type": "markdown",
   "metadata": {},
   "source": [
    "Now we estimate the value from the measurement, using calibration curve\n"
   ]
  },
  {
   "cell_type": "code",
   "execution_count": 12,
   "metadata": {
    "collapsed": false
   },
   "outputs": [
    {
     "name": "stdout",
     "output_type": "stream",
     "text": [
      "21.7558934653\n"
     ]
    }
   ],
   "source": [
    "T1 = 35.6# percent transmittance\n",
    "a1 = -np.log10(T1/100)\n",
    "# a = c*0.047+0.0115\n",
    "c1 = (a1 - b)/K\n",
    "print c1"
   ]
  },
  {
   "cell_type": "markdown",
   "metadata": {},
   "source": [
    "Now we can assuming random white noise estimate the confidence level:"
   ]
  },
  {
   "cell_type": "code",
   "execution_count": 13,
   "metadata": {
    "collapsed": false
   },
   "outputs": [
    {
     "name": "stdout",
     "output_type": "stream",
     "text": [
      "We can estimate the concentration of the sample as: 21.7559 with uncertainty 0.0214\n"
     ]
    }
   ],
   "source": [
    "dev = a-a_est\n",
    "stdev = np.mean(dev**2)**0.5\n",
    "\n",
    "print \"We can estimate the concentration of the sample as: %6.4f with uncertainty %6.4f\" % (c1, stdev)"
   ]
  },
  {
   "cell_type": "markdown",
   "metadata": {},
   "source": [
    "More accurate assessment of uncertainty is using the t-distribution and updated standard deviation for small samples, we learn it later.\n"
   ]
  },
  {
   "cell_type": "code",
   "execution_count": 14,
   "metadata": {
    "collapsed": false
   },
   "outputs": [
    {
     "name": "stdout",
     "output_type": "stream",
     "text": [
      "We can estimate the concentration of the sample as: 21.7559 with uncertainty 3.1537\n"
     ]
    }
   ],
   "source": [
    "Sxx = 5*np.var(c)\n",
    "cmean = np.mean(c)\n",
    "stdev1 = stdev/K*np.sqrt(1+ 1.0/6.0 + ((c1-cmean)**2)/(5*Sxx) )\n",
    "t = 2.7764 # for 97.5% confidence interval and 5 samples (n-1)\n",
    "print \"We can estimate the concentration of the sample as: %6.4f with uncertainty %6.4f\" % (c1, stdev1*t)"
   ]
  },
  {
   "cell_type": "code",
   "execution_count": null,
   "metadata": {
    "collapsed": false
   },
   "outputs": [],
   "source": []
  },
  {
   "cell_type": "code",
   "execution_count": null,
   "metadata": {
    "collapsed": false
   },
   "outputs": [],
   "source": []
  }
 ],
 "metadata": {
  "kernelspec": {
   "display_name": "Python 2",
   "language": "python",
   "name": "python2"
  },
  "language_info": {
   "codemirror_mode": {
    "name": "ipython",
    "version": 2
   },
   "file_extension": ".py",
   "mimetype": "text/x-python",
   "name": "python",
   "nbconvert_exporter": "python",
   "pygments_lexer": "ipython2",
   "version": "2.7.11"
  }
 },
 "nbformat": 4,
 "nbformat_minor": 0
}
