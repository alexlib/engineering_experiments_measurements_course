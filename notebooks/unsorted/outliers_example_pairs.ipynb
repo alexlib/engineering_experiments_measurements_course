{
 "cells": [
  {
   "cell_type": "markdown",
   "metadata": {
    "slideshow": {
     "slide_type": "slide"
    }
   },
   "source": [
    "# Outliers example 2 \n",
    "\n",
    "## example of outlier test for the pairs of values, $y=f(x)$\n"
   ]
  },
  {
   "cell_type": "code",
   "execution_count": 1,
   "metadata": {
    "slideshow": {
     "slide_type": "slide"
    }
   },
   "outputs": [
    {
     "name": "stdout",
     "output_type": "stream",
     "text": [
      "Populating the interactive namespace from numpy and matplotlib\n"
     ]
    },
    {
     "name": "stderr",
     "output_type": "stream",
     "text": [
      "/Users/alex/miniconda3/lib/python3.6/site-packages/IPython/core/magics/pylab.py:160: UserWarning: pylab import has clobbered these variables: ['plt']\n",
      "`%matplotlib` prevents importing * from pylab and numpy\n",
      "  \"\\n`%matplotlib` prevents importing * from pylab and numpy\"\n"
     ]
    }
   ],
   "source": [
    "%pylab inline\n",
    "import matplotlib as mpl\n",
    "mpl.rcParams['lines.linewidth']=2\n",
    "mpl.rcParams['lines.color']='r'\n",
    "mpl.rcParams['figure.figsize']=(12,8)\n",
    "mpl.rcParams['font.size']=14\n",
    "mpl.rcParams['axes.labelsize']=20"
   ]
  },
  {
   "cell_type": "code",
   "execution_count": 2,
   "metadata": {
    "slideshow": {
     "slide_type": "slide"
    }
   },
   "outputs": [
    {
     "data": {
      "text/plain": [
       "Text(10,5,'Y = 0.045 x + 1.466')"
      ]
     },
     "execution_count": 2,
     "metadata": {},
     "output_type": "execute_result"
    },
    {
     "data": {
      "image/png": "[encoded data removed]",
      "text/plain": [
       "<Figure size 432x288 with 1 Axes>"
      ]
     },
     "metadata": {},
     "output_type": "display_data"
    }
   ],
   "source": [
    "x = array([10.0,20.03,30.01,40.02,50.02,60.01,70.00,80.01])\n",
    "y = array([1.62,2.04,4.05,2.85,3.84,3.81,4.86,5.02])\n",
    "plot(x,y,'o')\n",
    "xlim([0,90])\n",
    "ylim([1,6])\n",
    "xlabel('$x$'),ylabel('$y$')\n",
    "\n",
    "# best fit seems to be linear\n",
    "p = polyfit(x,y,1)\n",
    "Y = polyval(p,x)\n",
    "plot(x,Y,'--')\n",
    "text(10,5,'Y = %4.3f x + %4.3f' % (p[0],p[1]))"
   ]
  },
  {
   "cell_type": "markdown",
   "metadata": {
    "slideshow": {
     "slide_type": "slide"
    }
   },
   "source": [
    "### Test 1/2: Use standard error of the estimate:\n",
    "\n",
    "$$ S_{y,x}=\\sqrt{\\frac{\\sum_{i=1}^{i=n}(y_{i}-Y_{i})^{2}}{\\nu}},\\,\\,\\,\\nu=n-(m+1)$$\n",
    "\n",
    "and the **standardized residuals**\n",
    "\n",
    "$$ \\frac{e_i}{S_{y,x}} = \\frac{|Y_i-y_i|}{S_{y,x}}$$\n",
    "\n",
    "From compare it with the value of 2 (very close to the t-distribution for 95%), i.e. if:\n",
    "\n",
    "$$\\left|e_{i}/S_{y,x}\\right|>2$$\n",
    "\n",
    "then it's an **outlier**\n",
    "\n",
    "\n"
   ]
  },
  {
   "cell_type": "code",
   "execution_count": 3,
   "metadata": {
    "slideshow": {
     "slide_type": "slide"
    }
   },
   "outputs": [
    {
     "name": "stdout",
     "output_type": "stream",
     "text": [
      "0.590226736226183\n"
     ]
    }
   ],
   "source": [
    "n = len(x)\n",
    "m = 1 # number of independent variables\n",
    "nu = n - (m+1)\n",
    "Syx = sqrt(sum((Y - y)**2)/nu)\n",
    "print (Syx)"
   ]
  },
  {
   "cell_type": "code",
   "execution_count": 4,
   "metadata": {
    "slideshow": {
     "slide_type": "slide"
    }
   },
   "outputs": [
    {
     "data": {
      "text/plain": [
       "(Text(0.5,0,'$n$'), Text(0,0.5,'$e/S_{yx}$'))"
      ]
     },
     "execution_count": 4,
     "metadata": {},
     "output_type": "execute_result"
    },
    {
     "data": {
      "image/png": "[encoded data removed]",
      "text/plain": [
       "<Figure size 432x288 with 1 Axes>"
      ]
     },
     "metadata": {},
     "output_type": "display_data"
    }
   ],
   "source": [
    "e = (Y-y)\n",
    "plot(arange(1,n+1),e/Syx,'go')\n",
    "plot([0,n+1],[-2,-2],'b-',[0,n+1],[2,2],'r-')\n",
    "plot([3],e[2]/Syx,'rx',mfc='none',markersize=30)\n",
    "xlim([0,n+1]),ylim([-3,3])\n",
    "xlabel('$n$'),ylabel('$e/S_{yx}$')"
   ]
  }
 ],
 "metadata": {
  "celltoolbar": "Slideshow",
  "kernelspec": {
   "display_name": "Python 3",
   "language": "python",
   "name": "python3"
  },
  "language_info": {
   "codemirror_mode": {
    "name": "ipython",
    "version": 3
   },
   "file_extension": ".py",
   "mimetype": "text/x-python",
   "name": "python",
   "nbconvert_exporter": "python",
   "pygments_lexer": "ipython3",
   "version": "3.6.4"
  }
 },
 "nbformat": 4,
 "nbformat_minor": 2
}
