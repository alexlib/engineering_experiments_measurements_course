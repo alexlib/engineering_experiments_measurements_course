{
 "cells": [
  {
   "cell_type": "markdown",
   "metadata": {},
   "source": [
    "# Outliers \n",
    "\n",
    "## example of outlier test using modified Thompson technique\n"
   ]
  },
  {
   "cell_type": "code",
   "execution_count": 40,
   "metadata": {},
   "outputs": [],
   "source": [
    "import numpy as np\n",
    "import matplotlib.pyplot as plt\n",
    "from scipy.stats import t\n",
    "\n",
    "import matplotlib as mpl\n",
    "mpl.rcParams['lines.linewidth']=2\n",
    "mpl.rcParams['lines.color']='r'\n",
    "mpl.rcParams['figure.figsize']=(8,6)\n",
    "mpl.rcParams['font.size']=14\n",
    "mpl.rcParams['axes.labelsize']=20"
   ]
  },
  {
   "cell_type": "code",
   "execution_count": 41,
   "metadata": {},
   "outputs": [
    {
     "data": {
      "image/png": "[encoded data removed]",
      "text/plain": [
       "<Figure size 576x432 with 1 Axes>"
      ]
     },
     "metadata": {
      "needs_background": "light"
     },
     "output_type": "display_data"
    }
   ],
   "source": [
    "x = np.array([28, 31, 27, 28, 29, 25, 29, 28, 18, 27])\n",
    "plt.plot(1+np.arange(len(x)),x,'o',markersize=10),\n",
    "plt.xlim([0,11])\n",
    "plt.xlabel('$n$')\n",
    "plt.ylabel('$T\\; [^\\circ C \\,]$');"
   ]
  },
  {
   "cell_type": "markdown",
   "metadata": {},
   "source": [
    "### is there an outlier? \n",
    "Sort, look at the lowest and largest and plot to visualize "
   ]
  },
  {
   "cell_type": "code",
   "execution_count": 42,
   "metadata": {},
   "outputs": [
    {
     "name": "stdout",
     "output_type": "stream",
     "text": [
      "[18 25 27 27 28 28 28 29 29 31]\n"
     ]
    }
   ],
   "source": [
    "# Sort x\n",
    "x = np.sort(x)\n",
    "print(x)"
   ]
  },
  {
   "cell_type": "code",
   "execution_count": 43,
   "metadata": {},
   "outputs": [
    {
     "data": {
      "image/png": "[encoded data removed]",
      "text/plain": [
       "<Figure size 576x432 with 1 Axes>"
      ]
     },
     "metadata": {
      "needs_background": "light"
     },
     "output_type": "display_data"
    }
   ],
   "source": [
    "plt.plot(np.arange(2,10),x[1:-1],'o',markersize=10)\n",
    "plt.plot(1,x[0],'rs',markersize=10,linewidth=2)\n",
    "plt.plot(10,x[-1],'rs',markersize=10)\n",
    "plt.xlim([0,11])\n",
    "plt.xlabel('$\\hat{n}$')\n",
    "plt.ylabel('Sorted $T\\; [^\\circ C \\,]$');"
   ]
  },
  {
   "cell_type": "markdown",
   "metadata": {},
   "source": [
    "### The sample mean and standard deviation, $\\bar{x}$, $S_x$"
   ]
  },
  {
   "cell_type": "code",
   "execution_count": 44,
   "metadata": {},
   "outputs": [
    {
     "name": "stdout",
     "output_type": "stream",
     "text": [
      "mean =  27.00,  std =   3.53\n"
     ]
    }
   ],
   "source": [
    "meanx = np.mean(x)\n",
    "stdx = np.std(x,ddof=1)\n",
    "print('mean = %6.2f,  std = %6.2f' % (meanx,stdx))"
   ]
  },
  {
   "cell_type": "markdown",
   "metadata": {},
   "source": [
    "### Defivations for each suspicious point, take the largest $\\delta_i = |x_i - \\bar{x}|$"
   ]
  },
  {
   "cell_type": "code",
   "execution_count": 45,
   "metadata": {},
   "outputs": [
    {
     "name": "stdout",
     "output_type": "stream",
     "text": [
      "suspicious point is: 18 deviation is = 9.0\n"
     ]
    }
   ],
   "source": [
    "delta = np.abs(x - meanx)\n",
    "# print ('suspicious points are with \\\\delta %.1f %.1f' % (delta[0],delta[-1]))\n",
    "print ('suspicious point is:',  x[np.argmax(delta)], 'deviation is = %.1f' % np.max(delta))"
   ]
  },
  {
   "cell_type": "markdown",
   "metadata": {},
   "source": [
    "## Modified Thompson technique, $\\tau$\n",
    "\n",
    "Define the confidence level (95%), therefore $\\alpha = 5\\%$. Because we deal with outliers, the DOF is smaller:\n",
    "\n",
    "$$ \\tau = \\frac{t_{\\alpha/2} (n-1)}{\\sqrt{n} \\sqrt{n-2+t_{\\alpha/2}^2}}, \\qquad \\alpha = 0.05, \\quad df = n - 2 $$\n",
    "\n",
    "if: \n",
    "\n",
    "$$\\delta_i  > \\tau S$$ \n",
    "\n",
    "then the point is an **outlier**\n",
    "\n",
    "remove it, estimate **new** $\\bar{x}, S, \\delta_i$ and **repeat** the test. until there is no outlier in the set."
   ]
  },
  {
   "cell_type": "code",
   "execution_count": 50,
   "metadata": {},
   "outputs": [
    {
     "name": "stdout",
     "output_type": "stream",
     "text": [
      "n = 8, t = 2.45, tau = 1.75\n",
      "compare: 2.62 to 2.28 \n",
      "Is max() above $t_{\\nu,95}S$? True \n"
     ]
    }
   ],
   "source": [
    "n = len(x)\n",
    "tv =  t.isf(0.05/2,n-2)\n",
    "tau = tv*(n-1)/(np.sqrt(n)*np.sqrt(n-2+tv**2))\n",
    "\n",
    "print ('n = %d, t = %.2f, tau = %.2f' % (n,tv,tau))\n",
    "\n",
    "print ('compare: %.2f to %.2f ' % (np.max(delta), tau*stdx))\n",
    "print ('Is max() above $t_{\\\\nu,95}S$? %s ' % (np.max(delta) > tau*stdx))\n"
   ]
  },
  {
   "cell_type": "markdown",
   "metadata": {},
   "source": [
    "### So we remove the outlier and repeat the test (from the beginning)"
   ]
  },
  {
   "cell_type": "code",
   "execution_count": 51,
   "metadata": {},
   "outputs": [
    {
     "name": "stdout",
     "output_type": "stream",
     "text": [
      "suspicious point is: 25 deviation is = 3.0\n",
      "n = 9, t = 2.36, tau = 1.78\n",
      "compare: 3.00 to 2.95 \n",
      "Is max() above $t_{\\nu,95}S$? True \n"
     ]
    }
   ],
   "source": [
    "x = np.array([28, 31, 27, 28, 29, 25, 29, 28, 27])\n",
    "x = np.sort(x)\n",
    "meanx = np.mean(x)\n",
    "stdx = np.std(x,ddof=1)\n",
    "delta = np.abs(x - meanx)\n",
    "print ('suspicious point is:',  x[np.argmax(delta)], 'deviation is = %.1f' % np.max(delta))\n",
    "n = len(x)\n",
    "tv =  t.isf(0.05/2,n-2)\n",
    "tau = tv*(n-1)/(np.sqrt(n)*np.sqrt(n-2+tv**2))\n",
    "\n",
    "print ('n = %d, t = %.2f, tau = %.2f' % (n,tv,tau))\n",
    "\n",
    "print ('compare: %.2f to %.2f ' % (np.max(delta), tau*stdx))\n",
    "print ('Is max() above $t_{\\\\nu,95}S$? %s ' % (np.max(delta) > tau*stdx))\n"
   ]
  },
  {
   "cell_type": "code",
   "execution_count": 57,
   "metadata": {},
   "outputs": [
    {
     "name": "stdout",
     "output_type": "stream",
     "text": [
      "Sorted x:\n",
      "[27 27 28 28 28 29 29 31]\n",
      "suspicious point is: 31 deviation is = 2.6\n",
      "n = 8, t = 2.45, tau = 1.75\n",
      "compare: 2.62 to 2.28 \n",
      "Is max() above $t_{\\nu,95}S$? True \n"
     ]
    }
   ],
   "source": [
    "x = np.array([28, 31, 27, 28, 29, 29, 28, 27])\n",
    "x = np.sort(x)\n",
    "print('Sorted x:'),print(x)\n",
    "meanx = np.mean(x)\n",
    "stdx = np.std(x,ddof=1)\n",
    "delta = np.abs(x - meanx)\n",
    "print ('suspicious point is:',  x[np.argmax(delta)], 'deviation is = %.1f' % np.max(delta))\n",
    "n = len(x)\n",
    "tv =  t.isf(0.05/2,n-2)\n",
    "tau = tv*(n-1)/(np.sqrt(n)*np.sqrt(n-2+tv**2))\n",
    "\n",
    "print ('n = %d, t = %.2f, tau = %.2f' % (n,tv,tau))\n",
    "\n",
    "print ('compare: %.2f to %.2f ' % (np.max(delta), tau*stdx))\n",
    "print ('Is max() above $t_{\\\\nu,95}S$? %s ' % (np.max(delta) > tau*stdx))"
   ]
  },
  {
   "cell_type": "code",
   "execution_count": 58,
   "metadata": {},
   "outputs": [
    {
     "name": "stdout",
     "output_type": "stream",
     "text": [
      "Sorted x:\n",
      "[27 27 28 28 28 29 29]\n",
      "suspicious point is: 27 deviation is = 1.0\n",
      "n = 7, t = 2.57, tau = 1.71\n",
      "compare: 1.00 to 1.40 \n",
      "Is max() above $t_{\\nu,95}S$? False \n"
     ]
    }
   ],
   "source": [
    "x = np.array([28, 27, 28, 29, 29, 28, 27])\n",
    "x = np.sort(x)\n",
    "print('Sorted x:'),print(x)\n",
    "meanx = np.mean(x)\n",
    "stdx = np.std(x,ddof=1)\n",
    "delta = np.abs(x - meanx)\n",
    "print ('suspicious point is:',  x[np.argmax(delta)], 'deviation is = %.1f' % np.max(delta))\n",
    "n = len(x)\n",
    "tv =  t.isf(0.05/2,n-2)\n",
    "tau = tv*(n-1)/(np.sqrt(n)*np.sqrt(n-2+tv**2))\n",
    "\n",
    "print ('n = %d, t = %.2f, tau = %.2f' % (n,tv,tau))\n",
    "\n",
    "print ('compare: %.2f to %.2f ' % (np.max(delta), tau*stdx))\n",
    "print ('Is max() above $t_{\\\\nu,95}S$? %s ' % (np.max(delta) > tau*stdx))"
   ]
  },
  {
   "cell_type": "code",
   "execution_count": null,
   "metadata": {},
   "outputs": [],
   "source": []
  }
 ],
 "metadata": {
  "jupytext": {
   "text_representation": {
    "extension": ".md",
    "format_name": "markdown",
    "format_version": "1.2",
    "jupytext_version": "1.4.2"
   }
  },
  "kernelspec": {
   "display_name": "Python [conda env:mdd] *",
   "language": "python",
   "name": "conda-env-mdd-py"
  },
  "language_info": {
   "codemirror_mode": {
    "name": "ipython",
    "version": 3
   },
   "file_extension": ".py",
   "mimetype": "text/x-python",
   "name": "python",
   "nbconvert_exporter": "python",
   "pygments_lexer": "ipython3",
   "version": "3.7.7"
  }
 },
 "nbformat": 4,
 "nbformat_minor": 4
}
