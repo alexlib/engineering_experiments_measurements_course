{
 "metadata": {
  "name": "",
  "signature": "sha256:208579161f0580ed6d4dd3fd4739ffc1bb1784d430da3b1d460d5220a86e08ae"
 },
 "nbformat": 3,
 "nbformat_minor": 0,
 "worksheets": [
  {
   "cells": [
    {
     "cell_type": "markdown",
     "metadata": {},
     "source": [
      "## Why do we need first to see the histogram? \n",
      "1. Not all measurements results are random\n",
      "2. Not all random variables 'born equal'\n",
      "3. Not every algrebraic average gives the 'mean'\n",
      "4. Central limit theorem is a very powerful thing:\n",
      "https://www.youtube.com/watch?v=jvoxEYmQHNM"
     ]
    },
    {
     "cell_type": "code",
     "collapsed": false,
     "input": [
      "%pylab inline"
     ],
     "language": "python",
     "metadata": {},
     "outputs": [
      {
       "output_type": "stream",
       "stream": "stdout",
       "text": [
        "Populating the interactive namespace from numpy and matplotlib\n"
       ]
      }
     ],
     "prompt_number": 1
    },
    {
     "cell_type": "code",
     "collapsed": false,
     "input": [
      "from scipy import stats"
     ],
     "language": "python",
     "metadata": {},
     "outputs": [],
     "prompt_number": 2
    },
    {
     "cell_type": "code",
     "collapsed": false,
     "input": [
      "X = stats.poisson(2.5)\n",
      "smpl = X.rvs(size=20)\n",
      "plot(smpl,'o')\n",
      "aveX = smpl.mean()\n",
      "stdX = smpl.std()\n",
      "plot([0,20],[aveX,aveX],'-',lw=2)\n",
      "ylim([-2.,7.])\n",
      "print 'Average %4.3f' % aveX\n",
      "print 'STD %4.3f' % stdX"
     ],
     "language": "python",
     "metadata": {},
     "outputs": [
      {
       "output_type": "stream",
       "stream": "stdout",
       "text": [
        "Average 2.600\n",
        "STD 1.960\n"
       ]
      },
      {
       "metadata": {},
       "output_type": "display_data",
       "png": "[encoded data removed]",
       "text": [
        "<matplotlib.figure.Figure at 0x7fcc7002a690>"
       ]
      }
     ],
     "prompt_number": 3
    },
    {
     "cell_type": "code",
     "collapsed": false,
     "input": [
      "hist(smpl,bins=7)\n",
      "plot([aveX, aveX],[0,10],'r-',lw=2)\n",
      "xlabel(r'$x,\\; \\bar{x}$',fontsize=16)\n",
      "ylabel('Probability count',fontsize=16)"
     ],
     "language": "python",
     "metadata": {},
     "outputs": [
      {
       "metadata": {},
       "output_type": "pyout",
       "prompt_number": 4,
       "text": [
        "<matplotlib.text.Text at 0x7fcc67bdbd50>"
       ]
      },
      {
       "metadata": {},
       "output_type": "display_data",
       "png": "[encoded data removed]",
       "text": [
        "<matplotlib.figure.Figure at 0x7fcc70029b90>"
       ]
      }
     ],
     "prompt_number": 4
    },
    {
     "cell_type": "markdown",
     "metadata": {},
     "source": [
      "Can we write that our distribution is: \n",
      "$$ \\bar{x} \\pm S_x$$ "
     ]
    },
    {
     "cell_type": "code",
     "collapsed": false,
     "input": [],
     "language": "python",
     "metadata": {},
     "outputs": [],
     "prompt_number": 4
    },
    {
     "cell_type": "code",
     "collapsed": false,
     "input": [],
     "language": "python",
     "metadata": {},
     "outputs": [],
     "prompt_number": 4
    }
   ],
   "metadata": {}
  }
 ]
}