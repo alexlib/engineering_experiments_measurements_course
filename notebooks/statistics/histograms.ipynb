{
 "cells": [
  {
   "cell_type": "markdown",
   "metadata": {},
   "source": [
    "## Why do we need first to see the histogram? \n",
    "1. Not all measurements results are random\n",
    "2. Not all random variables 'born equal'\n",
    "3. Not every algrebraic average gives the 'mean'\n",
    "4. Central limit theorem is a very powerful thing:\n",
    "https://www.youtube.com/watch?v=jvoxEYmQHNM"
   ]
  },
  {
   "cell_type": "code",
   "execution_count": 37,
   "metadata": {
    "collapsed": false
   },
   "outputs": [
    {
     "name": "stdout",
     "output_type": "stream",
     "text": [
      "Populating the interactive namespace from numpy and matplotlib\n"
     ]
    }
   ],
   "source": [
    "%pylab inline"
   ]
  },
  {
   "cell_type": "code",
   "execution_count": 38,
   "metadata": {
    "collapsed": false
   },
   "outputs": [],
   "source": [
    "from scipy import stats"
   ]
  },
  {
   "cell_type": "code",
   "execution_count": 39,
   "metadata": {
    "collapsed": false
   },
   "outputs": [
    {
     "name": "stdout",
     "output_type": "stream",
     "text": [
      "Average 0.215\n",
      "STD 0.182\n"
     ]
    },
    {
     "data": {
      "image/png": "[encoded data removed]",
      "text/plain": [
       "<matplotlib.figure.Figure at 0x7f0eb5935790>"
      ]
     },
     "metadata": {},
     "output_type": "display_data"
    }
   ],
   "source": [
    "X = stats.poisson(2.0)\n",
    "smpl = X.rvs(size=20)/10.0\n",
    "plot(smpl,'o')\n",
    "aveX = smpl.mean()\n",
    "stdX = smpl.std()\n",
    "plot([0,20],[aveX,aveX],'-',lw=2)\n",
    "ylim([-.2,.7])\n",
    "print 'Average %4.3f' % aveX\n",
    "print 'STD %4.3f' % stdX"
   ]
  },
  {
   "cell_type": "code",
   "execution_count": 40,
   "metadata": {
    "collapsed": false
   },
   "outputs": [
    {
     "data": {
      "text/plain": [
       "<matplotlib.text.Text at 0x7f0eb5875510>"
      ]
     },
     "execution_count": 40,
     "metadata": {},
     "output_type": "execute_result"
    },
    {
     "data": {
      "image/png": "[encoded data removed]",
      "text/plain": [
       "<matplotlib.figure.Figure at 0x7f0eb586b990>"
      ]
     },
     "metadata": {},
     "output_type": "display_data"
    }
   ],
   "source": [
    "hist(smpl,bins=5)\n",
    "plot([aveX, aveX],[0,10],'r-',lw=2)\n",
    "xlabel(r'$x,\\; \\bar{x}$',fontsize=16)\n",
    "ylabel('Probability count',fontsize=16)"
   ]
  },
  {
   "cell_type": "markdown",
   "metadata": {},
   "source": [
    "### Can we write that our distribution is $ \\bar{x} \\pm S_x$ ? "
   ]
  }
 ],
 "metadata": {
  "kernelspec": {
   "display_name": "Python 2",
   "language": "python",
   "name": "python2"
  },
  "language_info": {
   "codemirror_mode": {
    "name": "ipython",
    "version": 2
   },
   "file_extension": ".py",
   "mimetype": "text/x-python",
   "name": "python",
   "nbconvert_exporter": "python",
   "pygments_lexer": "ipython2",
   "version": "2.7.13"
  }
 },
 "nbformat": 4,
 "nbformat_minor": 0
}
