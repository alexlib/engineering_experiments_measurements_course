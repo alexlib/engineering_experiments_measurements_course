{
 "cells": [
  {
   "cell_type": "markdown",
   "id": "1c591b1e",
   "metadata": {
    "slideshow": {
     "slide_type": "slide"
    }
   },
   "source": [
    "# Very basic review of some statistics terms \n",
    "\n",
    "**Engineering Testing and Measurements**\n"
   ]
  },
  {
   "cell_type": "markdown",
   "id": "225b3c65",
   "metadata": {
    "slideshow": {
     "slide_type": "slide"
    }
   },
   "source": [
    "Review of _basic statistics_\n",
    "\n",
    "1. Population -- the entire collection of measurements, not all of\n",
    "which will be analyzed statistically. Some variable $ x$, anything\n",
    "that is measurable, such as a length, time, voltage, current, resistance,\n",
    "etc. \n",
    "\n",
    "2. Sample -- a subset of the population that is analyzed statistically.\n",
    "A sample consists of  $n$ measurements: $x_1,x_2, x_3,...,x_n$\n",
    "\n",
    "3. Statistic -- a numerical attribute of the sample (e.g., mean,\n",
    "median, standard deviation). \n",
    "\n",
    "4. Population mean is denoted as:  $\\mu$ \n",
    "\n",
    "5. Sample mean is an arithmetic average:\n",
    "\n",
    "$$\n",
    "x_{\\mathrm{avg}}=\\overline{x}=\\frac{1}{n}\\sum_{i=1}^{n}x_{i}$$\n"
   ]
  },
  {
   "cell_type": "markdown",
   "id": "6535cac7",
   "metadata": {
    "slideshow": {
     "slide_type": "slide"
    }
   },
   "source": [
    "## Deviations\n",
    "\n",
    "*  Deviation is the difference between a particular measurement and the\n",
    "mean, $ d = x_i - \\overline{x} $\n",
    "\n",
    "*  Deviation of one particular measurement is the same as the **precision\n",
    "error**  or **random error**  of that measurement. \n",
    "\n",
    "*  Deviation is **not**  the same as **inaccuracy -**  difference between a particular measurement and the **true value** \n",
    "\n",
    "*  Because of bias (systematic) error, $ x_{true}$ is often not even\n",
    "known, and the mean is not equal to $x_{true}$ as there are bias errors. \n",
    "\n",
    "* Average deviation -- averaging all the deviations is zero, $ \\overline{d} = 0$"
   ]
  },
  {
   "cell_type": "markdown",
   "id": "2be5cda9",
   "metadata": {
    "slideshow": {
     "slide_type": "slide"
    }
   },
   "source": [
    "plainSample standard deviation\n",
    "* **Average absolute deviation**  -- a better measure of deviation\n",
    "is the average absolute deviation (also called the average positive\n",
    "error), defined as the average of the absolute value of each deviation. \n",
    "$$\n",
    "\\left|\\overline{d}\\right|=\\frac{1}{n}\\sum_{i=1}^{n}\\left|d_{i}\\right|$$\n",
    "\n",
    "* **Sample standard deviation**  -- measure of how much deviation\n",
    "or scatter is in the data is obtained by calculating the sample standard\n",
    "deviation. For \\$ n measurements:\n",
    "$$\n",
    "S=\\sqrt{\\frac{\\sum_{i=1}^{n}d_{i}^{2}}{n-1}}=\\sqrt{\\frac{\\sum_{i=1}^{n}(x_{i}-\\overline{x})^{2}}{n-1}}$$\n",
    "\\par \n",
    "* **Notice the use of:** $n - 1$, it means we have only $n-1$ degrees of freedom as one degree is taken by the $\\overline{x}$\n"
   ]
  },
  {
   "cell_type": "code",
   "execution_count": null,
   "id": "3df61569-1c4c-4e7f-844e-5a9ccbee1a56",
   "metadata": {},
   "outputs": [],
   "source": []
  }
 ],
 "metadata": {
  "celltoolbar": "Slideshow",
  "kernelspec": {
   "display_name": "Python 3 (ipykernel)",
   "language": "python",
   "name": "python3"
  },
  "language": "python",
  "language_info": {
   "codemirror_mode": {
    "name": "ipython",
    "version": 3
   },
   "file_extension": ".py",
   "mimetype": "text/x-python",
   "name": "python",
   "nbconvert_exporter": "python",
   "pygments_lexer": "ipython3",
   "version": "3.8.12"
  },
  "livereveal": {
   "controls": true,
   "help": true,
   "scroll": true,
   "slideNumber": true,
   "transition": "none"
  }
 },
 "nbformat": 4,
 "nbformat_minor": 5
}
