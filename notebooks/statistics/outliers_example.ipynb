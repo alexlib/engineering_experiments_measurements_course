{
 "cells": [
  {
   "cell_type": "markdown",
   "metadata": {},
   "source": [
    "# Outliers \n",
    "\n",
    "## example of outlier test using modified Thompson technique\n"
   ]
  },
  {
   "cell_type": "code",
   "execution_count": 1,
   "metadata": {},
   "outputs": [
    {
     "name": "stdout",
     "output_type": "stream",
     "text": [
      "Populating the interactive namespace from numpy and matplotlib\n"
     ]
    },
    {
     "name": "stderr",
     "output_type": "stream",
     "text": [
      "/Users/alex/miniconda3/envs/taas/lib/python2.7/site-packages/IPython/core/magics/pylab.py:161: UserWarning: pylab import has clobbered these variables: ['plt']\n",
      "`%matplotlib` prevents importing * from pylab and numpy\n",
      "  \"\\n`%matplotlib` prevents importing * from pylab and numpy\"\n"
     ]
    }
   ],
   "source": [
    "%pylab inline\n",
    "import matplotlib as mpl\n",
    "mpl.rcParams['lines.linewidth']=2\n",
    "mpl.rcParams['lines.color']='r'\n",
    "mpl.rcParams['figure.figsize']=(8,6)\n",
    "mpl.rcParams['font.size']=14\n",
    "mpl.rcParams['axes.labelsize']=20"
   ]
  },
  {
   "cell_type": "code",
   "execution_count": 2,
   "metadata": {},
   "outputs": [
    {
     "data": {
      "image/png": "[encoded data removed]",
      "text/plain": [
       "<Figure size 432x288 with 1 Axes>"
      ]
     },
     "metadata": {},
     "output_type": "display_data"
    }
   ],
   "source": [
    "x = array([49.2,50.1,49.3,50.2, 50.7,49.3,49.8,48.9,49.2,49.9])\n",
    "plot(arange(1,11),x,'o'),xlim([0,11]),xlabel('$n$'),ylabel('$T\\; [^\\circ C \\,]$');"
   ]
  },
  {
   "cell_type": "markdown",
   "metadata": {},
   "source": [
    "### is there an outlier? \n",
    "Sort, look at the lowest and largest and plot to visualize "
   ]
  },
  {
   "cell_type": "code",
   "execution_count": 3,
   "metadata": {},
   "outputs": [
    {
     "name": "stdout",
     "output_type": "stream",
     "text": [
      "[48.9 49.2 49.2 49.3 49.3 49.8 49.9 50.1 50.2 50.7]\n"
     ]
    }
   ],
   "source": [
    "# Sort x\n",
    "x.sort()\n",
    "print(x)"
   ]
  },
  {
   "cell_type": "code",
   "execution_count": 4,
   "metadata": {},
   "outputs": [
    {
     "data": {
      "image/png": "[encoded data removed]",
      "text/plain": [
       "<Figure size 432x288 with 1 Axes>"
      ]
     },
     "metadata": {},
     "output_type": "display_data"
    }
   ],
   "source": [
    "plot(arange(2,10),x[1:-1],'o'), plot(1,x[0],'rs',markersize=10,linewidth=2),plot(10,x[-1],'gs',markersize=10)\n",
    "xlim([0,11])\n",
    "xlabel('$\\hat{n}$'),ylabel('Sorted $T\\; [^\\circ C \\,]$');"
   ]
  },
  {
   "cell_type": "markdown",
   "metadata": {},
   "source": [
    "### The sample mean and standard deviation, $\\bar{x}$, $S_x$"
   ]
  },
  {
   "cell_type": "code",
   "execution_count": 5,
   "metadata": {},
   "outputs": [
    {
     "name": "stdout",
     "output_type": "stream",
     "text": [
      "mean =  49.66,  std =   0.57\n"
     ]
    }
   ],
   "source": [
    "meanx = mean(x)\n",
    "stdx = std(x,ddof=1)\n",
    "print('mean = %6.2f,  std = %6.2f' % (meanx,stdx))"
   ]
  },
  {
   "cell_type": "markdown",
   "metadata": {},
   "source": [
    "### Defivations for each suspicious point, take the largest $\\delta_i = |x_i - \\bar{x}|$"
   ]
  },
  {
   "cell_type": "code",
   "execution_count": 6,
   "metadata": {},
   "outputs": [
    {
     "name": "stdout",
     "output_type": "stream",
     "text": [
      "suspicious points are first and last:\n",
      "0.760 1.040\n",
      "('suspicious point is:', 9, 'deviation is = 1.040')\n"
     ]
    }
   ],
   "source": [
    "delta = abs(x - meanx)\n",
    "print ('suspicious points are first and last:')\n",
    "print ('%4.3f %4.3f' % (delta[0],delta[-1]))\n",
    "print ('suspicious point is:',  argmax(delta), 'deviation is = %4.3f' % max(delta))"
   ]
  },
  {
   "cell_type": "markdown",
   "metadata": {},
   "source": [
    "## Modified Thompson technique, $\\tau$\n",
    "\n",
    "Define the confidence level (95%), therefore $\\alpha = 5\\%$. Because we deal with outliers, the DOF is smaller:\n",
    "\n",
    "$$ \\tau = \\frac{t_{\\alpha/2} (n-1)}{\\sqrt{n} \\sqrt{n-2+t_{\\alpha/2}^2}}, \\qquad \\alpha = 0.05, \\quad df = n - 2 $$\n",
    "\n",
    "if: \n",
    "\n",
    "$$\\delta_i  > \\tau S$$ \n",
    "\n",
    "then the point is an **outlier**\n",
    "\n",
    "remove it, estimate **new** $\\bar{x}, S, \\delta_i$ and **repeat** the test. until there is no outlier in the set."
   ]
  },
  {
   "cell_type": "code",
   "execution_count": 7,
   "metadata": {},
   "outputs": [
    {
     "name": "stdout",
     "output_type": "stream",
     "text": [
      "n = 10, t = 2.3060, tau = 1.7984\n",
      "compare:  1.040 vs.  1.022 \n",
      "True\n"
     ]
    }
   ],
   "source": [
    "from scipy.stats import t\n",
    "\n",
    "\n",
    "n = len(x)\n",
    "tv =  t.isf(0.05/2,n-2)\n",
    "tau = tv*(n-1)/(sqrt(n)*sqrt(n-2+tv**2))\n",
    "\n",
    "print ('n = %d, t = %6.4f, tau = %6.4f' % (n,tv,tau))\n",
    "\n",
    "print ('compare: %6.3f vs. %6.3f ' % (max(delta), tau*stdx))\n",
    "print max(delta) > tau*stdx \n"
   ]
  },
  {
   "cell_type": "markdown",
   "metadata": {},
   "source": [
    "### So we remove the outlier and repeat the test (from the beginning)"
   ]
  },
  {
   "cell_type": "code",
   "execution_count": 26,
   "metadata": {},
   "outputs": [
    {
     "name": "stdout",
     "output_type": "stream",
     "text": [
      "('x: ', array([49.2, 50.1, 49.3, 50.2, 50.7, 49.3, 49.8, 48.9, 49.2]))\n",
      "mean =  49.63,  std =   0.60\n",
      "\n",
      "('deviations: ', array([0.43333333, 0.46666667, 0.33333333, 0.56666667, 1.06666667,\n",
      "       0.33333333, 0.16666667, 0.73333333, 0.43333333]))\n",
      "\n",
      "\n",
      "suspicious point is: 4.000000, its deviation is = 1.066667 \n",
      "\n",
      "n = 9, t = 2.3646, tau = 1.7770\n",
      "\n",
      "compare:  1.067 vs.  1.059 \n",
      "\n",
      "('Is it outlier? :', True)\n"
     ]
    }
   ],
   "source": [
    "# new data is one point less\n",
    "xnew = x[:-1].copy()\n",
    "meanx = mean(xnew)\n",
    "stdx = std(xnew,ddof=1)\n",
    "print ('x: ', xnew)\n",
    "print ('mean = %6.2f,  std = %6.2f\\n' % (meanx,stdx))\n",
    "\n",
    "# new deviations\n",
    "delta = abs(xnew - meanx)\n",
    "print('deviations: ',delta)\n",
    "print('\\n')\n",
    "print ('suspicious point is: %f, its deviation is = %f \\n' %( argmax(delta), max(delta)))\n",
    "# new \\tau test\n",
    "n = len(xnew)\n",
    "tv =  t.isf(0.05/2,n-2)\n",
    "tau = tv*(n-1)/(sqrt(n)*sqrt(n-2+tv**2))\n",
    "\n",
    "print ('n = %d, t = %6.4f, tau = %6.4f\\n' % (n,tv,tau))\n",
    "\n",
    "print ('compare: %6.3f vs. %6.3f \\n' % (max(delta), tau*stdx))\n",
    "print('Is it outlier? :', max(delta) > tau*stdx)"
   ]
  },
  {
   "cell_type": "code",
   "execution_count": 9,
   "metadata": {},
   "outputs": [
    {
     "data": {
      "image/png": "[encoded data removed]",
      "text/plain": [
       "<Figure size 432x288 with 1 Axes>"
      ]
     },
     "metadata": {},
     "output_type": "display_data"
    }
   ],
   "source": [
    "x = array([49.2,50.1,49.3,50.2, 50.7,49.3,49.8,48.9,49.2,49.9])\n",
    "plot(arange(1,11),x,'o'), plot(5,x[4],'rx',markersize=20), plot(8,x[7],'go',markersize=15,mfc='none')\n",
    "xlim([0,11])\n",
    "xlabel('$n$'),ylabel('$x$');"
   ]
  },
  {
   "cell_type": "code",
   "execution_count": null,
   "metadata": {},
   "outputs": [],
   "source": []
  }
 ],
 "metadata": {
  "kernelspec": {
   "display_name": "Python 2",
   "language": "python",
   "name": "python2"
  },
  "language_info": {
   "codemirror_mode": {
    "name": "ipython",
    "version": 2
   },
   "file_extension": ".py",
   "mimetype": "text/x-python",
   "name": "python",
   "nbconvert_exporter": "python",
   "pygments_lexer": "ipython2",
   "version": "2.7.14"
  }
 },
 "nbformat": 4,
 "nbformat_minor": 1
}
