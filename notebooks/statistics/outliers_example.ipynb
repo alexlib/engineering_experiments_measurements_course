{
 "cells": [
  {
   "cell_type": "markdown",
   "metadata": {},
   "source": [
    "# Outliers \n",
    "\n",
    "## example of outlier test using modified Thompson technique\n"
   ]
  },
  {
   "cell_type": "code",
   "execution_count": 9,
   "metadata": {},
   "outputs": [
    {
     "name": "stdout",
     "output_type": "stream",
     "text": [
      "Populating the interactive namespace from numpy and matplotlib\n"
     ]
    }
   ],
   "source": [
    "%pylab inline\n",
    "import matplotlib as mpl\n",
    "mpl.rcParams['lines.linewidth']=2\n",
    "mpl.rcParams['lines.color']='r'\n",
    "mpl.rcParams['figure.figsize']=(8,6)\n",
    "mpl.rcParams['font.size']=14\n",
    "mpl.rcParams['axes.labelsize']=20"
   ]
  },
  {
   "cell_type": "code",
   "execution_count": 10,
   "metadata": {},
   "outputs": [
    {
     "data": {
      "image/png": "[encoded data removed]",
      "text/plain": [
       "<Figure size 576x432 with 1 Axes>"
      ]
     },
     "metadata": {
      "needs_background": "light"
     },
     "output_type": "display_data"
    }
   ],
   "source": [
    "x = array([48.9, 49.2, 49.2, 49.3, 49.3, 49.8, 49.9, 50.1, 50.2, 50.7])\n",
    "plot(arange(1,11),x,'o'),xlim([0,11]),xlabel('$n$'),ylabel('$T\\; [^\\circ C \\,]$');"
   ]
  },
  {
   "cell_type": "markdown",
   "metadata": {},
   "source": [
    "### is there an outlier? \n",
    "Sort, look at the lowest and largest and plot to visualize "
   ]
  },
  {
   "cell_type": "code",
   "execution_count": 11,
   "metadata": {},
   "outputs": [
    {
     "data": {
      "image/png": "[encoded data removed]",
      "text/plain": [
       "<Figure size 576x432 with 1 Axes>"
      ]
     },
     "metadata": {
      "needs_background": "light"
     },
     "output_type": "display_data"
    }
   ],
   "source": [
    "plot(arange(2,10),x[1:-1],'o'), plot(1,x[0],'rs',markersize=10,linewidth=2),plot(10,x[-1],'gs',markersize=10)\n",
    "xlim([0,11])\n",
    "xlabel('$\\hat{n}$'),ylabel('Sorted $T\\; [^\\circ C \\,]$');"
   ]
  },
  {
   "cell_type": "markdown",
   "metadata": {},
   "source": [
    "### The sample mean and standard deviation, $\\bar{x}$, $S_x$"
   ]
  },
  {
   "cell_type": "code",
   "execution_count": 12,
   "metadata": {},
   "outputs": [
    {
     "name": "stdout",
     "output_type": "stream",
     "text": [
      "mean =  49.66,  std =   0.57\n"
     ]
    }
   ],
   "source": [
    "meanx = mean(x)\n",
    "stdx = std(x,ddof=1)\n",
    "print('mean = %6.2f,  std = %6.2f' % (meanx,stdx))"
   ]
  },
  {
   "cell_type": "markdown",
   "metadata": {},
   "source": [
    "### Defivations for each suspicious point, take the largest $\\delta_i = |x_i - \\bar{x}|$"
   ]
  },
  {
   "cell_type": "code",
   "execution_count": 13,
   "metadata": {},
   "outputs": [
    {
     "name": "stdout",
     "output_type": "stream",
     "text": [
      "suspicious points are first and last:\n",
      "0.760 1.040\n",
      "suspicious point is: 9 deviation is = 1.040\n"
     ]
    }
   ],
   "source": [
    "delta = abs(x - meanx)\n",
    "print ('suspicious points are first and last:')\n",
    "print ('%4.3f %4.3f' % (delta[0],delta[-1]))\n",
    "print ('suspicious point is:',  argmax(delta), 'deviation is = %4.3f' % max(delta))"
   ]
  },
  {
   "cell_type": "markdown",
   "metadata": {},
   "source": [
    "## Modified Thompson technique, $\\tau$\n",
    "\n",
    "Define the confidence level (95%), therefore $\\alpha = 5\\%$. Because we deal with outliers, the DOF is smaller:\n",
    "\n",
    "$$ \\tau = \\frac{t_{\\alpha/2} (n-1)}{\\sqrt{n} \\sqrt{n-2+t_{\\alpha/2}^2}}, \\qquad \\alpha = 0.05, \\quad df = n - 2 $$\n",
    "\n",
    "if: \n",
    "\n",
    "$$\\delta_i  > \\tau S$$ \n",
    "\n",
    "then the point is an **outlier**\n",
    "\n",
    "remove it, estimate **new** $\\bar{x}, S, \\delta_i$ and **repeat** the test. until there is no outlier in the set."
   ]
  },
  {
   "cell_type": "code",
   "execution_count": 15,
   "metadata": {},
   "outputs": [
    {
     "name": "stdout",
     "output_type": "stream",
     "text": [
      "n = 10, t = 2.3060, tau = 1.7984\n",
      "compare:  1.040 vs.  1.022 \n",
      "Is max() above $t_{\\nu,95}S$? True \n"
     ]
    }
   ],
   "source": [
    "from scipy.stats import t\n",
    "\n",
    "\n",
    "n = len(x)\n",
    "tv =  t.isf(0.05/2,n-2)\n",
    "tau = tv*(n-1)/(sqrt(n)*sqrt(n-2+tv**2))\n",
    "\n",
    "print ('n = %d, t = %6.4f, tau = %6.4f' % (n,tv,tau))\n",
    "\n",
    "print ('compare: %6.3f vs. %6.3f ' % (max(delta), tau*stdx))\n",
    "print ('Is max() above $t_{\\\\nu,95}S$? %s ' % (max(delta) > tau*stdx))\n"
   ]
  },
  {
   "cell_type": "markdown",
   "metadata": {},
   "source": [
    "### So we remove the outlier and repeat the test (from the beginning)"
   ]
  },
  {
   "cell_type": "code",
   "execution_count": 16,
   "metadata": {},
   "outputs": [
    {
     "name": "stdout",
     "output_type": "stream",
     "text": [
      "x:  [48.9 49.2 49.2 49.3 49.3 49.8 49.9 50.1 50.2]\n",
      "mean =  49.54,  std =   0.46\n",
      "\n",
      "deviations:  [0.64444444 0.34444444 0.34444444 0.24444444 0.24444444 0.25555556\n",
      " 0.35555556 0.55555556 0.65555556]\n",
      "\n",
      "\n",
      "suspicious point is: 8.000000, its deviation is = 0.655556 \n",
      "\n",
      "n = 9, t = 2.3646, tau = 1.7770\n",
      "\n",
      "compare:  0.656 vs.  0.820 \n",
      "\n",
      "Is it outlier? : False\n"
     ]
    }
   ],
   "source": [
    "# new data is one point less\n",
    "xnew = x[:-1].copy()\n",
    "meanx = mean(xnew)\n",
    "stdx = std(xnew,ddof=1)\n",
    "print ('x: ', xnew)\n",
    "print ('mean = %6.2f,  std = %6.2f\\n' % (meanx,stdx))\n",
    "\n",
    "# new deviations\n",
    "delta = abs(xnew - meanx)\n",
    "print('deviations: ',delta)\n",
    "print('\\n')\n",
    "print ('suspicious point is: %f, its deviation is = %f \\n' %( argmax(delta), max(delta)))\n",
    "# new \\tau test\n",
    "n = len(xnew)\n",
    "tv =  t.isf(0.05/2,n-2)\n",
    "tau = tv*(n-1)/(sqrt(n)*sqrt(n-2+tv**2))\n",
    "\n",
    "print ('n = %d, t = %6.4f, tau = %6.4f\\n' % (n,tv,tau))\n",
    "\n",
    "print ('compare: %6.3f vs. %6.3f \\n' % (max(delta), tau*stdx))\n",
    "print('Is it outlier? :', max(delta) > tau*stdx)"
   ]
  },
  {
   "cell_type": "code",
   "execution_count": null,
   "metadata": {},
   "outputs": [],
   "source": []
  },
  {
   "cell_type": "code",
   "execution_count": null,
   "metadata": {},
   "outputs": [],
   "source": []
  }
 ],
 "metadata": {
  "jupytext": {
   "text_representation": {
    "extension": ".md",
    "format_name": "markdown",
    "format_version": "1.2",
    "jupytext_version": "1.4.2"
   }
  },
  "kernelspec": {
   "display_name": "Python [conda env:mdd] *",
   "language": "python",
   "name": "conda-env-mdd-py"
  },
  "language_info": {
   "codemirror_mode": {
    "name": "ipython",
    "version": 3
   },
   "file_extension": ".py",
   "mimetype": "text/x-python",
   "name": "python",
   "nbconvert_exporter": "python",
   "pygments_lexer": "ipython3",
   "version": "3.7.6"
  }
 },
 "nbformat": 4,
 "nbformat_minor": 4
}
