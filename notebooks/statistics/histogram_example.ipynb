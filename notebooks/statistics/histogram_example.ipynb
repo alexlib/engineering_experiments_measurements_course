{
 "cells": [
  {
   "cell_type": "markdown",
   "metadata": {},
   "source": [
    "\n",
    "\n",
    "\n",
    "\n",
    "\n",
    "\n",
    "\n"
   ]
  },
  {
   "cell_type": "markdown",
   "metadata": {},
   "source": [
    "# Another histogram example\n",
    "### smaller sample, then larger sample"
   ]
  },
  {
   "cell_type": "code",
   "execution_count": 1,
   "metadata": {
    "collapsed": false
   },
   "outputs": [],
   "source": [
    "import numpy as np\n",
    "import matplotlib.pyplot as pl\n",
    "%matplotlib inline"
   ]
  },
  {
   "cell_type": "code",
   "execution_count": 2,
   "metadata": {
    "collapsed": false
   },
   "outputs": [],
   "source": [
    "x = np.array([1.1,1.2,0.95,1.04,1.06,0.95,0.97,1.03,1.01, 0.94,0.99,1.02,1.03,0.97,1.08,1.11,1.01,0.99])"
   ]
  },
  {
   "cell_type": "code",
   "execution_count": 3,
   "metadata": {
    "collapsed": false
   },
   "outputs": [
    {
     "data": {
      "text/plain": [
       "(0.8, 1.3)"
      ]
     },
     "execution_count": 3,
     "metadata": {},
     "output_type": "execute_result"
    },
    {
     "data": {
      "image/png": "[encoded data removed]",
      "text/plain": [
       "<Figure size 432x288 with 1 Axes>"
      ]
     },
     "metadata": {},
     "output_type": "display_data"
    }
   ],
   "source": [
    "pl.plot(x,'o')\n",
    "pl.plot([0,20],[x.mean(),x.mean()],lw=2)\n",
    "pl.xlim([-1.,20])\n",
    "pl.ylim([0.8,1.3])"
   ]
  },
  {
   "cell_type": "code",
   "execution_count": 4,
   "metadata": {
    "collapsed": false
   },
   "outputs": [
    {
     "name": "stdout",
     "output_type": "stream",
     "text": [
      "(1.025, 0.0647430819985168)\n"
     ]
    }
   ],
   "source": [
    "average = np.mean(x)\n",
    "stdev = np.std(x)\n",
    "print( average, stdev)"
   ]
  },
  {
   "cell_type": "code",
   "execution_count": 5,
   "metadata": {
    "collapsed": false
   },
   "outputs": [
    {
     "data": {
      "text/plain": [
       "Text(0,0.5,'Frequency')"
      ]
     },
     "execution_count": 5,
     "metadata": {},
     "output_type": "execute_result"
    },
    {
     "data": {
      "image/png": "[encoded data removed]",
      "text/plain": [
       "<Figure size 432x288 with 1 Axes>"
      ]
     },
     "metadata": {},
     "output_type": "display_data"
    }
   ],
   "source": [
    "pl.hist(x)\n",
    "pl.title('Automatic Histogram',fontsize=16)\n",
    "pl.xlabel('$x$',fontsize=16)\n",
    "pl.ylabel('Frequency',fontsize=16)"
   ]
  },
  {
   "cell_type": "code",
   "execution_count": 6,
   "metadata": {
    "collapsed": false
   },
   "outputs": [
    {
     "name": "stdout",
     "output_type": "stream",
     "text": [
      "5.1423992668409095\n",
      "5\n"
     ]
    },
    {
     "data": {
      "text/plain": [
       "(array([7., 6., 2., 2., 1.]),\n",
       " array([0.94 , 0.992, 1.044, 1.096, 1.148, 1.2  ]),\n",
       " <a list of 5 Patch objects>)"
      ]
     },
     "execution_count": 6,
     "metadata": {},
     "output_type": "execute_result"
    },
    {
     "data": {
      "image/png": "[encoded data removed]",
      "text/plain": [
       "<Figure size 432x288 with 1 Axes>"
      ]
     },
     "metadata": {},
     "output_type": "display_data"
    }
   ],
   "source": [
    "# Specifying the number of bins\n",
    "# Check Sturgis' rule\n",
    "J = 1 + 3.3*np.log10(x.shape[0])\n",
    "print(J)\n",
    "nbins = np.int(np.round(J))\n",
    "print (nbins)\n",
    "pl.hist(x, nbins)\n"
   ]
  },
  {
   "cell_type": "code",
   "execution_count": 7,
   "metadata": {
    "collapsed": false
   },
   "outputs": [
    {
     "data": {
      "text/plain": [
       "(0.85, 1.2500000000000002)"
      ]
     },
     "execution_count": 7,
     "metadata": {},
     "output_type": "execute_result"
    },
    {
     "data": {
      "image/png": "[encoded data removed]",
      "text/plain": [
       "<Figure size 432x288 with 1 Axes>"
      ]
     },
     "metadata": {},
     "output_type": "display_data"
    }
   ],
   "source": [
    "nbins = 6\n",
    "left_edge = 0.90\n",
    "bin_width = 0.05\n",
    "right_edge = left_edge + nbins*bin_width\n",
    "\n",
    "nbins = nbins + 2 # Add bins for x <= left_edge and x > right_edge\n",
    "bin_centers = np.arange(left_edge - 0.5*bin_width,right_edge + 0.5*bin_width,bin_width)\n",
    "pl.hist(x,bin_centers)\n",
    "\n",
    "xmin = left_edge - bin_width\n",
    "xmax = right_edge + bin_width\n",
    "pl.xlim([xmin,xmax])\n",
    "# ylim([0, max(n3)+1])"
   ]
  },
  {
   "cell_type": "code",
   "execution_count": 8,
   "metadata": {
    "collapsed": false
   },
   "outputs": [],
   "source": [
    "import StringIO\n",
    "output = StringIO.StringIO(\"\"\"\n",
    "23.70\n",
    "23.41\n",
    "23.87\n",
    "24.18\n",
    "24.15\n",
    "24.31\n",
    "23.14\n",
    "23.72\n",
    "24.12\n",
    "23.47\n",
    "23.59\n",
    "23.29\n",
    "23.24\n",
    "23.50\n",
    "23.56\n",
    "23.16\n",
    "23.62\n",
    "23.67\n",
    "23.84\n",
    "23.69\n",
    "23.70\n",
    "23.68\n",
    "24.20\n",
    "23.77\n",
    "23.74\n",
    "23.64\n",
    "24.39\n",
    "24.05\n",
    "24.51\n",
    "23.60\n",
    "24.29\n",
    "23.31\n",
    "23.96\n",
    "24.07\n",
    "24.37\n",
    "23.77\n",
    "23.64\n",
    "24.00\n",
    "23.68\n",
    "24.02\n",
    "23.36\n",
    "23.54\n",
    "23.34\n",
    "23.69\n",
    "23.79\n",
    "23.80\n",
    "23.70\n",
    "24.45\n",
    "23.27\n",
    "23.57\n",
    "23.02\n",
    "24.23\n",
    "23.41\n",
    "23.60\n",
    "24.02\n",
    "23.94\n",
    "24.06\n",
    "23.97\n",
    "23.38\n",
    "23.46\n",
    "24.00\n",
    "23.89\n",
    "23.51\n",
    "23.72\n",
    "23.83\n",
    "23.96\n",
    "23.84\n",
    "23.52\n",
    "24.36\n",
    "23.94\n",
    "23.82\n",
    "24.04\n",
    "24.05\n",
    "23.60\n",
    "23.52\n",
    "24.13\n",
    "23.43\n",
    "23.33\n",
    "24.01\n",
    "23.99\n",
    "24.46\n",
    "24.23\n",
    "24.19\n",
    "23.83\n",
    "23.80\n",
    "23.93\n",
    "23.79\n",
    "23.48\n",
    "23.26\n",
    "24.04\n",
    "23.93\n",
    "23.98\n",
    "23.86\n",
    "23.49\n",
    "24.17\n",
    "23.70\n",
    "23.54\n",
    "23.55\n",
    "23.67\n",
    "23.66\n",
    "\"\"\")\n",
    "x = np.loadtxt(output)"
   ]
  },
  {
   "cell_type": "code",
   "execution_count": 9,
   "metadata": {
    "collapsed": false
   },
   "outputs": [
    {
     "data": {
      "text/plain": [
       "[<matplotlib.lines.Line2D at 0x10c809e90>]"
      ]
     },
     "execution_count": 9,
     "metadata": {},
     "output_type": "execute_result"
    },
    {
     "data": {
      "image/png": "[encoded data removed]",
      "text/plain": [
       "<Figure size 432x288 with 1 Axes>"
      ]
     },
     "metadata": {},
     "output_type": "display_data"
    }
   ],
   "source": [
    "pl.plot(x,'o')\n",
    "pl.plot([0,100],[x.mean(),x.mean()],'-',lw=2)"
   ]
  },
  {
   "cell_type": "code",
   "execution_count": 10,
   "metadata": {
    "collapsed": false
   },
   "outputs": [
    {
     "data": {
      "text/plain": [
       "(array([ 3.,  5.,  8., 16., 17., 14., 19.,  8.,  5.,  5.]),\n",
       " array([23.02 , 23.169, 23.318, 23.467, 23.616, 23.765, 23.914, 24.063,\n",
       "        24.212, 24.361, 24.51 ]),\n",
       " <a list of 10 Patch objects>)"
      ]
     },
     "execution_count": 10,
     "metadata": {},
     "output_type": "execute_result"
    },
    {
     "data": {
      "image/png": "[encoded data removed]",
      "text/plain": [
       "<Figure size 432x288 with 1 Axes>"
      ]
     },
     "metadata": {},
     "output_type": "display_data"
    }
   ],
   "source": [
    "J = 1 + 3.3*np.log10(x.shape[0])\n",
    "nbins = np.int(round(J)+2)\n",
    "pl.hist(x,nbins)"
   ]
  },
  {
   "cell_type": "code",
   "execution_count": 11,
   "metadata": {
    "collapsed": false
   },
   "outputs": [],
   "source": [
    "from scipy.stats import norm\n",
    "(mu, sigma) = norm.fit(x)"
   ]
  },
  {
   "cell_type": "code",
   "execution_count": 12,
   "metadata": {
    "collapsed": false
   },
   "outputs": [
    {
     "name": "stdout",
     "output_type": "stream",
     "text": [
      "23.782700000000006 0.3243357982092018\n"
     ]
    }
   ],
   "source": [
    "print mu, sigma"
   ]
  },
  {
   "cell_type": "code",
   "execution_count": 13,
   "metadata": {
    "collapsed": false
   },
   "outputs": [
    {
     "name": "stderr",
     "output_type": "stream",
     "text": [
      "/Users/alex/miniconda3/envs/taas/lib/python2.7/site-packages/matplotlib/axes/_axes.py:6448: UserWarning: The 'normed' kwarg is deprecated, and has been replaced by the 'density' kwarg.\n",
      "  warnings.warn(\"The 'normed' kwarg is deprecated, and has been \"\n"
     ]
    },
    {
     "data": {
      "image/png": "[encoded data removed]",
      "text/plain": [
       "<Figure size 432x288 with 1 Axes>"
      ]
     },
     "metadata": {},
     "output_type": "display_data"
    }
   ],
   "source": [
    "n, bins, patches = pl.hist(x, nbins, normed=1, facecolor='green', alpha=0.75)\n",
    "y = norm.pdf( bins, mu, sigma)\n",
    "l = pl.plot(bins, y, 'r--', linewidth=2)"
   ]
  },
  {
   "cell_type": "code",
   "execution_count": 14,
   "metadata": {
    "collapsed": false
   },
   "outputs": [
    {
     "data": {
      "image/png": "[encoded data removed]",
      "text/plain": [
       "<Figure size 432x288 with 1 Axes>"
      ]
     },
     "metadata": {},
     "output_type": "display_data"
    }
   ],
   "source": [
    "# more bins is not better\n",
    "n, bins, patches = pl.hist(x, 50, normed=1, facecolor='green', alpha=0.75)\n",
    "y = norm.pdf( bins, mu, sigma)\n",
    "l = pl.plot(bins, y, 'r--', linewidth=2)"
   ]
  },
  {
   "cell_type": "code",
   "execution_count": null,
   "metadata": {
    "collapsed": false
   },
   "outputs": [],
   "source": []
  },
  {
   "cell_type": "code",
   "execution_count": null,
   "metadata": {
    "collapsed": false
   },
   "outputs": [],
   "source": []
  }
 ],
 "metadata": {
  "kernelspec": {
   "display_name": "Python 2",
   "language": "python",
   "name": "python2"
  },
  "language_info": {
   "codemirror_mode": {
    "name": "ipython",
    "version": 2
   },
   "file_extension": ".py",
   "mimetype": "text/x-python",
   "name": "python",
   "nbconvert_exporter": "python",
   "pygments_lexer": "ipython2",
   "version": "2.7.14"
  }
 },
 "nbformat": 4,
 "nbformat_minor": 2
}
