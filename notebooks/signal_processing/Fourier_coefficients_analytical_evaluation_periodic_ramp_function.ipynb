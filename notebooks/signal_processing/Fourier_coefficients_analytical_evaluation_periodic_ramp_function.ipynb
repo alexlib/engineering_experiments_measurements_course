{
 "cells": [
  {
   "cell_type": "code",
   "execution_count": 36,
   "metadata": {
    "collapsed": false,
    "jupyter": {
     "outputs_hidden": false
    }
   },
   "outputs": [],
   "source": [
    "from sympy import *\r\n",
    "from sympy.plotting import plot\r\n",
    "# init_printing(pretty_print=True,use_latex=True)\r\n",
    "# %matplotlib inline\r\n",
    "# import matplotlib.pyplot as plt\r\n",
    "from numpy import arange"
   ]
  },
  {
   "cell_type": "code",
   "execution_count": 37,
   "metadata": {
    "collapsed": false,
    "jupyter": {
     "outputs_hidden": false
    }
   },
   "outputs": [],
   "source": [
    "f,t,T,G = symbols('f t T G')"
   ]
  },
  {
   "cell_type": "code",
   "execution_count": 46,
   "metadata": {
    "collapsed": false,
    "jupyter": {
     "outputs_hidden": false
    }
   },
   "outputs": [
    {
     "name": "stdout",
     "output_type": "stream",
     "text": [
      "f = G*t - G/2\n"
     ]
    }
   ],
   "source": [
    "f = G*t-G/2\r\n",
    "print ('f =', f)"
   ]
  },
  {
   "cell_type": "code",
   "execution_count": 47,
   "metadata": {
    "collapsed": false,
    "jupyter": {
     "outputs_hidden": false
    }
   },
   "outputs": [
    {
     "data": {
      "image/png": "[encoded data removed]",
      "text/plain": "<Figure size 432x288 with 1 Axes>"
     },
     "metadata": {
      "needs_background": "light"
     },
     "output_type": "display_data"
    }
   ],
   "source": [
    "p = plot((f.subs(G,25),(t,0,1)),((f-25).subs(G,25),(t,1,2)),((f-50).subs(G,25),(t,2,3)), \\\r\n",
    "         ylabel = '$f = 25 t$ [V]', xlabel = '$t$ [sec]', xlim=(0,3), figsize=(10,8))"
   ]
  },
  {
   "cell_type": "code",
   "execution_count": 48,
   "metadata": {
    "collapsed": false,
    "jupyter": {
     "outputs_hidden": false
    }
   },
   "outputs": [
    {
     "name": "stdout",
     "output_type": "stream",
     "text": [
      "(G*T**2/2 - G*T/2)/T\n",
      "0\n"
     ]
    }
   ],
   "source": [
    "c0 = integrate(f,(t,0,T))*(1/T)\n",
    "print(c0) \n",
    "print (c0.subs([(G,25),(T,1)]))"
   ]
  },
  {
   "cell_type": "code",
   "execution_count": 49,
   "metadata": {
    "collapsed": false,
    "jupyter": {
     "outputs_hidden": false
    }
   },
   "outputs": [],
   "source": [
    "a1 = (2/T)*integrate(f*sin(2*pi*1*t),(t,0,T))"
   ]
  },
  {
   "cell_type": "code",
   "execution_count": 50,
   "metadata": {
    "collapsed": false,
    "jupyter": {
     "outputs_hidden": false
    }
   },
   "outputs": [
    {
     "name": "stdout",
     "output_type": "stream",
     "text": [
      "2*(-G*T*cos(2*pi*T)/(2*pi) + G*sin(2*pi*T)/(4*pi**2) + G*cos(2*pi*T)/(4*pi) - G/(4*pi))/T\n",
      "-7.96178343949045\n"
     ]
    }
   ],
   "source": [
    "print(a1)\n",
    "print( a1.subs([(T,1),(pi, 3.14),(G,25)]))"
   ]
  },
  {
   "cell_type": "code",
   "execution_count": 51,
   "metadata": {
    "collapsed": false,
    "jupyter": {
     "outputs_hidden": false
    }
   },
   "outputs": [],
   "source": [
    "a,b = [],[]\n",
    "for n in range(10):\n",
    "    a.append((2/T)*integrate(f*sin(n*pi*t),(t,0,T)))\n",
    "    b.append((2/T)*integrate(f*cos(n*pi*t),(t,0,T)))"
   ]
  },
  {
   "cell_type": "code",
   "execution_count": 44,
   "metadata": {
    "collapsed": false,
    "jupyter": {
     "outputs_hidden": false
    }
   },
   "outputs": [
    {
     "data": {
      "text/plain": "(2*G*(-T*cos(9*pi*T)/(9*pi) + sin(9*pi*T)/(81*pi**2))/T,\n 2*(G*(T*sin(9*pi*T)/(9*pi) + cos(9*pi*T)/(81*pi**2)) - G/(81*pi**2))/T)"
     },
     "execution_count": 44,
     "metadata": {},
     "output_type": "execute_result"
    }
   ],
   "source": [
    "a[9], b[9]"
   ]
  },
  {
   "cell_type": "code",
   "execution_count": 45,
   "metadata": {
    "collapsed": false,
    "jupyter": {
     "outputs_hidden": false
    }
   },
   "outputs": [
    {
     "name": "stdout",
     "output_type": "stream",
     "text": [
      "2*G*(-T*cos(pi*T)/pi + sin(pi*T)/pi**2)/T\n",
      "2*G*(-T*cos(2*pi*T)/(2*pi) + sin(2*pi*T)/(4*pi**2))/T\n",
      "2*G*(-T*cos(3*pi*T)/(3*pi) + sin(3*pi*T)/(9*pi**2))/T\n",
      "2*G*(-T*cos(4*pi*T)/(4*pi) + sin(4*pi*T)/(16*pi**2))/T\n",
      "2*G*(-T*cos(5*pi*T)/(5*pi) + sin(5*pi*T)/(25*pi**2))/T\n",
      "2*G*(-T*cos(6*pi*T)/(6*pi) + sin(6*pi*T)/(36*pi**2))/T\n",
      "2*G*(-T*cos(7*pi*T)/(7*pi) + sin(7*pi*T)/(49*pi**2))/T\n",
      "2*G*(-T*cos(8*pi*T)/(8*pi) + sin(8*pi*T)/(64*pi**2))/T\n",
      "2*G*(-T*cos(9*pi*T)/(9*pi) + sin(9*pi*T)/(81*pi**2))/T\n"
     ]
    }
   ],
   "source": [
    "\r\n",
    "c = []\r\n",
    "for n in range(1,10):\r\n",
    "    print( a[n])\r\n",
    "    expr = sqrt(a[n]**2 + b[n]**2)\r\n",
    "    expr = expr.subs([(T,1),(pi, 3.14),(G,25)])\r\n",
    "    # print expr\r\n",
    "    # val = lambdify(t,expr,'numpy')\r\n",
    "    c.append(expr)"
   ]
  },
  {
   "cell_type": "code",
   "execution_count": 35,
   "metadata": {
    "collapsed": false,
    "jupyter": {
     "outputs_hidden": false
    }
   },
   "outputs": [
    {
     "data": {
      "text/plain": "Text(0, 0.5, 'Fourier coefficients $a_n^2 + b_n^2$')"
     },
     "execution_count": 35,
     "metadata": {},
     "output_type": "execute_result"
    },
    {
     "data": {
      "image/png": "[encoded data removed]",
      "text/plain": "<Figure size 720x576 with 1 Axes>"
     },
     "metadata": {
      "needs_background": "light"
     },
     "output_type": "display_data"
    }
   ],
   "source": [
    "import matplotlib.pyplot as plt\r\n",
    "fig,ax = plt.subplots(figsize=(10,8))\r\n",
    "ax.bar(-.5+arange(1,10),c,alpha=.5)\r\n",
    "ax.set_xticks([1,2,3,4,5,6,7,8,9,10])\r\n",
    "ax.set_xlabel('$n$',fontsize=16)\r\n",
    "ax.set_ylabel('Fourier coefficients $a_n^2 + b_n^2$',fontsize=16)"
   ]
  },
  {
   "cell_type": "code",
   "execution_count": null,
   "metadata": {
    "collapsed": false,
    "jupyter": {
     "outputs_hidden": false
    }
   },
   "outputs": [],
   "source": []
  }
 ],
 "metadata": {
  "jupytext": {
   "text_representation": {
    "extension": ".md",
    "format_name": "markdown",
    "format_version": "1.2",
    "jupytext_version": "1.4.2"
   }
  },
  "kernelspec": {
   "display_name": "Python 3",
   "language": "python",
   "name": "python3"
  },
  "language_info": {
   "name": "python",
   "version": ""
  }
 },
 "nbformat": 4,
 "nbformat_minor": 4
}