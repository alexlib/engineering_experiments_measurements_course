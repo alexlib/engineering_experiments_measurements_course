{
 "cells": [
  {
   "cell_type": "markdown",
   "metadata": {},
   "source": [
    "# Lecture 6\n",
    "## Regression analysis"
   ]
  },
  {
   "cell_type": "code",
   "execution_count": 7,
   "metadata": {},
   "outputs": [],
   "source": [
    "# %load '../../scripts/linear_regression.py'\n",
    "import numpy as np\n",
    "\n",
    "def linreg(X, Y):\n",
    "    \"\"\"\n",
    "    Summary\n",
    "        Linear regression of y = ax + b\n",
    "    Usage\n",
    "        real, real, real = linreg(list, list)\n",
    "    Returns coefficients to the regression line \"y=ax+b\" from x[] and y[], and R^2 Value\n",
    "    \"\"\"\n",
    "    N = len(X)\n",
    "\n",
    "    if N != len(Y):  raise(ValueError, 'unequal length')\n",
    "\n",
    "    Sx = Sy = Sxx = Syy = Sxy = 0.0\n",
    "    for x, y in zip(X, Y):\n",
    "        Sx = Sx + x\n",
    "        Sy = Sy + y\n",
    "        Sxx = Sxx + x*x\n",
    "        Syy = Syy + y*y\n",
    "        Sxy = Sxy + x*y\n",
    "\n",
    "    det =  Sx * Sx - Sxx * N # see the lecture\n",
    "\n",
    "    a,b = (Sy * Sx - Sxy * N)/det, (Sx * Sxy - Sxx * Sy)/det\n",
    "\n",
    "    meanerror = residual = residualx = 0.0\n",
    "\n",
    "    for x, y in zip(X, Y):\n",
    "        meanerror = meanerror + (y - Sy/N)**2\n",
    "        residual = residual + (y - a * x - b)**2\n",
    "        residualx = residualx + (x - Sx/N)**2\n",
    "\n",
    "    RR = 1 - residual/meanerror\n",
    "    # linear regression, a_0, a_1 => m = 1\n",
    "    m = 1\n",
    "    nu = N - (m+1)\n",
    "\n",
    "    sxy = np.sqrt(residual / nu)\n",
    "\n",
    "    # Var_a, Var_b = ss * N / det, ss * Sxx / det\n",
    "\n",
    "    Sa = sxy * np.sqrt(1/residualx)\n",
    "    Sb = sxy * np.sqrt(Sxx/(N*residualx))\n",
    "\n",
    "\n",
    "    # We work with t-distribution, ()\n",
    "    # t_{nu;\\alpha/2} = t_{3,95} = 3.18\n",
    "\n",
    "    print(\"Estimate: y = ax + b\")\n",
    "    print(\"N = %d\" % N)\n",
    "    print(\"Degrees of freedom $\\\\nu$ = %d \" % nu)\n",
    "    print(\"a = %.2f $\\\\pm$ %.3f\" % (a, 3.18*Sa/np.sqrt(N)))\n",
    "    print(\"b = %.2f $\\\\pm$ %.3f\" % (b, 3.18*Sb/np.sqrt(N)))\n",
    "    print(\"R^2 = %.3f\" % RR)\n",
    "    print(\"Sxy = %.3f\" % sxy)\n",
    "    print(\"y = %.2f x + %.2f $\\\\pm$ %.2fV\" % (a, b, 3.18*sxy/np.sqrt(N)))\n",
    "    return a, b, RR, sxy"
   ]
  },
  {
   "cell_type": "markdown",
   "metadata": {},
   "source": [
    "### Linear potentiometer calibration: distance versus voltage"
   ]
  },
  {
   "cell_type": "code",
   "execution_count": 8,
   "metadata": {},
   "outputs": [],
   "source": [
    "X = np.array([1.0, 2.0, 3.0, 4.0, 5.0]) # (cm)\n",
    "Y = np.array([1.2, 1.9, 3.2, 4.1, 5.3]) # (Volt)"
   ]
  },
  {
   "cell_type": "code",
   "execution_count": 9,
   "metadata": {},
   "outputs": [
    {
     "name": "stdout",
     "output_type": "stream",
     "text": [
      "Estimate: y = ax + b\n",
      "N = 5\n",
      "Degrees of freedom $\\nu$ = 3 \n",
      "a = 1.04 $\\pm$ 0.072\n",
      "b = 0.02 $\\pm$ 0.237\n",
      "R^2 = 0.993\n",
      "Sxy = 0.159\n",
      "y = 1.04 x + 0.02 $\\pm$ 0.23V\n"
     ]
    }
   ],
   "source": [
    "a,b,RR,sxy = linreg(X,Y)"
   ]
  },
  {
   "cell_type": "code",
   "execution_count": 45,
   "metadata": {},
   "outputs": [
    {
     "data": {
      "image/png": "[encoded data removed]",
      "text/plain": [
       "<Figure size 576x576 with 1 Axes>"
      ]
     },
     "metadata": {
      "needs_background": "light"
     },
     "output_type": "display_data"
    }
   ],
   "source": [
    "import matplotlib.pyplot as plt\n",
    "\n",
    "fig,ax = plt.subplots(figsize=(8,8))\n",
    "ax.plot(X,Y,'o')\n",
    "ax.plot(X,(X*a + b),'r-')\n",
    "ax.plot(X,(X*a + b +.23),'k--')\n",
    "ax.plot(X,(X*a + b - .23),'k--')\n",
    "ax.set_xlim((0,8))\n",
    "ax.set_ylim((0,8))\n",
    "ax.text(.5,4,'Range of $Y$')\n",
    "ax.text(2,1,'Range of $X$')\n",
    "ax.plot([0,1],[1,1],'k:')\n",
    "ax.plot([0,5],[5.5,5.5],'k:')\n",
    "ax.plot([1,1],[0,1],'k:')\n",
    "ax.plot([5,5],[0,5.5],'k:')\n",
    "\n",
    "ax.annotate('Confidence interval', xy=(4,4), xytext=(6,4),\n",
    "            arrowprops=dict(facecolor='black', shrink=0.05,width=.1),\n",
    "            )\n",
    "ax.annotate('Confidence interval', xy=(4,4.5), xytext=(6,4),\n",
    "            arrowprops=dict(facecolor='black', shrink=0.05,width=.1),\n",
    "            )\n",
    "\n",
    "ax.set_xlabel('$x$ (cm)',fontsize=16)\n",
    "ax.set_ylabel('$y$ (V)',fontsize=16);"
   ]
  },
  {
   "cell_type": "code",
   "execution_count": null,
   "metadata": {},
   "outputs": [],
   "source": []
  }
 ],
 "metadata": {
  "jupytext": {
   "text_representation": {
    "extension": ".md",
    "format_name": "markdown",
    "format_version": "1.2",
    "jupytext_version": "1.4.2"
   }
  },
  "kernelspec": {
   "display_name": "Python [conda env:mdd] *",
   "language": "python",
   "name": "conda-env-mdd-py"
  },
  "language_info": {
   "codemirror_mode": {
    "name": "ipython",
    "version": 3
   },
   "file_extension": ".py",
   "mimetype": "text/x-python",
   "name": "python",
   "nbconvert_exporter": "python",
   "pygments_lexer": "ipython3",
   "version": "3.7.7"
  }
 },
 "nbformat": 4,
 "nbformat_minor": 4
}
