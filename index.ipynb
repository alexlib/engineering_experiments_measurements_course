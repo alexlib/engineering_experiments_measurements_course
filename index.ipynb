{
 "cells": [
  {
   "cell_type": "markdown",
   "metadata": {},
   "source": [
    "## Getting Started\n",
    "\n",
    "The Jupyter/IPython notebooks for each topic are available as [static web pages](http://nbviewer.ipython.org/github/alexlib/engineering_experiments_measurements_course/) as well as for interactive use with [Jupyter](http://jupyter.org/) (formerly known as [IPython](http://ipython.org/)), to be [downloaded from Github](http://github.com/alexlib/engineering_experiments_measurements_course).\n",
    "\n",
    "Use [Git](http://git-scm.org/) to download the files (or download the [zip file](https://github.com/spatialaudio/communication-acoustics-exercises/archive/master.zip)), use the Python package management system [pip](http://www.pip-installer.org/) to install a few Python libraries that we will use and then start the IPython notebook:\n",
    "\n",
    "    git clone https://github.com/alexlib/engineering_experiments_measurements_course.git \n",
    "    cd engineering_experiments_measurements_course\n",
    "    jupyter notebook\n",
    "    \n",
    "This will open a new view in your web browser with a list of notebooks.\n",
    "Click on [intro.ipynb](intro.ipynb) (or any of the other available notebooks) and enjoy!\n",
    "If you are new to Git, have a look at this [introduction to Git](http://mg.rtfd.org/git.html).\n",
    "\n",
    "Alternatively, you can also download individual notebook files (with the extension `.ipynb`) and open them in IPython.\n",
    "Note that some exercises make use of additional files (audio files etc.) which you'll then also have to download manually.\n",
    "\n",
    "We use so far Python 2, we will move to Python 3 soon. \n",
    "\n",
    "If you don't have Python installed already, you should download and install a Python distribution which already includes all the libraries we'll need, e.g. [Anaconda](https://www.continuum.io/downloads)"
   ]
  },
  {
   "cell_type": "markdown",
   "metadata": {},
   "source": [
    "## Interactive Online Version\n",
    "\n",
    "If you don't feel like installing Jupyter/IPython, but still want to try out the notebooks, you can [![Binder](http://mybinder.org/badge.svg)](http://mybinder.org/repo/alexlib/engineering_experiments_measurements_course) and start playing around immediately.\n",
    "\n",
    "Note, however, that your changes will not be preserved.\n",
    "Once you close your browser, everything will be lost! But you can download the notebook for later reuse."
   ]
  },
  {
   "cell_type": "markdown",
   "metadata": {},
   "source": [
    "## External Links\n",
    "\n",
    "This file is created following a very nice IPython notebook course on http://nbviewer.ipython.org/github/spatialaudio/communication-acoustics-exercises/\n",
    "\n",
    "to which we are thankful. "
   ]
  },
  {
   "cell_type": "markdown",
   "metadata": {},
   "source": [
    "## Copyright Information\n",
    "\n",
    "<p xmlns:dct=\"http://purl.org/dc/terms/\">\n",
    "  <a rel=\"license\"\n",
    "     href=\"http://creativecommons.org/publicdomain/zero/1.0/\">\n",
    "    <img src=\"http://i.creativecommons.org/p/zero/1.0/88x31.png\" style=\"border-style: none;\" alt=\"CC0\" />\n",
    "  </a>\n",
    "  <br />\n",
    "  To the extent possible under law,\n",
    "  <span rel=\"dct:publisher\" resource=\"[_:publisher]\">the person who associated CC0</span>\n",
    "  with this work has waived all copyright and related or neighboring\n",
    "  rights to this work.\n",
    "</p>"
   ]
  }
 ],
 "metadata": {
  "jupytext": {
   "formats": "ipynb,py,md"
  },
  "kernelspec": {
   "display_name": "Python [conda env:mdd] *",
   "language": "python",
   "name": "conda-env-mdd-py"
  },
  "language_info": {
   "codemirror_mode": {
    "name": "ipython",
    "version": 3
   },
   "file_extension": ".py",
   "mimetype": "text/x-python",
   "name": "python",
   "nbconvert_exporter": "python",
   "pygments_lexer": "ipython3",
   "version": "3.7.7"
  }
 },
 "nbformat": 4,
 "nbformat_minor": 4
}
