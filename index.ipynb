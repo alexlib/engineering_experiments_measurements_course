{
 "cells": [
  {
   "cell_type": "markdown",
   "metadata": {},
   "source": [
    "# Engineering Experiments and Instrumentation\n",
    "\n",
    "This repository holds some Jupyter/IPython notebooks which are part of the course material for the exercises accompanying the lecture \"Engineering Experiments and Instrumentation\" at [School of Mechanical Engineering](http://engineering.tau.ac.il/School-of-Mechanical-Engineering), [Tel Aviv University](http://www.tau.ac.il)."
   ]
  },
  {
   "cell_type": "markdown",
   "metadata": {},
   "source": [
    "The exercises are split into the following units.\n",
    "Most of them build upon knowledge from previous units, so you should do them in order:\n",
    "\n",
    "### Introduction and theory\n",
    "1. [Generalized measurement system](general_measurement_system_analysis.ipynb)\n",
    "1. [Basic error analysis](basic_error_analysis.ipynb)\n",
    "\n",
    "### Calibration (typical errors, regression)\n",
    "1. [Regression analysis - explanation](introduction_linear_regression.ipynb)\n",
    "1. [Calibration of non-linear relations](calibration_non_linear_relations.ipynb)\n",
    "1. [Hysteresis error analysis](hysteresis_error_analysis.ipynb)\n",
    "1. [Sensitivity coefficient](sensitivity_analysis.ipynb)\n",
    "1. [Hysteresis and regression for calibration](calibration_error_analysis_pressure.ipynb)\n",
    "1. [Linearity error analysis - calibration](Lineariy_error_example.ipynb)\n",
    "<!--- 1. [LVDT calibration](lvdt_calibration.ipynb) --->\n",
    "1. [Calibration and uncertainty analysis - virtual experiment](full_calibration_analysis_example_2.ipynb)\n",
    "1. [Pressure transducer calibration example](pressure_calibration_example.ipynb)\n",
    "\n",
    "\n",
    "### Statistics (histograms, statistical tests, outliers)\n",
    "\n",
    "1. [Basic Statistics](basic_statistics.ipynb)\n",
    "1. [Central limit theorem illustration](Central_limit_theorem_illustration.ipynb)\n",
    "1. [Testing for normal distribution, chi^2](chi_square_test_example.ipynb)\n",
    "1. [Probability Distributions and the Central Limit Theorem](distributions.ipynb)\n",
    "1. [Histogram analysis example](histogram_example.ipynb)\n",
    "1. [Histograms](histograms.ipynb)\n",
    "1. [Student t-distribution](t-distribution.ipynb)\n",
    "1. [Outliers analysis](outliers_example.ipynb)\n",
    "1. [Outliers of pairs (x,y) analyis](outliers_example_pairs.ipynb)\n",
    "1. [Various random variables, log-normal, log-log-normal](various_random_variables.ipynb)\n",
    "\n",
    "### Dynamical systems (1st order, 2nd order)\n",
    "1. [First order dynamical system responses](first_order_time_response.ipynb)\n",
    "1. [Step response](step_response.ipynb)\n",
    "1. [Estimate parameters 2nd order system](2nd_order_system_step_function_log_decrement.ipynb)\n",
    "\n",
    "\n",
    "### Fourier analysis, frequency content, spectrum\n",
    "\n",
    "1. [Analytical approach to Fourier coefficients of a periodic ramp function](Fourier_coefficients_analytical_evaluation_periodic_ramp_function.ipynb)\n",
    "1. [Fourier transform of a pure sine wave](Fourier_transforms_pure_sine.ipynb)\n",
    "1. [Frequency content (spectrum) of a periodic signal](Frequency_content_of_a_periodic_signal.ipynb)\n",
    "1. [Using FFT to filter noise](FFT_based_filtering.ipynb)\n",
    "\n",
    "\n",
    "\n",
    "\n",
    "### Sampling, aliasing, A/D, D/A conversion\n",
    "1. [Digital to Analog D/A reconstruction](Reconstruction_periodic_signal_Cardinal_series.ipynb)\n",
    "1. [Sampling, aliasing, clipping](sampling_aliasing_examples.ipynb)\n",
    "\n",
    "\n",
    "### Various measurement concepts\n",
    "1. [Doppler effect demonstration](doppler.ipynb)\n",
    "1. [Particle Image Velocimetry](piv.ipynb)\n"
   ]
  },
  {
   "cell_type": "markdown",
   "metadata": {},
   "source": [
    "## Getting Started\n",
    "\n",
    "The Jupyter/IPython notebooks for each topic are available as [static web pages](http://nbviewer.ipython.org/github/alexlib/engineering_experiments_measurements_course/) as well as for interactive use with [Jupyter](http://jupyter.org/) (formerly known as [IPython](http://ipython.org/)), to be [downloaded from Github](http://github.com/alexlib/engineering_experiments_measurements_course).\n",
    "\n",
    "Use [Git](http://git-scm.org/) to download the files (or download the [zip file](https://github.com/spatialaudio/communication-acoustics-exercises/archive/master.zip)), use the Python package management system [pip](http://www.pip-installer.org/) to install a few Python libraries that we will use and then start the IPython notebook:\n",
    "\n",
    "    git clone https://github.com/alexlib/engineering_experiments_measurements_course.git \n",
    "    cd engineering_experiments_measurements_course\n",
    "    ipython notebook\n",
    "    \n",
    "This will open a new view in your web browser with a list of notebooks.\n",
    "Click on [intro.ipynb](intro.ipynb) (or any of the other available notebooks) and enjoy!\n",
    "If you are new to Git, have a look at this [introduction to Git](http://mg.rtfd.org/git.html).\n",
    "\n",
    "Alternatively, you can also download individual notebook files (with the extension `.ipynb`) and open them in IPython.\n",
    "Note that some exercises make use of additional files (audio files etc.) which you'll then also have to download manually.\n",
    "\n",
    "We use so far Python 2, we will move to Python 3 soon. \n",
    "\n",
    "If you don't have Python installed already, you should download and install a Python distribution which already includes all the libraries we'll need, e.g. [Anaconda](https://www.continuum.io/downloads)"
   ]
  },
  {
   "cell_type": "markdown",
   "metadata": {},
   "source": [
    "## Interactive Online Version\n",
    "\n",
    "If you don't feel like installing Jupyter/IPython, but still want to try out the notebooks, you can [![Binder](http://mybinder.org/badge.svg)](http://mybinder.org/repo/alexlib/engineering_experiments_measurements_course) and start playing around immediately.\n",
    "\n",
    "Note, however, that your changes will not be preserved.\n",
    "Once you close your browser, everything will be lost! But you can download the notebook for later reuse."
   ]
  },
  {
   "cell_type": "markdown",
   "metadata": {},
   "source": [
    "## External Links\n",
    "\n",
    "This file is created following a very nice IPython notebook course on http://nbviewer.ipython.org/github/spatialaudio/communication-acoustics-exercises/\n",
    "\n",
    "to which we are thankful. "
   ]
  },
  {
   "cell_type": "markdown",
   "metadata": {},
   "source": [
    "## Copyright Information\n",
    "\n",
    "<p xmlns:dct=\"http://purl.org/dc/terms/\">\n",
    "  <a rel=\"license\"\n",
    "     href=\"http://creativecommons.org/publicdomain/zero/1.0/\">\n",
    "    <img src=\"http://i.creativecommons.org/p/zero/1.0/88x31.png\" style=\"border-style: none;\" alt=\"CC0\" />\n",
    "  </a>\n",
    "  <br />\n",
    "  To the extent possible under law,\n",
    "  <span rel=\"dct:publisher\" resource=\"[_:publisher]\">the person who associated CC0</span>\n",
    "  with this work has waived all copyright and related or neighboring\n",
    "  rights to this work.\n",
    "</p>"
   ]
  }
 ],
 "metadata": {
  "jupytext": {
   "formats": "ipynb,py,md"
  },
  "kernelspec": {
   "display_name": "Python 2",
   "language": "python",
   "name": "python2"
  },
  "language_info": {
   "codemirror_mode": {
    "name": "ipython",
    "version": 2
   },
   "file_extension": ".py",
   "mimetype": "text/x-python",
   "name": "python",
   "nbconvert_exporter": "python",
   "pygments_lexer": "ipython2",
   "version": "2.7.14"
  }
 },
 "nbformat": 4,
 "nbformat_minor": 2
}
