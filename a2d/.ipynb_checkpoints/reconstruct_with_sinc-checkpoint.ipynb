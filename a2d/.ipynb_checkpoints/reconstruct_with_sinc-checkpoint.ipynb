{
 "cells": [
  {
   "cell_type": "code",
   "execution_count": null,
   "metadata": {},
   "outputs": [],
   "source": [
    "import numpy as np\n",
    "import matplotlib.pyplot as plt\n",
    "def reconstruct_with_sinc(ts,fd,t):\n",
    "    n, = ts.shape\n",
    "    dt = ts[1] - ts[0]\n",
    "    fr = []\n",
    "    for k,ti in enumerate(t):\n",
    "        # for each time point\n",
    "        sumf = 0.0\n",
    "        for i in range(n):\n",
    "            # for each point in a sampled set\n",
    "            sumf += fd[i]*np.sin(np.pi*(ti/dt-i))/(ti/dt-i)\n",
    "            \n",
    "        \n",
    "        fr.append((1./np.pi)*sumf)\n",
    "        \n",
    "    return np.asarray(fr,dtype='f')"
   ]
  },
  {
   "cell_type": "code",
   "execution_count": null,
   "metadata": {},
   "outputs": [],
   "source": [
    "if __name__ == '__main__':\n",
    "    t = np.arange(0.0,0.6,0.001)\n",
    "    fa = 1.0*np.sin(2*np.pi*10*t)+0.2*np.sin(2*np.pi*6*t)\n",
    "    fs = 10 # Hz\n",
    "    ts = np.arange(0.0,0.6,1./fs) # sampling time\n",
    "    fd = 1.0*np.sin(2*np.pi*10*ts)+0.2*np.sin(2*np.pi*6*ts) # sampled data\n",
    "    \n",
    "    \n",
    "    plt.figure()\n",
    "    fr = reconstruct_with_sinc(ts,fd,t)\n",
    "    plt.plot(t,fa,'b-',ts,fd,'ro',t,fr,'g--')\n",
    "    plt.xlabel('t [sec]')\n",
    "    plt.ylabel('y [V]')\n",
    "    plt.legend(('Original','Sampled','Reconstructed'))\n",
    "    plt.show()"
   ]
  },
  {
   "cell_type": "code",
   "execution_count": null,
   "metadata": {},
   "outputs": [],
   "source": [
    "    "
   ]
  }
 ],
 "metadata": {
  "jupytext": {
   "cell_metadata_filter": "-all",
   "notebook_metadata_filter": "-all",
   "text_representation": {
    "extension": ".py",
    "format_name": "light"
   }
  },
  "kernelspec": {
   "display_name": "flowtracks",
   "language": "python",
   "name": "flowtracks"
  },
  "language_info": {
   "codemirror_mode": {
    "name": "ipython",
    "version": 3
   },
   "file_extension": ".py",
   "mimetype": "text/x-python",
   "name": "python",
   "nbconvert_exporter": "python",
   "pygments_lexer": "ipython3",
   "version": "3.7.6"
  }
 },
 "nbformat": 4,
 "nbformat_minor": 4
}
